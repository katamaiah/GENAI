{
  "nbformat": 4,
  "nbformat_minor": 0,
  "metadata": {
    "colab": {
      "provenance": [],
      "include_colab_link": true
    },
    "kernelspec": {
      "name": "python3",
      "display_name": "Python 3"
    },
    "language_info": {
      "name": "python"
    },
    "widgets": {
      "application/vnd.jupyter.widget-state+json": {
        "497fb08d0be04b3395fa002eec704d9a": {
          "model_module": "@jupyter-widgets/controls",
          "model_name": "HBoxModel",
          "model_module_version": "1.5.0",
          "state": {
            "_dom_classes": [],
            "_model_module": "@jupyter-widgets/controls",
            "_model_module_version": "1.5.0",
            "_model_name": "HBoxModel",
            "_view_count": null,
            "_view_module": "@jupyter-widgets/controls",
            "_view_module_version": "1.5.0",
            "_view_name": "HBoxView",
            "box_style": "",
            "children": [
              "IPY_MODEL_e2d6697794a645fd86cf89aa3b1bd8c4",
              "IPY_MODEL_362c9a0b20684526a34635bd7032c989",
              "IPY_MODEL_10c9b34215eb47908201934d9764af8d"
            ],
            "layout": "IPY_MODEL_e9fca2f0d13c41309efef6804f522cca"
          }
        },
        "e2d6697794a645fd86cf89aa3b1bd8c4": {
          "model_module": "@jupyter-widgets/controls",
          "model_name": "HTMLModel",
          "model_module_version": "1.5.0",
          "state": {
            "_dom_classes": [],
            "_model_module": "@jupyter-widgets/controls",
            "_model_module_version": "1.5.0",
            "_model_name": "HTMLModel",
            "_view_count": null,
            "_view_module": "@jupyter-widgets/controls",
            "_view_module_version": "1.5.0",
            "_view_name": "HTMLView",
            "description": "",
            "description_tooltip": null,
            "layout": "IPY_MODEL_9bd96a27f1134994a85225511cd96cb5",
            "placeholder": "​",
            "style": "IPY_MODEL_c36b288de0b64ac29315182d291c9507",
            "value": "config.json: 100%"
          }
        },
        "362c9a0b20684526a34635bd7032c989": {
          "model_module": "@jupyter-widgets/controls",
          "model_name": "FloatProgressModel",
          "model_module_version": "1.5.0",
          "state": {
            "_dom_classes": [],
            "_model_module": "@jupyter-widgets/controls",
            "_model_module_version": "1.5.0",
            "_model_name": "FloatProgressModel",
            "_view_count": null,
            "_view_module": "@jupyter-widgets/controls",
            "_view_module_version": "1.5.0",
            "_view_name": "ProgressView",
            "bar_style": "success",
            "description": "",
            "description_tooltip": null,
            "layout": "IPY_MODEL_84595092af8f460796efda21c1447fce",
            "max": 4609,
            "min": 0,
            "orientation": "horizontal",
            "style": "IPY_MODEL_8bf2dabfc8a84a8cb7aaf507245e585f",
            "value": 4609
          }
        },
        "10c9b34215eb47908201934d9764af8d": {
          "model_module": "@jupyter-widgets/controls",
          "model_name": "HTMLModel",
          "model_module_version": "1.5.0",
          "state": {
            "_dom_classes": [],
            "_model_module": "@jupyter-widgets/controls",
            "_model_module_version": "1.5.0",
            "_model_name": "HTMLModel",
            "_view_count": null,
            "_view_module": "@jupyter-widgets/controls",
            "_view_module_version": "1.5.0",
            "_view_name": "HTMLView",
            "description": "",
            "description_tooltip": null,
            "layout": "IPY_MODEL_428b6d09f00c45b58bebc4ea428ab749",
            "placeholder": "​",
            "style": "IPY_MODEL_c467f7bc9f80406ba13a1354f802cb11",
            "value": " 4.61k/4.61k [00:00&lt;00:00, 243kB/s]"
          }
        },
        "e9fca2f0d13c41309efef6804f522cca": {
          "model_module": "@jupyter-widgets/base",
          "model_name": "LayoutModel",
          "model_module_version": "1.2.0",
          "state": {
            "_model_module": "@jupyter-widgets/base",
            "_model_module_version": "1.2.0",
            "_model_name": "LayoutModel",
            "_view_count": null,
            "_view_module": "@jupyter-widgets/base",
            "_view_module_version": "1.2.0",
            "_view_name": "LayoutView",
            "align_content": null,
            "align_items": null,
            "align_self": null,
            "border": null,
            "bottom": null,
            "display": null,
            "flex": null,
            "flex_flow": null,
            "grid_area": null,
            "grid_auto_columns": null,
            "grid_auto_flow": null,
            "grid_auto_rows": null,
            "grid_column": null,
            "grid_gap": null,
            "grid_row": null,
            "grid_template_areas": null,
            "grid_template_columns": null,
            "grid_template_rows": null,
            "height": null,
            "justify_content": null,
            "justify_items": null,
            "left": null,
            "margin": null,
            "max_height": null,
            "max_width": null,
            "min_height": null,
            "min_width": null,
            "object_fit": null,
            "object_position": null,
            "order": null,
            "overflow": null,
            "overflow_x": null,
            "overflow_y": null,
            "padding": null,
            "right": null,
            "top": null,
            "visibility": null,
            "width": null
          }
        },
        "9bd96a27f1134994a85225511cd96cb5": {
          "model_module": "@jupyter-widgets/base",
          "model_name": "LayoutModel",
          "model_module_version": "1.2.0",
          "state": {
            "_model_module": "@jupyter-widgets/base",
            "_model_module_version": "1.2.0",
            "_model_name": "LayoutModel",
            "_view_count": null,
            "_view_module": "@jupyter-widgets/base",
            "_view_module_version": "1.2.0",
            "_view_name": "LayoutView",
            "align_content": null,
            "align_items": null,
            "align_self": null,
            "border": null,
            "bottom": null,
            "display": null,
            "flex": null,
            "flex_flow": null,
            "grid_area": null,
            "grid_auto_columns": null,
            "grid_auto_flow": null,
            "grid_auto_rows": null,
            "grid_column": null,
            "grid_gap": null,
            "grid_row": null,
            "grid_template_areas": null,
            "grid_template_columns": null,
            "grid_template_rows": null,
            "height": null,
            "justify_content": null,
            "justify_items": null,
            "left": null,
            "margin": null,
            "max_height": null,
            "max_width": null,
            "min_height": null,
            "min_width": null,
            "object_fit": null,
            "object_position": null,
            "order": null,
            "overflow": null,
            "overflow_x": null,
            "overflow_y": null,
            "padding": null,
            "right": null,
            "top": null,
            "visibility": null,
            "width": null
          }
        },
        "c36b288de0b64ac29315182d291c9507": {
          "model_module": "@jupyter-widgets/controls",
          "model_name": "DescriptionStyleModel",
          "model_module_version": "1.5.0",
          "state": {
            "_model_module": "@jupyter-widgets/controls",
            "_model_module_version": "1.5.0",
            "_model_name": "DescriptionStyleModel",
            "_view_count": null,
            "_view_module": "@jupyter-widgets/base",
            "_view_module_version": "1.2.0",
            "_view_name": "StyleView",
            "description_width": ""
          }
        },
        "84595092af8f460796efda21c1447fce": {
          "model_module": "@jupyter-widgets/base",
          "model_name": "LayoutModel",
          "model_module_version": "1.2.0",
          "state": {
            "_model_module": "@jupyter-widgets/base",
            "_model_module_version": "1.2.0",
            "_model_name": "LayoutModel",
            "_view_count": null,
            "_view_module": "@jupyter-widgets/base",
            "_view_module_version": "1.2.0",
            "_view_name": "LayoutView",
            "align_content": null,
            "align_items": null,
            "align_self": null,
            "border": null,
            "bottom": null,
            "display": null,
            "flex": null,
            "flex_flow": null,
            "grid_area": null,
            "grid_auto_columns": null,
            "grid_auto_flow": null,
            "grid_auto_rows": null,
            "grid_column": null,
            "grid_gap": null,
            "grid_row": null,
            "grid_template_areas": null,
            "grid_template_columns": null,
            "grid_template_rows": null,
            "height": null,
            "justify_content": null,
            "justify_items": null,
            "left": null,
            "margin": null,
            "max_height": null,
            "max_width": null,
            "min_height": null,
            "min_width": null,
            "object_fit": null,
            "object_position": null,
            "order": null,
            "overflow": null,
            "overflow_x": null,
            "overflow_y": null,
            "padding": null,
            "right": null,
            "top": null,
            "visibility": null,
            "width": null
          }
        },
        "8bf2dabfc8a84a8cb7aaf507245e585f": {
          "model_module": "@jupyter-widgets/controls",
          "model_name": "ProgressStyleModel",
          "model_module_version": "1.5.0",
          "state": {
            "_model_module": "@jupyter-widgets/controls",
            "_model_module_version": "1.5.0",
            "_model_name": "ProgressStyleModel",
            "_view_count": null,
            "_view_module": "@jupyter-widgets/base",
            "_view_module_version": "1.2.0",
            "_view_name": "StyleView",
            "bar_color": null,
            "description_width": ""
          }
        },
        "428b6d09f00c45b58bebc4ea428ab749": {
          "model_module": "@jupyter-widgets/base",
          "model_name": "LayoutModel",
          "model_module_version": "1.2.0",
          "state": {
            "_model_module": "@jupyter-widgets/base",
            "_model_module_version": "1.2.0",
            "_model_name": "LayoutModel",
            "_view_count": null,
            "_view_module": "@jupyter-widgets/base",
            "_view_module_version": "1.2.0",
            "_view_name": "LayoutView",
            "align_content": null,
            "align_items": null,
            "align_self": null,
            "border": null,
            "bottom": null,
            "display": null,
            "flex": null,
            "flex_flow": null,
            "grid_area": null,
            "grid_auto_columns": null,
            "grid_auto_flow": null,
            "grid_auto_rows": null,
            "grid_column": null,
            "grid_gap": null,
            "grid_row": null,
            "grid_template_areas": null,
            "grid_template_columns": null,
            "grid_template_rows": null,
            "height": null,
            "justify_content": null,
            "justify_items": null,
            "left": null,
            "margin": null,
            "max_height": null,
            "max_width": null,
            "min_height": null,
            "min_width": null,
            "object_fit": null,
            "object_position": null,
            "order": null,
            "overflow": null,
            "overflow_x": null,
            "overflow_y": null,
            "padding": null,
            "right": null,
            "top": null,
            "visibility": null,
            "width": null
          }
        },
        "c467f7bc9f80406ba13a1354f802cb11": {
          "model_module": "@jupyter-widgets/controls",
          "model_name": "DescriptionStyleModel",
          "model_module_version": "1.5.0",
          "state": {
            "_model_module": "@jupyter-widgets/controls",
            "_model_module_version": "1.5.0",
            "_model_name": "DescriptionStyleModel",
            "_view_count": null,
            "_view_module": "@jupyter-widgets/base",
            "_view_module_version": "1.2.0",
            "_view_name": "StyleView",
            "description_width": ""
          }
        },
        "e957db6f16824f0295afd3cf0d4d6dd1": {
          "model_module": "@jupyter-widgets/controls",
          "model_name": "HBoxModel",
          "model_module_version": "1.5.0",
          "state": {
            "_dom_classes": [],
            "_model_module": "@jupyter-widgets/controls",
            "_model_module_version": "1.5.0",
            "_model_name": "HBoxModel",
            "_view_count": null,
            "_view_module": "@jupyter-widgets/controls",
            "_view_module_version": "1.5.0",
            "_view_name": "HBoxView",
            "box_style": "",
            "children": [
              "IPY_MODEL_06a58e80169340cc8744f11999a5374a",
              "IPY_MODEL_d56fe53e112e467c9320cd4c202cb5eb",
              "IPY_MODEL_d8e7cb61abb640319c27362a7d15fe74"
            ],
            "layout": "IPY_MODEL_f0924a249c32421eaafab26bd0f2fb05"
          }
        },
        "06a58e80169340cc8744f11999a5374a": {
          "model_module": "@jupyter-widgets/controls",
          "model_name": "HTMLModel",
          "model_module_version": "1.5.0",
          "state": {
            "_dom_classes": [],
            "_model_module": "@jupyter-widgets/controls",
            "_model_module_version": "1.5.0",
            "_model_name": "HTMLModel",
            "_view_count": null,
            "_view_module": "@jupyter-widgets/controls",
            "_view_module_version": "1.5.0",
            "_view_name": "HTMLView",
            "description": "",
            "description_tooltip": null,
            "layout": "IPY_MODEL_dd699826ca5d4020ad1848dd07bb5235",
            "placeholder": "​",
            "style": "IPY_MODEL_6af7d7c41c434af897aa47db123b577c",
            "value": "pytorch_model.bin: 100%"
          }
        },
        "d56fe53e112e467c9320cd4c202cb5eb": {
          "model_module": "@jupyter-widgets/controls",
          "model_name": "FloatProgressModel",
          "model_module_version": "1.5.0",
          "state": {
            "_dom_classes": [],
            "_model_module": "@jupyter-widgets/controls",
            "_model_module_version": "1.5.0",
            "_model_name": "FloatProgressModel",
            "_view_count": null,
            "_view_module": "@jupyter-widgets/controls",
            "_view_module_version": "1.5.0",
            "_view_name": "ProgressView",
            "bar_style": "success",
            "description": "",
            "description_tooltip": null,
            "layout": "IPY_MODEL_3cb78f7456e54facb2a93adf77be26e8",
            "max": 982141993,
            "min": 0,
            "orientation": "horizontal",
            "style": "IPY_MODEL_7f34c8be0e3e4543aa0d0adc89fc2ec3",
            "value": 982141993
          }
        },
        "d8e7cb61abb640319c27362a7d15fe74": {
          "model_module": "@jupyter-widgets/controls",
          "model_name": "HTMLModel",
          "model_module_version": "1.5.0",
          "state": {
            "_dom_classes": [],
            "_model_module": "@jupyter-widgets/controls",
            "_model_module_version": "1.5.0",
            "_model_name": "HTMLModel",
            "_view_count": null,
            "_view_module": "@jupyter-widgets/controls",
            "_view_module_version": "1.5.0",
            "_view_name": "HTMLView",
            "description": "",
            "description_tooltip": null,
            "layout": "IPY_MODEL_cc863817b8be402a9d393e263c469028",
            "placeholder": "​",
            "style": "IPY_MODEL_e93884c1445649679281b2616a5432f8",
            "value": " 982M/982M [00:07&lt;00:00, 126MB/s]"
          }
        },
        "f0924a249c32421eaafab26bd0f2fb05": {
          "model_module": "@jupyter-widgets/base",
          "model_name": "LayoutModel",
          "model_module_version": "1.2.0",
          "state": {
            "_model_module": "@jupyter-widgets/base",
            "_model_module_version": "1.2.0",
            "_model_name": "LayoutModel",
            "_view_count": null,
            "_view_module": "@jupyter-widgets/base",
            "_view_module_version": "1.2.0",
            "_view_name": "LayoutView",
            "align_content": null,
            "align_items": null,
            "align_self": null,
            "border": null,
            "bottom": null,
            "display": null,
            "flex": null,
            "flex_flow": null,
            "grid_area": null,
            "grid_auto_columns": null,
            "grid_auto_flow": null,
            "grid_auto_rows": null,
            "grid_column": null,
            "grid_gap": null,
            "grid_row": null,
            "grid_template_areas": null,
            "grid_template_columns": null,
            "grid_template_rows": null,
            "height": null,
            "justify_content": null,
            "justify_items": null,
            "left": null,
            "margin": null,
            "max_height": null,
            "max_width": null,
            "min_height": null,
            "min_width": null,
            "object_fit": null,
            "object_position": null,
            "order": null,
            "overflow": null,
            "overflow_x": null,
            "overflow_y": null,
            "padding": null,
            "right": null,
            "top": null,
            "visibility": null,
            "width": null
          }
        },
        "dd699826ca5d4020ad1848dd07bb5235": {
          "model_module": "@jupyter-widgets/base",
          "model_name": "LayoutModel",
          "model_module_version": "1.2.0",
          "state": {
            "_model_module": "@jupyter-widgets/base",
            "_model_module_version": "1.2.0",
            "_model_name": "LayoutModel",
            "_view_count": null,
            "_view_module": "@jupyter-widgets/base",
            "_view_module_version": "1.2.0",
            "_view_name": "LayoutView",
            "align_content": null,
            "align_items": null,
            "align_self": null,
            "border": null,
            "bottom": null,
            "display": null,
            "flex": null,
            "flex_flow": null,
            "grid_area": null,
            "grid_auto_columns": null,
            "grid_auto_flow": null,
            "grid_auto_rows": null,
            "grid_column": null,
            "grid_gap": null,
            "grid_row": null,
            "grid_template_areas": null,
            "grid_template_columns": null,
            "grid_template_rows": null,
            "height": null,
            "justify_content": null,
            "justify_items": null,
            "left": null,
            "margin": null,
            "max_height": null,
            "max_width": null,
            "min_height": null,
            "min_width": null,
            "object_fit": null,
            "object_position": null,
            "order": null,
            "overflow": null,
            "overflow_x": null,
            "overflow_y": null,
            "padding": null,
            "right": null,
            "top": null,
            "visibility": null,
            "width": null
          }
        },
        "6af7d7c41c434af897aa47db123b577c": {
          "model_module": "@jupyter-widgets/controls",
          "model_name": "DescriptionStyleModel",
          "model_module_version": "1.5.0",
          "state": {
            "_model_module": "@jupyter-widgets/controls",
            "_model_module_version": "1.5.0",
            "_model_name": "DescriptionStyleModel",
            "_view_count": null,
            "_view_module": "@jupyter-widgets/base",
            "_view_module_version": "1.2.0",
            "_view_name": "StyleView",
            "description_width": ""
          }
        },
        "3cb78f7456e54facb2a93adf77be26e8": {
          "model_module": "@jupyter-widgets/base",
          "model_name": "LayoutModel",
          "model_module_version": "1.2.0",
          "state": {
            "_model_module": "@jupyter-widgets/base",
            "_model_module_version": "1.2.0",
            "_model_name": "LayoutModel",
            "_view_count": null,
            "_view_module": "@jupyter-widgets/base",
            "_view_module_version": "1.2.0",
            "_view_name": "LayoutView",
            "align_content": null,
            "align_items": null,
            "align_self": null,
            "border": null,
            "bottom": null,
            "display": null,
            "flex": null,
            "flex_flow": null,
            "grid_area": null,
            "grid_auto_columns": null,
            "grid_auto_flow": null,
            "grid_auto_rows": null,
            "grid_column": null,
            "grid_gap": null,
            "grid_row": null,
            "grid_template_areas": null,
            "grid_template_columns": null,
            "grid_template_rows": null,
            "height": null,
            "justify_content": null,
            "justify_items": null,
            "left": null,
            "margin": null,
            "max_height": null,
            "max_width": null,
            "min_height": null,
            "min_width": null,
            "object_fit": null,
            "object_position": null,
            "order": null,
            "overflow": null,
            "overflow_x": null,
            "overflow_y": null,
            "padding": null,
            "right": null,
            "top": null,
            "visibility": null,
            "width": null
          }
        },
        "7f34c8be0e3e4543aa0d0adc89fc2ec3": {
          "model_module": "@jupyter-widgets/controls",
          "model_name": "ProgressStyleModel",
          "model_module_version": "1.5.0",
          "state": {
            "_model_module": "@jupyter-widgets/controls",
            "_model_module_version": "1.5.0",
            "_model_name": "ProgressStyleModel",
            "_view_count": null,
            "_view_module": "@jupyter-widgets/base",
            "_view_module_version": "1.2.0",
            "_view_name": "StyleView",
            "bar_color": null,
            "description_width": ""
          }
        },
        "cc863817b8be402a9d393e263c469028": {
          "model_module": "@jupyter-widgets/base",
          "model_name": "LayoutModel",
          "model_module_version": "1.2.0",
          "state": {
            "_model_module": "@jupyter-widgets/base",
            "_model_module_version": "1.2.0",
            "_model_name": "LayoutModel",
            "_view_count": null,
            "_view_module": "@jupyter-widgets/base",
            "_view_module_version": "1.2.0",
            "_view_name": "LayoutView",
            "align_content": null,
            "align_items": null,
            "align_self": null,
            "border": null,
            "bottom": null,
            "display": null,
            "flex": null,
            "flex_flow": null,
            "grid_area": null,
            "grid_auto_columns": null,
            "grid_auto_flow": null,
            "grid_auto_rows": null,
            "grid_column": null,
            "grid_gap": null,
            "grid_row": null,
            "grid_template_areas": null,
            "grid_template_columns": null,
            "grid_template_rows": null,
            "height": null,
            "justify_content": null,
            "justify_items": null,
            "left": null,
            "margin": null,
            "max_height": null,
            "max_width": null,
            "min_height": null,
            "min_width": null,
            "object_fit": null,
            "object_position": null,
            "order": null,
            "overflow": null,
            "overflow_x": null,
            "overflow_y": null,
            "padding": null,
            "right": null,
            "top": null,
            "visibility": null,
            "width": null
          }
        },
        "e93884c1445649679281b2616a5432f8": {
          "model_module": "@jupyter-widgets/controls",
          "model_name": "DescriptionStyleModel",
          "model_module_version": "1.5.0",
          "state": {
            "_model_module": "@jupyter-widgets/controls",
            "_model_module_version": "1.5.0",
            "_model_name": "DescriptionStyleModel",
            "_view_count": null,
            "_view_module": "@jupyter-widgets/base",
            "_view_module_version": "1.2.0",
            "_view_name": "StyleView",
            "description_width": ""
          }
        },
        "4cadba6504e64bd59e0c6c9406443687": {
          "model_module": "@jupyter-widgets/controls",
          "model_name": "HBoxModel",
          "model_module_version": "1.5.0",
          "state": {
            "_dom_classes": [],
            "_model_module": "@jupyter-widgets/controls",
            "_model_module_version": "1.5.0",
            "_model_name": "HBoxModel",
            "_view_count": null,
            "_view_module": "@jupyter-widgets/controls",
            "_view_module_version": "1.5.0",
            "_view_name": "HBoxView",
            "box_style": "",
            "children": [
              "IPY_MODEL_cd858043798a43e3ab68341519793c9b",
              "IPY_MODEL_e78bfbb3585e4cdabaeac39d64224b94",
              "IPY_MODEL_9997eb81c068406a9b5544bd76a49b87"
            ],
            "layout": "IPY_MODEL_8e298e926f8a4db4a74095612ceffa30"
          }
        },
        "cd858043798a43e3ab68341519793c9b": {
          "model_module": "@jupyter-widgets/controls",
          "model_name": "HTMLModel",
          "model_module_version": "1.5.0",
          "state": {
            "_dom_classes": [],
            "_model_module": "@jupyter-widgets/controls",
            "_model_module_version": "1.5.0",
            "_model_name": "HTMLModel",
            "_view_count": null,
            "_view_module": "@jupyter-widgets/controls",
            "_view_module_version": "1.5.0",
            "_view_name": "HTMLView",
            "description": "",
            "description_tooltip": null,
            "layout": "IPY_MODEL_c8be22f7c93643448e992fd4f3786cbc",
            "placeholder": "​",
            "style": "IPY_MODEL_ca84e3ceddfa4b1788103465b7b5762e",
            "value": "preprocessor_config.json: 100%"
          }
        },
        "e78bfbb3585e4cdabaeac39d64224b94": {
          "model_module": "@jupyter-widgets/controls",
          "model_name": "FloatProgressModel",
          "model_module_version": "1.5.0",
          "state": {
            "_dom_classes": [],
            "_model_module": "@jupyter-widgets/controls",
            "_model_module_version": "1.5.0",
            "_model_name": "FloatProgressModel",
            "_view_count": null,
            "_view_module": "@jupyter-widgets/controls",
            "_view_module_version": "1.5.0",
            "_view_name": "ProgressView",
            "bar_style": "success",
            "description": "",
            "description_tooltip": null,
            "layout": "IPY_MODEL_d1977e84ea634ccc92b3b8e791949efe",
            "max": 228,
            "min": 0,
            "orientation": "horizontal",
            "style": "IPY_MODEL_fb9f1ec87dd548cab0018eb2eb24ae9f",
            "value": 228
          }
        },
        "9997eb81c068406a9b5544bd76a49b87": {
          "model_module": "@jupyter-widgets/controls",
          "model_name": "HTMLModel",
          "model_module_version": "1.5.0",
          "state": {
            "_dom_classes": [],
            "_model_module": "@jupyter-widgets/controls",
            "_model_module_version": "1.5.0",
            "_model_name": "HTMLModel",
            "_view_count": null,
            "_view_module": "@jupyter-widgets/controls",
            "_view_module_version": "1.5.0",
            "_view_name": "HTMLView",
            "description": "",
            "description_tooltip": null,
            "layout": "IPY_MODEL_e4e287cf5a83480cb0d8e19b9a4f5114",
            "placeholder": "​",
            "style": "IPY_MODEL_56b932140ced4b69b4311db19e20fea9",
            "value": " 228/228 [00:00&lt;00:00, 3.58kB/s]"
          }
        },
        "8e298e926f8a4db4a74095612ceffa30": {
          "model_module": "@jupyter-widgets/base",
          "model_name": "LayoutModel",
          "model_module_version": "1.2.0",
          "state": {
            "_model_module": "@jupyter-widgets/base",
            "_model_module_version": "1.2.0",
            "_model_name": "LayoutModel",
            "_view_count": null,
            "_view_module": "@jupyter-widgets/base",
            "_view_module_version": "1.2.0",
            "_view_name": "LayoutView",
            "align_content": null,
            "align_items": null,
            "align_self": null,
            "border": null,
            "bottom": null,
            "display": null,
            "flex": null,
            "flex_flow": null,
            "grid_area": null,
            "grid_auto_columns": null,
            "grid_auto_flow": null,
            "grid_auto_rows": null,
            "grid_column": null,
            "grid_gap": null,
            "grid_row": null,
            "grid_template_areas": null,
            "grid_template_columns": null,
            "grid_template_rows": null,
            "height": null,
            "justify_content": null,
            "justify_items": null,
            "left": null,
            "margin": null,
            "max_height": null,
            "max_width": null,
            "min_height": null,
            "min_width": null,
            "object_fit": null,
            "object_position": null,
            "order": null,
            "overflow": null,
            "overflow_x": null,
            "overflow_y": null,
            "padding": null,
            "right": null,
            "top": null,
            "visibility": null,
            "width": null
          }
        },
        "c8be22f7c93643448e992fd4f3786cbc": {
          "model_module": "@jupyter-widgets/base",
          "model_name": "LayoutModel",
          "model_module_version": "1.2.0",
          "state": {
            "_model_module": "@jupyter-widgets/base",
            "_model_module_version": "1.2.0",
            "_model_name": "LayoutModel",
            "_view_count": null,
            "_view_module": "@jupyter-widgets/base",
            "_view_module_version": "1.2.0",
            "_view_name": "LayoutView",
            "align_content": null,
            "align_items": null,
            "align_self": null,
            "border": null,
            "bottom": null,
            "display": null,
            "flex": null,
            "flex_flow": null,
            "grid_area": null,
            "grid_auto_columns": null,
            "grid_auto_flow": null,
            "grid_auto_rows": null,
            "grid_column": null,
            "grid_gap": null,
            "grid_row": null,
            "grid_template_areas": null,
            "grid_template_columns": null,
            "grid_template_rows": null,
            "height": null,
            "justify_content": null,
            "justify_items": null,
            "left": null,
            "margin": null,
            "max_height": null,
            "max_width": null,
            "min_height": null,
            "min_width": null,
            "object_fit": null,
            "object_position": null,
            "order": null,
            "overflow": null,
            "overflow_x": null,
            "overflow_y": null,
            "padding": null,
            "right": null,
            "top": null,
            "visibility": null,
            "width": null
          }
        },
        "ca84e3ceddfa4b1788103465b7b5762e": {
          "model_module": "@jupyter-widgets/controls",
          "model_name": "DescriptionStyleModel",
          "model_module_version": "1.5.0",
          "state": {
            "_model_module": "@jupyter-widgets/controls",
            "_model_module_version": "1.5.0",
            "_model_name": "DescriptionStyleModel",
            "_view_count": null,
            "_view_module": "@jupyter-widgets/base",
            "_view_module_version": "1.2.0",
            "_view_name": "StyleView",
            "description_width": ""
          }
        },
        "d1977e84ea634ccc92b3b8e791949efe": {
          "model_module": "@jupyter-widgets/base",
          "model_name": "LayoutModel",
          "model_module_version": "1.2.0",
          "state": {
            "_model_module": "@jupyter-widgets/base",
            "_model_module_version": "1.2.0",
            "_model_name": "LayoutModel",
            "_view_count": null,
            "_view_module": "@jupyter-widgets/base",
            "_view_module_version": "1.2.0",
            "_view_name": "LayoutView",
            "align_content": null,
            "align_items": null,
            "align_self": null,
            "border": null,
            "bottom": null,
            "display": null,
            "flex": null,
            "flex_flow": null,
            "grid_area": null,
            "grid_auto_columns": null,
            "grid_auto_flow": null,
            "grid_auto_rows": null,
            "grid_column": null,
            "grid_gap": null,
            "grid_row": null,
            "grid_template_areas": null,
            "grid_template_columns": null,
            "grid_template_rows": null,
            "height": null,
            "justify_content": null,
            "justify_items": null,
            "left": null,
            "margin": null,
            "max_height": null,
            "max_width": null,
            "min_height": null,
            "min_width": null,
            "object_fit": null,
            "object_position": null,
            "order": null,
            "overflow": null,
            "overflow_x": null,
            "overflow_y": null,
            "padding": null,
            "right": null,
            "top": null,
            "visibility": null,
            "width": null
          }
        },
        "fb9f1ec87dd548cab0018eb2eb24ae9f": {
          "model_module": "@jupyter-widgets/controls",
          "model_name": "ProgressStyleModel",
          "model_module_version": "1.5.0",
          "state": {
            "_model_module": "@jupyter-widgets/controls",
            "_model_module_version": "1.5.0",
            "_model_name": "ProgressStyleModel",
            "_view_count": null,
            "_view_module": "@jupyter-widgets/base",
            "_view_module_version": "1.2.0",
            "_view_name": "StyleView",
            "bar_color": null,
            "description_width": ""
          }
        },
        "e4e287cf5a83480cb0d8e19b9a4f5114": {
          "model_module": "@jupyter-widgets/base",
          "model_name": "LayoutModel",
          "model_module_version": "1.2.0",
          "state": {
            "_model_module": "@jupyter-widgets/base",
            "_model_module_version": "1.2.0",
            "_model_name": "LayoutModel",
            "_view_count": null,
            "_view_module": "@jupyter-widgets/base",
            "_view_module_version": "1.2.0",
            "_view_name": "LayoutView",
            "align_content": null,
            "align_items": null,
            "align_self": null,
            "border": null,
            "bottom": null,
            "display": null,
            "flex": null,
            "flex_flow": null,
            "grid_area": null,
            "grid_auto_columns": null,
            "grid_auto_flow": null,
            "grid_auto_rows": null,
            "grid_column": null,
            "grid_gap": null,
            "grid_row": null,
            "grid_template_areas": null,
            "grid_template_columns": null,
            "grid_template_rows": null,
            "height": null,
            "justify_content": null,
            "justify_items": null,
            "left": null,
            "margin": null,
            "max_height": null,
            "max_width": null,
            "min_height": null,
            "min_width": null,
            "object_fit": null,
            "object_position": null,
            "order": null,
            "overflow": null,
            "overflow_x": null,
            "overflow_y": null,
            "padding": null,
            "right": null,
            "top": null,
            "visibility": null,
            "width": null
          }
        },
        "56b932140ced4b69b4311db19e20fea9": {
          "model_module": "@jupyter-widgets/controls",
          "model_name": "DescriptionStyleModel",
          "model_module_version": "1.5.0",
          "state": {
            "_model_module": "@jupyter-widgets/controls",
            "_model_module_version": "1.5.0",
            "_model_name": "DescriptionStyleModel",
            "_view_count": null,
            "_view_module": "@jupyter-widgets/base",
            "_view_module_version": "1.2.0",
            "_view_name": "StyleView",
            "description_width": ""
          }
        },
        "942ff518595844cd967c1865958b23aa": {
          "model_module": "@jupyter-widgets/controls",
          "model_name": "HBoxModel",
          "model_module_version": "1.5.0",
          "state": {
            "_dom_classes": [],
            "_model_module": "@jupyter-widgets/controls",
            "_model_module_version": "1.5.0",
            "_model_name": "HBoxModel",
            "_view_count": null,
            "_view_module": "@jupyter-widgets/controls",
            "_view_module_version": "1.5.0",
            "_view_name": "HBoxView",
            "box_style": "",
            "children": [
              "IPY_MODEL_80905bfd758143468d8892172dc87154",
              "IPY_MODEL_85097fa98e4c4f68b56b68005822f291",
              "IPY_MODEL_f7a926c0d5f54508a977f3f9b58308d2"
            ],
            "layout": "IPY_MODEL_cea14406de6f45849250fa4f913bdfce"
          }
        },
        "80905bfd758143468d8892172dc87154": {
          "model_module": "@jupyter-widgets/controls",
          "model_name": "HTMLModel",
          "model_module_version": "1.5.0",
          "state": {
            "_dom_classes": [],
            "_model_module": "@jupyter-widgets/controls",
            "_model_module_version": "1.5.0",
            "_model_name": "HTMLModel",
            "_view_count": null,
            "_view_module": "@jupyter-widgets/controls",
            "_view_module_version": "1.5.0",
            "_view_name": "HTMLView",
            "description": "",
            "description_tooltip": null,
            "layout": "IPY_MODEL_9ef7db57eef446b8b614aa3ddc91782c",
            "placeholder": "​",
            "style": "IPY_MODEL_1d9c73e777b9413683298ea0a1b198be",
            "value": "tokenizer_config.json: 100%"
          }
        },
        "85097fa98e4c4f68b56b68005822f291": {
          "model_module": "@jupyter-widgets/controls",
          "model_name": "FloatProgressModel",
          "model_module_version": "1.5.0",
          "state": {
            "_dom_classes": [],
            "_model_module": "@jupyter-widgets/controls",
            "_model_module_version": "1.5.0",
            "_model_name": "FloatProgressModel",
            "_view_count": null,
            "_view_module": "@jupyter-widgets/controls",
            "_view_module_version": "1.5.0",
            "_view_name": "ProgressView",
            "bar_style": "success",
            "description": "",
            "description_tooltip": null,
            "layout": "IPY_MODEL_b4f8023cedb84275ab0920f0f9f50834",
            "max": 241,
            "min": 0,
            "orientation": "horizontal",
            "style": "IPY_MODEL_322275b1bef8428e89549b7fa5365f68",
            "value": 241
          }
        },
        "f7a926c0d5f54508a977f3f9b58308d2": {
          "model_module": "@jupyter-widgets/controls",
          "model_name": "HTMLModel",
          "model_module_version": "1.5.0",
          "state": {
            "_dom_classes": [],
            "_model_module": "@jupyter-widgets/controls",
            "_model_module_version": "1.5.0",
            "_model_name": "HTMLModel",
            "_view_count": null,
            "_view_module": "@jupyter-widgets/controls",
            "_view_module_version": "1.5.0",
            "_view_name": "HTMLView",
            "description": "",
            "description_tooltip": null,
            "layout": "IPY_MODEL_6d7d405f90284ed4b1d817a05d08b849",
            "placeholder": "​",
            "style": "IPY_MODEL_7018eda1c3b344bf988bc56b2f49921e",
            "value": " 241/241 [00:00&lt;00:00, 2.65kB/s]"
          }
        },
        "cea14406de6f45849250fa4f913bdfce": {
          "model_module": "@jupyter-widgets/base",
          "model_name": "LayoutModel",
          "model_module_version": "1.2.0",
          "state": {
            "_model_module": "@jupyter-widgets/base",
            "_model_module_version": "1.2.0",
            "_model_name": "LayoutModel",
            "_view_count": null,
            "_view_module": "@jupyter-widgets/base",
            "_view_module_version": "1.2.0",
            "_view_name": "LayoutView",
            "align_content": null,
            "align_items": null,
            "align_self": null,
            "border": null,
            "bottom": null,
            "display": null,
            "flex": null,
            "flex_flow": null,
            "grid_area": null,
            "grid_auto_columns": null,
            "grid_auto_flow": null,
            "grid_auto_rows": null,
            "grid_column": null,
            "grid_gap": null,
            "grid_row": null,
            "grid_template_areas": null,
            "grid_template_columns": null,
            "grid_template_rows": null,
            "height": null,
            "justify_content": null,
            "justify_items": null,
            "left": null,
            "margin": null,
            "max_height": null,
            "max_width": null,
            "min_height": null,
            "min_width": null,
            "object_fit": null,
            "object_position": null,
            "order": null,
            "overflow": null,
            "overflow_x": null,
            "overflow_y": null,
            "padding": null,
            "right": null,
            "top": null,
            "visibility": null,
            "width": null
          }
        },
        "9ef7db57eef446b8b614aa3ddc91782c": {
          "model_module": "@jupyter-widgets/base",
          "model_name": "LayoutModel",
          "model_module_version": "1.2.0",
          "state": {
            "_model_module": "@jupyter-widgets/base",
            "_model_module_version": "1.2.0",
            "_model_name": "LayoutModel",
            "_view_count": null,
            "_view_module": "@jupyter-widgets/base",
            "_view_module_version": "1.2.0",
            "_view_name": "LayoutView",
            "align_content": null,
            "align_items": null,
            "align_self": null,
            "border": null,
            "bottom": null,
            "display": null,
            "flex": null,
            "flex_flow": null,
            "grid_area": null,
            "grid_auto_columns": null,
            "grid_auto_flow": null,
            "grid_auto_rows": null,
            "grid_column": null,
            "grid_gap": null,
            "grid_row": null,
            "grid_template_areas": null,
            "grid_template_columns": null,
            "grid_template_rows": null,
            "height": null,
            "justify_content": null,
            "justify_items": null,
            "left": null,
            "margin": null,
            "max_height": null,
            "max_width": null,
            "min_height": null,
            "min_width": null,
            "object_fit": null,
            "object_position": null,
            "order": null,
            "overflow": null,
            "overflow_x": null,
            "overflow_y": null,
            "padding": null,
            "right": null,
            "top": null,
            "visibility": null,
            "width": null
          }
        },
        "1d9c73e777b9413683298ea0a1b198be": {
          "model_module": "@jupyter-widgets/controls",
          "model_name": "DescriptionStyleModel",
          "model_module_version": "1.5.0",
          "state": {
            "_model_module": "@jupyter-widgets/controls",
            "_model_module_version": "1.5.0",
            "_model_name": "DescriptionStyleModel",
            "_view_count": null,
            "_view_module": "@jupyter-widgets/base",
            "_view_module_version": "1.2.0",
            "_view_name": "StyleView",
            "description_width": ""
          }
        },
        "b4f8023cedb84275ab0920f0f9f50834": {
          "model_module": "@jupyter-widgets/base",
          "model_name": "LayoutModel",
          "model_module_version": "1.2.0",
          "state": {
            "_model_module": "@jupyter-widgets/base",
            "_model_module_version": "1.2.0",
            "_model_name": "LayoutModel",
            "_view_count": null,
            "_view_module": "@jupyter-widgets/base",
            "_view_module_version": "1.2.0",
            "_view_name": "LayoutView",
            "align_content": null,
            "align_items": null,
            "align_self": null,
            "border": null,
            "bottom": null,
            "display": null,
            "flex": null,
            "flex_flow": null,
            "grid_area": null,
            "grid_auto_columns": null,
            "grid_auto_flow": null,
            "grid_auto_rows": null,
            "grid_column": null,
            "grid_gap": null,
            "grid_row": null,
            "grid_template_areas": null,
            "grid_template_columns": null,
            "grid_template_rows": null,
            "height": null,
            "justify_content": null,
            "justify_items": null,
            "left": null,
            "margin": null,
            "max_height": null,
            "max_width": null,
            "min_height": null,
            "min_width": null,
            "object_fit": null,
            "object_position": null,
            "order": null,
            "overflow": null,
            "overflow_x": null,
            "overflow_y": null,
            "padding": null,
            "right": null,
            "top": null,
            "visibility": null,
            "width": null
          }
        },
        "322275b1bef8428e89549b7fa5365f68": {
          "model_module": "@jupyter-widgets/controls",
          "model_name": "ProgressStyleModel",
          "model_module_version": "1.5.0",
          "state": {
            "_model_module": "@jupyter-widgets/controls",
            "_model_module_version": "1.5.0",
            "_model_name": "ProgressStyleModel",
            "_view_count": null,
            "_view_module": "@jupyter-widgets/base",
            "_view_module_version": "1.2.0",
            "_view_name": "StyleView",
            "bar_color": null,
            "description_width": ""
          }
        },
        "6d7d405f90284ed4b1d817a05d08b849": {
          "model_module": "@jupyter-widgets/base",
          "model_name": "LayoutModel",
          "model_module_version": "1.2.0",
          "state": {
            "_model_module": "@jupyter-widgets/base",
            "_model_module_version": "1.2.0",
            "_model_name": "LayoutModel",
            "_view_count": null,
            "_view_module": "@jupyter-widgets/base",
            "_view_module_version": "1.2.0",
            "_view_name": "LayoutView",
            "align_content": null,
            "align_items": null,
            "align_self": null,
            "border": null,
            "bottom": null,
            "display": null,
            "flex": null,
            "flex_flow": null,
            "grid_area": null,
            "grid_auto_columns": null,
            "grid_auto_flow": null,
            "grid_auto_rows": null,
            "grid_column": null,
            "grid_gap": null,
            "grid_row": null,
            "grid_template_areas": null,
            "grid_template_columns": null,
            "grid_template_rows": null,
            "height": null,
            "justify_content": null,
            "justify_items": null,
            "left": null,
            "margin": null,
            "max_height": null,
            "max_width": null,
            "min_height": null,
            "min_width": null,
            "object_fit": null,
            "object_position": null,
            "order": null,
            "overflow": null,
            "overflow_x": null,
            "overflow_y": null,
            "padding": null,
            "right": null,
            "top": null,
            "visibility": null,
            "width": null
          }
        },
        "7018eda1c3b344bf988bc56b2f49921e": {
          "model_module": "@jupyter-widgets/controls",
          "model_name": "DescriptionStyleModel",
          "model_module_version": "1.5.0",
          "state": {
            "_model_module": "@jupyter-widgets/controls",
            "_model_module_version": "1.5.0",
            "_model_name": "DescriptionStyleModel",
            "_view_count": null,
            "_view_module": "@jupyter-widgets/base",
            "_view_module_version": "1.2.0",
            "_view_name": "StyleView",
            "description_width": ""
          }
        },
        "07b44d990cbb424e95d243290f821680": {
          "model_module": "@jupyter-widgets/controls",
          "model_name": "HBoxModel",
          "model_module_version": "1.5.0",
          "state": {
            "_dom_classes": [],
            "_model_module": "@jupyter-widgets/controls",
            "_model_module_version": "1.5.0",
            "_model_name": "HBoxModel",
            "_view_count": null,
            "_view_module": "@jupyter-widgets/controls",
            "_view_module_version": "1.5.0",
            "_view_name": "HBoxView",
            "box_style": "",
            "children": [
              "IPY_MODEL_3c459fea32a24a5bbf0d1b47092cbdc6",
              "IPY_MODEL_9e2baf118a154c649f587bdc16dc3fb0",
              "IPY_MODEL_623ccc3a17bb432cad892cb7a0a5d4bc"
            ],
            "layout": "IPY_MODEL_307ccb61fbb648e3937054b2c484c191"
          }
        },
        "3c459fea32a24a5bbf0d1b47092cbdc6": {
          "model_module": "@jupyter-widgets/controls",
          "model_name": "HTMLModel",
          "model_module_version": "1.5.0",
          "state": {
            "_dom_classes": [],
            "_model_module": "@jupyter-widgets/controls",
            "_model_module_version": "1.5.0",
            "_model_name": "HTMLModel",
            "_view_count": null,
            "_view_module": "@jupyter-widgets/controls",
            "_view_module_version": "1.5.0",
            "_view_name": "HTMLView",
            "description": "",
            "description_tooltip": null,
            "layout": "IPY_MODEL_71c65b98dfab4c17a1c45d0bbcc514a2",
            "placeholder": "​",
            "style": "IPY_MODEL_5c5f313a296843cda7a1602fd35e39b2",
            "value": "vocab.json: 100%"
          }
        },
        "9e2baf118a154c649f587bdc16dc3fb0": {
          "model_module": "@jupyter-widgets/controls",
          "model_name": "FloatProgressModel",
          "model_module_version": "1.5.0",
          "state": {
            "_dom_classes": [],
            "_model_module": "@jupyter-widgets/controls",
            "_model_module_version": "1.5.0",
            "_model_name": "FloatProgressModel",
            "_view_count": null,
            "_view_module": "@jupyter-widgets/controls",
            "_view_module_version": "1.5.0",
            "_view_name": "ProgressView",
            "bar_style": "success",
            "description": "",
            "description_tooltip": null,
            "layout": "IPY_MODEL_c8984952aa6340d89193431f9a188319",
            "max": 798156,
            "min": 0,
            "orientation": "horizontal",
            "style": "IPY_MODEL_0bdc1b8348aa466699d41aceed13edda",
            "value": 798156
          }
        },
        "623ccc3a17bb432cad892cb7a0a5d4bc": {
          "model_module": "@jupyter-widgets/controls",
          "model_name": "HTMLModel",
          "model_module_version": "1.5.0",
          "state": {
            "_dom_classes": [],
            "_model_module": "@jupyter-widgets/controls",
            "_model_module_version": "1.5.0",
            "_model_name": "HTMLModel",
            "_view_count": null,
            "_view_module": "@jupyter-widgets/controls",
            "_view_module_version": "1.5.0",
            "_view_name": "HTMLView",
            "description": "",
            "description_tooltip": null,
            "layout": "IPY_MODEL_448c4bac1bab4860b8f17ed6f9b08d72",
            "placeholder": "​",
            "style": "IPY_MODEL_371ae3a7867a47fc894a76f0b1892794",
            "value": " 798k/798k [00:00&lt;00:00, 5.39MB/s]"
          }
        },
        "307ccb61fbb648e3937054b2c484c191": {
          "model_module": "@jupyter-widgets/base",
          "model_name": "LayoutModel",
          "model_module_version": "1.2.0",
          "state": {
            "_model_module": "@jupyter-widgets/base",
            "_model_module_version": "1.2.0",
            "_model_name": "LayoutModel",
            "_view_count": null,
            "_view_module": "@jupyter-widgets/base",
            "_view_module_version": "1.2.0",
            "_view_name": "LayoutView",
            "align_content": null,
            "align_items": null,
            "align_self": null,
            "border": null,
            "bottom": null,
            "display": null,
            "flex": null,
            "flex_flow": null,
            "grid_area": null,
            "grid_auto_columns": null,
            "grid_auto_flow": null,
            "grid_auto_rows": null,
            "grid_column": null,
            "grid_gap": null,
            "grid_row": null,
            "grid_template_areas": null,
            "grid_template_columns": null,
            "grid_template_rows": null,
            "height": null,
            "justify_content": null,
            "justify_items": null,
            "left": null,
            "margin": null,
            "max_height": null,
            "max_width": null,
            "min_height": null,
            "min_width": null,
            "object_fit": null,
            "object_position": null,
            "order": null,
            "overflow": null,
            "overflow_x": null,
            "overflow_y": null,
            "padding": null,
            "right": null,
            "top": null,
            "visibility": null,
            "width": null
          }
        },
        "71c65b98dfab4c17a1c45d0bbcc514a2": {
          "model_module": "@jupyter-widgets/base",
          "model_name": "LayoutModel",
          "model_module_version": "1.2.0",
          "state": {
            "_model_module": "@jupyter-widgets/base",
            "_model_module_version": "1.2.0",
            "_model_name": "LayoutModel",
            "_view_count": null,
            "_view_module": "@jupyter-widgets/base",
            "_view_module_version": "1.2.0",
            "_view_name": "LayoutView",
            "align_content": null,
            "align_items": null,
            "align_self": null,
            "border": null,
            "bottom": null,
            "display": null,
            "flex": null,
            "flex_flow": null,
            "grid_area": null,
            "grid_auto_columns": null,
            "grid_auto_flow": null,
            "grid_auto_rows": null,
            "grid_column": null,
            "grid_gap": null,
            "grid_row": null,
            "grid_template_areas": null,
            "grid_template_columns": null,
            "grid_template_rows": null,
            "height": null,
            "justify_content": null,
            "justify_items": null,
            "left": null,
            "margin": null,
            "max_height": null,
            "max_width": null,
            "min_height": null,
            "min_width": null,
            "object_fit": null,
            "object_position": null,
            "order": null,
            "overflow": null,
            "overflow_x": null,
            "overflow_y": null,
            "padding": null,
            "right": null,
            "top": null,
            "visibility": null,
            "width": null
          }
        },
        "5c5f313a296843cda7a1602fd35e39b2": {
          "model_module": "@jupyter-widgets/controls",
          "model_name": "DescriptionStyleModel",
          "model_module_version": "1.5.0",
          "state": {
            "_model_module": "@jupyter-widgets/controls",
            "_model_module_version": "1.5.0",
            "_model_name": "DescriptionStyleModel",
            "_view_count": null,
            "_view_module": "@jupyter-widgets/base",
            "_view_module_version": "1.2.0",
            "_view_name": "StyleView",
            "description_width": ""
          }
        },
        "c8984952aa6340d89193431f9a188319": {
          "model_module": "@jupyter-widgets/base",
          "model_name": "LayoutModel",
          "model_module_version": "1.2.0",
          "state": {
            "_model_module": "@jupyter-widgets/base",
            "_model_module_version": "1.2.0",
            "_model_name": "LayoutModel",
            "_view_count": null,
            "_view_module": "@jupyter-widgets/base",
            "_view_module_version": "1.2.0",
            "_view_name": "LayoutView",
            "align_content": null,
            "align_items": null,
            "align_self": null,
            "border": null,
            "bottom": null,
            "display": null,
            "flex": null,
            "flex_flow": null,
            "grid_area": null,
            "grid_auto_columns": null,
            "grid_auto_flow": null,
            "grid_auto_rows": null,
            "grid_column": null,
            "grid_gap": null,
            "grid_row": null,
            "grid_template_areas": null,
            "grid_template_columns": null,
            "grid_template_rows": null,
            "height": null,
            "justify_content": null,
            "justify_items": null,
            "left": null,
            "margin": null,
            "max_height": null,
            "max_width": null,
            "min_height": null,
            "min_width": null,
            "object_fit": null,
            "object_position": null,
            "order": null,
            "overflow": null,
            "overflow_x": null,
            "overflow_y": null,
            "padding": null,
            "right": null,
            "top": null,
            "visibility": null,
            "width": null
          }
        },
        "0bdc1b8348aa466699d41aceed13edda": {
          "model_module": "@jupyter-widgets/controls",
          "model_name": "ProgressStyleModel",
          "model_module_version": "1.5.0",
          "state": {
            "_model_module": "@jupyter-widgets/controls",
            "_model_module_version": "1.5.0",
            "_model_name": "ProgressStyleModel",
            "_view_count": null,
            "_view_module": "@jupyter-widgets/base",
            "_view_module_version": "1.2.0",
            "_view_name": "StyleView",
            "bar_color": null,
            "description_width": ""
          }
        },
        "448c4bac1bab4860b8f17ed6f9b08d72": {
          "model_module": "@jupyter-widgets/base",
          "model_name": "LayoutModel",
          "model_module_version": "1.2.0",
          "state": {
            "_model_module": "@jupyter-widgets/base",
            "_model_module_version": "1.2.0",
            "_model_name": "LayoutModel",
            "_view_count": null,
            "_view_module": "@jupyter-widgets/base",
            "_view_module_version": "1.2.0",
            "_view_name": "LayoutView",
            "align_content": null,
            "align_items": null,
            "align_self": null,
            "border": null,
            "bottom": null,
            "display": null,
            "flex": null,
            "flex_flow": null,
            "grid_area": null,
            "grid_auto_columns": null,
            "grid_auto_flow": null,
            "grid_auto_rows": null,
            "grid_column": null,
            "grid_gap": null,
            "grid_row": null,
            "grid_template_areas": null,
            "grid_template_columns": null,
            "grid_template_rows": null,
            "height": null,
            "justify_content": null,
            "justify_items": null,
            "left": null,
            "margin": null,
            "max_height": null,
            "max_width": null,
            "min_height": null,
            "min_width": null,
            "object_fit": null,
            "object_position": null,
            "order": null,
            "overflow": null,
            "overflow_x": null,
            "overflow_y": null,
            "padding": null,
            "right": null,
            "top": null,
            "visibility": null,
            "width": null
          }
        },
        "371ae3a7867a47fc894a76f0b1892794": {
          "model_module": "@jupyter-widgets/controls",
          "model_name": "DescriptionStyleModel",
          "model_module_version": "1.5.0",
          "state": {
            "_model_module": "@jupyter-widgets/controls",
            "_model_module_version": "1.5.0",
            "_model_name": "DescriptionStyleModel",
            "_view_count": null,
            "_view_module": "@jupyter-widgets/base",
            "_view_module_version": "1.2.0",
            "_view_name": "StyleView",
            "description_width": ""
          }
        },
        "ed5af924c64646b68167ebb9b97a2ceb": {
          "model_module": "@jupyter-widgets/controls",
          "model_name": "HBoxModel",
          "model_module_version": "1.5.0",
          "state": {
            "_dom_classes": [],
            "_model_module": "@jupyter-widgets/controls",
            "_model_module_version": "1.5.0",
            "_model_name": "HBoxModel",
            "_view_count": null,
            "_view_module": "@jupyter-widgets/controls",
            "_view_module_version": "1.5.0",
            "_view_name": "HBoxView",
            "box_style": "",
            "children": [
              "IPY_MODEL_d746ecf83eeb45d897fe111850eff4e6",
              "IPY_MODEL_82a8067ca8854426ac354425eaba0d38",
              "IPY_MODEL_db4e5d89af344ebc80877fe4c02404ff"
            ],
            "layout": "IPY_MODEL_0df674202aba4520a857788cd93b69c1"
          }
        },
        "d746ecf83eeb45d897fe111850eff4e6": {
          "model_module": "@jupyter-widgets/controls",
          "model_name": "HTMLModel",
          "model_module_version": "1.5.0",
          "state": {
            "_dom_classes": [],
            "_model_module": "@jupyter-widgets/controls",
            "_model_module_version": "1.5.0",
            "_model_name": "HTMLModel",
            "_view_count": null,
            "_view_module": "@jupyter-widgets/controls",
            "_view_module_version": "1.5.0",
            "_view_name": "HTMLView",
            "description": "",
            "description_tooltip": null,
            "layout": "IPY_MODEL_b229e1c12d9741a7af73ed285e072e0e",
            "placeholder": "​",
            "style": "IPY_MODEL_54a3d28cb35745138a3ac80b521e3892",
            "value": "merges.txt: 100%"
          }
        },
        "82a8067ca8854426ac354425eaba0d38": {
          "model_module": "@jupyter-widgets/controls",
          "model_name": "FloatProgressModel",
          "model_module_version": "1.5.0",
          "state": {
            "_dom_classes": [],
            "_model_module": "@jupyter-widgets/controls",
            "_model_module_version": "1.5.0",
            "_model_name": "FloatProgressModel",
            "_view_count": null,
            "_view_module": "@jupyter-widgets/controls",
            "_view_module_version": "1.5.0",
            "_view_name": "ProgressView",
            "bar_style": "success",
            "description": "",
            "description_tooltip": null,
            "layout": "IPY_MODEL_c981876479704624b4b7ae93a805831f",
            "max": 456356,
            "min": 0,
            "orientation": "horizontal",
            "style": "IPY_MODEL_a3ad3b867c8648b7986f8a462539eb96",
            "value": 456356
          }
        },
        "db4e5d89af344ebc80877fe4c02404ff": {
          "model_module": "@jupyter-widgets/controls",
          "model_name": "HTMLModel",
          "model_module_version": "1.5.0",
          "state": {
            "_dom_classes": [],
            "_model_module": "@jupyter-widgets/controls",
            "_model_module_version": "1.5.0",
            "_model_name": "HTMLModel",
            "_view_count": null,
            "_view_module": "@jupyter-widgets/controls",
            "_view_module_version": "1.5.0",
            "_view_name": "HTMLView",
            "description": "",
            "description_tooltip": null,
            "layout": "IPY_MODEL_e357bae0f209423cb20ea1af209ea606",
            "placeholder": "​",
            "style": "IPY_MODEL_34cc8128a8cd4f25800992efe1e0f508",
            "value": " 456k/456k [00:00&lt;00:00, 6.97MB/s]"
          }
        },
        "0df674202aba4520a857788cd93b69c1": {
          "model_module": "@jupyter-widgets/base",
          "model_name": "LayoutModel",
          "model_module_version": "1.2.0",
          "state": {
            "_model_module": "@jupyter-widgets/base",
            "_model_module_version": "1.2.0",
            "_model_name": "LayoutModel",
            "_view_count": null,
            "_view_module": "@jupyter-widgets/base",
            "_view_module_version": "1.2.0",
            "_view_name": "LayoutView",
            "align_content": null,
            "align_items": null,
            "align_self": null,
            "border": null,
            "bottom": null,
            "display": null,
            "flex": null,
            "flex_flow": null,
            "grid_area": null,
            "grid_auto_columns": null,
            "grid_auto_flow": null,
            "grid_auto_rows": null,
            "grid_column": null,
            "grid_gap": null,
            "grid_row": null,
            "grid_template_areas": null,
            "grid_template_columns": null,
            "grid_template_rows": null,
            "height": null,
            "justify_content": null,
            "justify_items": null,
            "left": null,
            "margin": null,
            "max_height": null,
            "max_width": null,
            "min_height": null,
            "min_width": null,
            "object_fit": null,
            "object_position": null,
            "order": null,
            "overflow": null,
            "overflow_x": null,
            "overflow_y": null,
            "padding": null,
            "right": null,
            "top": null,
            "visibility": null,
            "width": null
          }
        },
        "b229e1c12d9741a7af73ed285e072e0e": {
          "model_module": "@jupyter-widgets/base",
          "model_name": "LayoutModel",
          "model_module_version": "1.2.0",
          "state": {
            "_model_module": "@jupyter-widgets/base",
            "_model_module_version": "1.2.0",
            "_model_name": "LayoutModel",
            "_view_count": null,
            "_view_module": "@jupyter-widgets/base",
            "_view_module_version": "1.2.0",
            "_view_name": "LayoutView",
            "align_content": null,
            "align_items": null,
            "align_self": null,
            "border": null,
            "bottom": null,
            "display": null,
            "flex": null,
            "flex_flow": null,
            "grid_area": null,
            "grid_auto_columns": null,
            "grid_auto_flow": null,
            "grid_auto_rows": null,
            "grid_column": null,
            "grid_gap": null,
            "grid_row": null,
            "grid_template_areas": null,
            "grid_template_columns": null,
            "grid_template_rows": null,
            "height": null,
            "justify_content": null,
            "justify_items": null,
            "left": null,
            "margin": null,
            "max_height": null,
            "max_width": null,
            "min_height": null,
            "min_width": null,
            "object_fit": null,
            "object_position": null,
            "order": null,
            "overflow": null,
            "overflow_x": null,
            "overflow_y": null,
            "padding": null,
            "right": null,
            "top": null,
            "visibility": null,
            "width": null
          }
        },
        "54a3d28cb35745138a3ac80b521e3892": {
          "model_module": "@jupyter-widgets/controls",
          "model_name": "DescriptionStyleModel",
          "model_module_version": "1.5.0",
          "state": {
            "_model_module": "@jupyter-widgets/controls",
            "_model_module_version": "1.5.0",
            "_model_name": "DescriptionStyleModel",
            "_view_count": null,
            "_view_module": "@jupyter-widgets/base",
            "_view_module_version": "1.2.0",
            "_view_name": "StyleView",
            "description_width": ""
          }
        },
        "c981876479704624b4b7ae93a805831f": {
          "model_module": "@jupyter-widgets/base",
          "model_name": "LayoutModel",
          "model_module_version": "1.2.0",
          "state": {
            "_model_module": "@jupyter-widgets/base",
            "_model_module_version": "1.2.0",
            "_model_name": "LayoutModel",
            "_view_count": null,
            "_view_module": "@jupyter-widgets/base",
            "_view_module_version": "1.2.0",
            "_view_name": "LayoutView",
            "align_content": null,
            "align_items": null,
            "align_self": null,
            "border": null,
            "bottom": null,
            "display": null,
            "flex": null,
            "flex_flow": null,
            "grid_area": null,
            "grid_auto_columns": null,
            "grid_auto_flow": null,
            "grid_auto_rows": null,
            "grid_column": null,
            "grid_gap": null,
            "grid_row": null,
            "grid_template_areas": null,
            "grid_template_columns": null,
            "grid_template_rows": null,
            "height": null,
            "justify_content": null,
            "justify_items": null,
            "left": null,
            "margin": null,
            "max_height": null,
            "max_width": null,
            "min_height": null,
            "min_width": null,
            "object_fit": null,
            "object_position": null,
            "order": null,
            "overflow": null,
            "overflow_x": null,
            "overflow_y": null,
            "padding": null,
            "right": null,
            "top": null,
            "visibility": null,
            "width": null
          }
        },
        "a3ad3b867c8648b7986f8a462539eb96": {
          "model_module": "@jupyter-widgets/controls",
          "model_name": "ProgressStyleModel",
          "model_module_version": "1.5.0",
          "state": {
            "_model_module": "@jupyter-widgets/controls",
            "_model_module_version": "1.5.0",
            "_model_name": "ProgressStyleModel",
            "_view_count": null,
            "_view_module": "@jupyter-widgets/base",
            "_view_module_version": "1.2.0",
            "_view_name": "StyleView",
            "bar_color": null,
            "description_width": ""
          }
        },
        "e357bae0f209423cb20ea1af209ea606": {
          "model_module": "@jupyter-widgets/base",
          "model_name": "LayoutModel",
          "model_module_version": "1.2.0",
          "state": {
            "_model_module": "@jupyter-widgets/base",
            "_model_module_version": "1.2.0",
            "_model_name": "LayoutModel",
            "_view_count": null,
            "_view_module": "@jupyter-widgets/base",
            "_view_module_version": "1.2.0",
            "_view_name": "LayoutView",
            "align_content": null,
            "align_items": null,
            "align_self": null,
            "border": null,
            "bottom": null,
            "display": null,
            "flex": null,
            "flex_flow": null,
            "grid_area": null,
            "grid_auto_columns": null,
            "grid_auto_flow": null,
            "grid_auto_rows": null,
            "grid_column": null,
            "grid_gap": null,
            "grid_row": null,
            "grid_template_areas": null,
            "grid_template_columns": null,
            "grid_template_rows": null,
            "height": null,
            "justify_content": null,
            "justify_items": null,
            "left": null,
            "margin": null,
            "max_height": null,
            "max_width": null,
            "min_height": null,
            "min_width": null,
            "object_fit": null,
            "object_position": null,
            "order": null,
            "overflow": null,
            "overflow_x": null,
            "overflow_y": null,
            "padding": null,
            "right": null,
            "top": null,
            "visibility": null,
            "width": null
          }
        },
        "34cc8128a8cd4f25800992efe1e0f508": {
          "model_module": "@jupyter-widgets/controls",
          "model_name": "DescriptionStyleModel",
          "model_module_version": "1.5.0",
          "state": {
            "_model_module": "@jupyter-widgets/controls",
            "_model_module_version": "1.5.0",
            "_model_name": "DescriptionStyleModel",
            "_view_count": null,
            "_view_module": "@jupyter-widgets/base",
            "_view_module_version": "1.2.0",
            "_view_name": "StyleView",
            "description_width": ""
          }
        },
        "56364f843fc04c1e887acf3f7d9d03ed": {
          "model_module": "@jupyter-widgets/controls",
          "model_name": "HBoxModel",
          "model_module_version": "1.5.0",
          "state": {
            "_dom_classes": [],
            "_model_module": "@jupyter-widgets/controls",
            "_model_module_version": "1.5.0",
            "_model_name": "HBoxModel",
            "_view_count": null,
            "_view_module": "@jupyter-widgets/controls",
            "_view_module_version": "1.5.0",
            "_view_name": "HBoxView",
            "box_style": "",
            "children": [
              "IPY_MODEL_6a14b6e7a179484cb8c1fd604f1216eb",
              "IPY_MODEL_dba2323b2c364ac1a3935353efa9b168",
              "IPY_MODEL_e737173a1c614e03b922ec7f24a59161"
            ],
            "layout": "IPY_MODEL_2839d96a8df649cf972b8c4b7546080f"
          }
        },
        "6a14b6e7a179484cb8c1fd604f1216eb": {
          "model_module": "@jupyter-widgets/controls",
          "model_name": "HTMLModel",
          "model_module_version": "1.5.0",
          "state": {
            "_dom_classes": [],
            "_model_module": "@jupyter-widgets/controls",
            "_model_module_version": "1.5.0",
            "_model_name": "HTMLModel",
            "_view_count": null,
            "_view_module": "@jupyter-widgets/controls",
            "_view_module_version": "1.5.0",
            "_view_name": "HTMLView",
            "description": "",
            "description_tooltip": null,
            "layout": "IPY_MODEL_1988138853144998b17066615e0f2bb4",
            "placeholder": "​",
            "style": "IPY_MODEL_e5803b35a9894e99bea185fa2a6c870b",
            "value": "tokenizer.json: 100%"
          }
        },
        "dba2323b2c364ac1a3935353efa9b168": {
          "model_module": "@jupyter-widgets/controls",
          "model_name": "FloatProgressModel",
          "model_module_version": "1.5.0",
          "state": {
            "_dom_classes": [],
            "_model_module": "@jupyter-widgets/controls",
            "_model_module_version": "1.5.0",
            "_model_name": "FloatProgressModel",
            "_view_count": null,
            "_view_module": "@jupyter-widgets/controls",
            "_view_module_version": "1.5.0",
            "_view_name": "ProgressView",
            "bar_style": "success",
            "description": "",
            "description_tooltip": null,
            "layout": "IPY_MODEL_f90c7118a05b400a8e514385bedc82fc",
            "max": 1355446,
            "min": 0,
            "orientation": "horizontal",
            "style": "IPY_MODEL_4a5a463e7efe470f8d5df4011c39bb1a",
            "value": 1355446
          }
        },
        "e737173a1c614e03b922ec7f24a59161": {
          "model_module": "@jupyter-widgets/controls",
          "model_name": "HTMLModel",
          "model_module_version": "1.5.0",
          "state": {
            "_dom_classes": [],
            "_model_module": "@jupyter-widgets/controls",
            "_model_module_version": "1.5.0",
            "_model_name": "HTMLModel",
            "_view_count": null,
            "_view_module": "@jupyter-widgets/controls",
            "_view_module_version": "1.5.0",
            "_view_name": "HTMLView",
            "description": "",
            "description_tooltip": null,
            "layout": "IPY_MODEL_483dd9ed4b404174887f72281a79f61e",
            "placeholder": "​",
            "style": "IPY_MODEL_69c1cfad89fa4868b4d8b23ae3757e1b",
            "value": " 1.36M/1.36M [00:00&lt;00:00, 17.2MB/s]"
          }
        },
        "2839d96a8df649cf972b8c4b7546080f": {
          "model_module": "@jupyter-widgets/base",
          "model_name": "LayoutModel",
          "model_module_version": "1.2.0",
          "state": {
            "_model_module": "@jupyter-widgets/base",
            "_model_module_version": "1.2.0",
            "_model_name": "LayoutModel",
            "_view_count": null,
            "_view_module": "@jupyter-widgets/base",
            "_view_module_version": "1.2.0",
            "_view_name": "LayoutView",
            "align_content": null,
            "align_items": null,
            "align_self": null,
            "border": null,
            "bottom": null,
            "display": null,
            "flex": null,
            "flex_flow": null,
            "grid_area": null,
            "grid_auto_columns": null,
            "grid_auto_flow": null,
            "grid_auto_rows": null,
            "grid_column": null,
            "grid_gap": null,
            "grid_row": null,
            "grid_template_areas": null,
            "grid_template_columns": null,
            "grid_template_rows": null,
            "height": null,
            "justify_content": null,
            "justify_items": null,
            "left": null,
            "margin": null,
            "max_height": null,
            "max_width": null,
            "min_height": null,
            "min_width": null,
            "object_fit": null,
            "object_position": null,
            "order": null,
            "overflow": null,
            "overflow_x": null,
            "overflow_y": null,
            "padding": null,
            "right": null,
            "top": null,
            "visibility": null,
            "width": null
          }
        },
        "1988138853144998b17066615e0f2bb4": {
          "model_module": "@jupyter-widgets/base",
          "model_name": "LayoutModel",
          "model_module_version": "1.2.0",
          "state": {
            "_model_module": "@jupyter-widgets/base",
            "_model_module_version": "1.2.0",
            "_model_name": "LayoutModel",
            "_view_count": null,
            "_view_module": "@jupyter-widgets/base",
            "_view_module_version": "1.2.0",
            "_view_name": "LayoutView",
            "align_content": null,
            "align_items": null,
            "align_self": null,
            "border": null,
            "bottom": null,
            "display": null,
            "flex": null,
            "flex_flow": null,
            "grid_area": null,
            "grid_auto_columns": null,
            "grid_auto_flow": null,
            "grid_auto_rows": null,
            "grid_column": null,
            "grid_gap": null,
            "grid_row": null,
            "grid_template_areas": null,
            "grid_template_columns": null,
            "grid_template_rows": null,
            "height": null,
            "justify_content": null,
            "justify_items": null,
            "left": null,
            "margin": null,
            "max_height": null,
            "max_width": null,
            "min_height": null,
            "min_width": null,
            "object_fit": null,
            "object_position": null,
            "order": null,
            "overflow": null,
            "overflow_x": null,
            "overflow_y": null,
            "padding": null,
            "right": null,
            "top": null,
            "visibility": null,
            "width": null
          }
        },
        "e5803b35a9894e99bea185fa2a6c870b": {
          "model_module": "@jupyter-widgets/controls",
          "model_name": "DescriptionStyleModel",
          "model_module_version": "1.5.0",
          "state": {
            "_model_module": "@jupyter-widgets/controls",
            "_model_module_version": "1.5.0",
            "_model_name": "DescriptionStyleModel",
            "_view_count": null,
            "_view_module": "@jupyter-widgets/base",
            "_view_module_version": "1.2.0",
            "_view_name": "StyleView",
            "description_width": ""
          }
        },
        "f90c7118a05b400a8e514385bedc82fc": {
          "model_module": "@jupyter-widgets/base",
          "model_name": "LayoutModel",
          "model_module_version": "1.2.0",
          "state": {
            "_model_module": "@jupyter-widgets/base",
            "_model_module_version": "1.2.0",
            "_model_name": "LayoutModel",
            "_view_count": null,
            "_view_module": "@jupyter-widgets/base",
            "_view_module_version": "1.2.0",
            "_view_name": "LayoutView",
            "align_content": null,
            "align_items": null,
            "align_self": null,
            "border": null,
            "bottom": null,
            "display": null,
            "flex": null,
            "flex_flow": null,
            "grid_area": null,
            "grid_auto_columns": null,
            "grid_auto_flow": null,
            "grid_auto_rows": null,
            "grid_column": null,
            "grid_gap": null,
            "grid_row": null,
            "grid_template_areas": null,
            "grid_template_columns": null,
            "grid_template_rows": null,
            "height": null,
            "justify_content": null,
            "justify_items": null,
            "left": null,
            "margin": null,
            "max_height": null,
            "max_width": null,
            "min_height": null,
            "min_width": null,
            "object_fit": null,
            "object_position": null,
            "order": null,
            "overflow": null,
            "overflow_x": null,
            "overflow_y": null,
            "padding": null,
            "right": null,
            "top": null,
            "visibility": null,
            "width": null
          }
        },
        "4a5a463e7efe470f8d5df4011c39bb1a": {
          "model_module": "@jupyter-widgets/controls",
          "model_name": "ProgressStyleModel",
          "model_module_version": "1.5.0",
          "state": {
            "_model_module": "@jupyter-widgets/controls",
            "_model_module_version": "1.5.0",
            "_model_name": "ProgressStyleModel",
            "_view_count": null,
            "_view_module": "@jupyter-widgets/base",
            "_view_module_version": "1.2.0",
            "_view_name": "StyleView",
            "bar_color": null,
            "description_width": ""
          }
        },
        "483dd9ed4b404174887f72281a79f61e": {
          "model_module": "@jupyter-widgets/base",
          "model_name": "LayoutModel",
          "model_module_version": "1.2.0",
          "state": {
            "_model_module": "@jupyter-widgets/base",
            "_model_module_version": "1.2.0",
            "_model_name": "LayoutModel",
            "_view_count": null,
            "_view_module": "@jupyter-widgets/base",
            "_view_module_version": "1.2.0",
            "_view_name": "LayoutView",
            "align_content": null,
            "align_items": null,
            "align_self": null,
            "border": null,
            "bottom": null,
            "display": null,
            "flex": null,
            "flex_flow": null,
            "grid_area": null,
            "grid_auto_columns": null,
            "grid_auto_flow": null,
            "grid_auto_rows": null,
            "grid_column": null,
            "grid_gap": null,
            "grid_row": null,
            "grid_template_areas": null,
            "grid_template_columns": null,
            "grid_template_rows": null,
            "height": null,
            "justify_content": null,
            "justify_items": null,
            "left": null,
            "margin": null,
            "max_height": null,
            "max_width": null,
            "min_height": null,
            "min_width": null,
            "object_fit": null,
            "object_position": null,
            "order": null,
            "overflow": null,
            "overflow_x": null,
            "overflow_y": null,
            "padding": null,
            "right": null,
            "top": null,
            "visibility": null,
            "width": null
          }
        },
        "69c1cfad89fa4868b4d8b23ae3757e1b": {
          "model_module": "@jupyter-widgets/controls",
          "model_name": "DescriptionStyleModel",
          "model_module_version": "1.5.0",
          "state": {
            "_model_module": "@jupyter-widgets/controls",
            "_model_module_version": "1.5.0",
            "_model_name": "DescriptionStyleModel",
            "_view_count": null,
            "_view_module": "@jupyter-widgets/base",
            "_view_module_version": "1.2.0",
            "_view_name": "StyleView",
            "description_width": ""
          }
        },
        "a1e958449f184e03868f2d0a8fde1f5b": {
          "model_module": "@jupyter-widgets/controls",
          "model_name": "HBoxModel",
          "model_module_version": "1.5.0",
          "state": {
            "_dom_classes": [],
            "_model_module": "@jupyter-widgets/controls",
            "_model_module_version": "1.5.0",
            "_model_name": "HBoxModel",
            "_view_count": null,
            "_view_module": "@jupyter-widgets/controls",
            "_view_module_version": "1.5.0",
            "_view_name": "HBoxView",
            "box_style": "",
            "children": [
              "IPY_MODEL_032f4e6f87d74d509f4d181cdaa2e9d0",
              "IPY_MODEL_ad5a9295c3854993adbcaa69f934ac4c",
              "IPY_MODEL_260ab0d45dea4b6d882a02b3582b6abc"
            ],
            "layout": "IPY_MODEL_49a8fb391e954b26b3cb18edeba034c6"
          }
        },
        "032f4e6f87d74d509f4d181cdaa2e9d0": {
          "model_module": "@jupyter-widgets/controls",
          "model_name": "HTMLModel",
          "model_module_version": "1.5.0",
          "state": {
            "_dom_classes": [],
            "_model_module": "@jupyter-widgets/controls",
            "_model_module_version": "1.5.0",
            "_model_name": "HTMLModel",
            "_view_count": null,
            "_view_module": "@jupyter-widgets/controls",
            "_view_module_version": "1.5.0",
            "_view_name": "HTMLView",
            "description": "",
            "description_tooltip": null,
            "layout": "IPY_MODEL_ad10c5b46ec24369a702e377de41761c",
            "placeholder": "​",
            "style": "IPY_MODEL_8d71b374e0c642cbb36e896606b90f6f",
            "value": "special_tokens_map.json: 100%"
          }
        },
        "ad5a9295c3854993adbcaa69f934ac4c": {
          "model_module": "@jupyter-widgets/controls",
          "model_name": "FloatProgressModel",
          "model_module_version": "1.5.0",
          "state": {
            "_dom_classes": [],
            "_model_module": "@jupyter-widgets/controls",
            "_model_module_version": "1.5.0",
            "_model_name": "FloatProgressModel",
            "_view_count": null,
            "_view_module": "@jupyter-widgets/controls",
            "_view_module_version": "1.5.0",
            "_view_name": "ProgressView",
            "bar_style": "success",
            "description": "",
            "description_tooltip": null,
            "layout": "IPY_MODEL_e00e2fc82963464699f53cd960487639",
            "max": 120,
            "min": 0,
            "orientation": "horizontal",
            "style": "IPY_MODEL_43e201abef3441c488218619dc393e2b",
            "value": 120
          }
        },
        "260ab0d45dea4b6d882a02b3582b6abc": {
          "model_module": "@jupyter-widgets/controls",
          "model_name": "HTMLModel",
          "model_module_version": "1.5.0",
          "state": {
            "_dom_classes": [],
            "_model_module": "@jupyter-widgets/controls",
            "_model_module_version": "1.5.0",
            "_model_name": "HTMLModel",
            "_view_count": null,
            "_view_module": "@jupyter-widgets/controls",
            "_view_module_version": "1.5.0",
            "_view_name": "HTMLView",
            "description": "",
            "description_tooltip": null,
            "layout": "IPY_MODEL_2d827eff2c934fbf815c2c12bcc73ac6",
            "placeholder": "​",
            "style": "IPY_MODEL_60ce20324c4f448c8f80690d118f7a80",
            "value": " 120/120 [00:00&lt;00:00, 1.23kB/s]"
          }
        },
        "49a8fb391e954b26b3cb18edeba034c6": {
          "model_module": "@jupyter-widgets/base",
          "model_name": "LayoutModel",
          "model_module_version": "1.2.0",
          "state": {
            "_model_module": "@jupyter-widgets/base",
            "_model_module_version": "1.2.0",
            "_model_name": "LayoutModel",
            "_view_count": null,
            "_view_module": "@jupyter-widgets/base",
            "_view_module_version": "1.2.0",
            "_view_name": "LayoutView",
            "align_content": null,
            "align_items": null,
            "align_self": null,
            "border": null,
            "bottom": null,
            "display": null,
            "flex": null,
            "flex_flow": null,
            "grid_area": null,
            "grid_auto_columns": null,
            "grid_auto_flow": null,
            "grid_auto_rows": null,
            "grid_column": null,
            "grid_gap": null,
            "grid_row": null,
            "grid_template_areas": null,
            "grid_template_columns": null,
            "grid_template_rows": null,
            "height": null,
            "justify_content": null,
            "justify_items": null,
            "left": null,
            "margin": null,
            "max_height": null,
            "max_width": null,
            "min_height": null,
            "min_width": null,
            "object_fit": null,
            "object_position": null,
            "order": null,
            "overflow": null,
            "overflow_x": null,
            "overflow_y": null,
            "padding": null,
            "right": null,
            "top": null,
            "visibility": null,
            "width": null
          }
        },
        "ad10c5b46ec24369a702e377de41761c": {
          "model_module": "@jupyter-widgets/base",
          "model_name": "LayoutModel",
          "model_module_version": "1.2.0",
          "state": {
            "_model_module": "@jupyter-widgets/base",
            "_model_module_version": "1.2.0",
            "_model_name": "LayoutModel",
            "_view_count": null,
            "_view_module": "@jupyter-widgets/base",
            "_view_module_version": "1.2.0",
            "_view_name": "LayoutView",
            "align_content": null,
            "align_items": null,
            "align_self": null,
            "border": null,
            "bottom": null,
            "display": null,
            "flex": null,
            "flex_flow": null,
            "grid_area": null,
            "grid_auto_columns": null,
            "grid_auto_flow": null,
            "grid_auto_rows": null,
            "grid_column": null,
            "grid_gap": null,
            "grid_row": null,
            "grid_template_areas": null,
            "grid_template_columns": null,
            "grid_template_rows": null,
            "height": null,
            "justify_content": null,
            "justify_items": null,
            "left": null,
            "margin": null,
            "max_height": null,
            "max_width": null,
            "min_height": null,
            "min_width": null,
            "object_fit": null,
            "object_position": null,
            "order": null,
            "overflow": null,
            "overflow_x": null,
            "overflow_y": null,
            "padding": null,
            "right": null,
            "top": null,
            "visibility": null,
            "width": null
          }
        },
        "8d71b374e0c642cbb36e896606b90f6f": {
          "model_module": "@jupyter-widgets/controls",
          "model_name": "DescriptionStyleModel",
          "model_module_version": "1.5.0",
          "state": {
            "_model_module": "@jupyter-widgets/controls",
            "_model_module_version": "1.5.0",
            "_model_name": "DescriptionStyleModel",
            "_view_count": null,
            "_view_module": "@jupyter-widgets/base",
            "_view_module_version": "1.2.0",
            "_view_name": "StyleView",
            "description_width": ""
          }
        },
        "e00e2fc82963464699f53cd960487639": {
          "model_module": "@jupyter-widgets/base",
          "model_name": "LayoutModel",
          "model_module_version": "1.2.0",
          "state": {
            "_model_module": "@jupyter-widgets/base",
            "_model_module_version": "1.2.0",
            "_model_name": "LayoutModel",
            "_view_count": null,
            "_view_module": "@jupyter-widgets/base",
            "_view_module_version": "1.2.0",
            "_view_name": "LayoutView",
            "align_content": null,
            "align_items": null,
            "align_self": null,
            "border": null,
            "bottom": null,
            "display": null,
            "flex": null,
            "flex_flow": null,
            "grid_area": null,
            "grid_auto_columns": null,
            "grid_auto_flow": null,
            "grid_auto_rows": null,
            "grid_column": null,
            "grid_gap": null,
            "grid_row": null,
            "grid_template_areas": null,
            "grid_template_columns": null,
            "grid_template_rows": null,
            "height": null,
            "justify_content": null,
            "justify_items": null,
            "left": null,
            "margin": null,
            "max_height": null,
            "max_width": null,
            "min_height": null,
            "min_width": null,
            "object_fit": null,
            "object_position": null,
            "order": null,
            "overflow": null,
            "overflow_x": null,
            "overflow_y": null,
            "padding": null,
            "right": null,
            "top": null,
            "visibility": null,
            "width": null
          }
        },
        "43e201abef3441c488218619dc393e2b": {
          "model_module": "@jupyter-widgets/controls",
          "model_name": "ProgressStyleModel",
          "model_module_version": "1.5.0",
          "state": {
            "_model_module": "@jupyter-widgets/controls",
            "_model_module_version": "1.5.0",
            "_model_name": "ProgressStyleModel",
            "_view_count": null,
            "_view_module": "@jupyter-widgets/base",
            "_view_module_version": "1.2.0",
            "_view_name": "StyleView",
            "bar_color": null,
            "description_width": ""
          }
        },
        "2d827eff2c934fbf815c2c12bcc73ac6": {
          "model_module": "@jupyter-widgets/base",
          "model_name": "LayoutModel",
          "model_module_version": "1.2.0",
          "state": {
            "_model_module": "@jupyter-widgets/base",
            "_model_module_version": "1.2.0",
            "_model_name": "LayoutModel",
            "_view_count": null,
            "_view_module": "@jupyter-widgets/base",
            "_view_module_version": "1.2.0",
            "_view_name": "LayoutView",
            "align_content": null,
            "align_items": null,
            "align_self": null,
            "border": null,
            "bottom": null,
            "display": null,
            "flex": null,
            "flex_flow": null,
            "grid_area": null,
            "grid_auto_columns": null,
            "grid_auto_flow": null,
            "grid_auto_rows": null,
            "grid_column": null,
            "grid_gap": null,
            "grid_row": null,
            "grid_template_areas": null,
            "grid_template_columns": null,
            "grid_template_rows": null,
            "height": null,
            "justify_content": null,
            "justify_items": null,
            "left": null,
            "margin": null,
            "max_height": null,
            "max_width": null,
            "min_height": null,
            "min_width": null,
            "object_fit": null,
            "object_position": null,
            "order": null,
            "overflow": null,
            "overflow_x": null,
            "overflow_y": null,
            "padding": null,
            "right": null,
            "top": null,
            "visibility": null,
            "width": null
          }
        },
        "60ce20324c4f448c8f80690d118f7a80": {
          "model_module": "@jupyter-widgets/controls",
          "model_name": "DescriptionStyleModel",
          "model_module_version": "1.5.0",
          "state": {
            "_model_module": "@jupyter-widgets/controls",
            "_model_module_version": "1.5.0",
            "_model_name": "DescriptionStyleModel",
            "_view_count": null,
            "_view_module": "@jupyter-widgets/base",
            "_view_module_version": "1.2.0",
            "_view_name": "StyleView",
            "description_width": ""
          }
        }
      }
    }
  },
  "cells": [
    {
      "cell_type": "markdown",
      "metadata": {
        "id": "view-in-github",
        "colab_type": "text"
      },
      "source": [
        "<a href=\"https://colab.research.google.com/github/katamaiah/GENAI/blob/main/Semantic_Spotter_Starter_Code.ipynb\" target=\"_parent\"><img src=\"https://colab.research.google.com/assets/colab-badge.svg\" alt=\"Open In Colab\"/></a>"
      ]
    },
    {
      "cell_type": "markdown",
      "source": [
        "## Starter Code\n",
        "\n",
        "This code file contains a simple starting point for the Semantic Spotter project. Please feel free to modify it to suit your use case\n"
      ],
      "metadata": {
        "id": "37Un1tOFBBhA"
      }
    },
    {
      "cell_type": "markdown",
      "source": [
        "option 1: insurance domain + build the rag pipeline using llamaindex\n",
        "option2 : BYOP, come up with your own problem statement - clear objective, it should have some dataset(enterprise/personal).\n"
      ],
      "metadata": {
        "id": "RuCaPt7FwEr8"
      }
    },
    {
      "cell_type": "markdown",
      "source": [
        "Part 0 - Quick Recap of RAG\n",
        "\n",
        "![image.png](data:image/png;base64,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)"
      ],
      "metadata": {
        "id": "BViiWzdXEkXX"
      }
    },
    {
      "cell_type": "markdown",
      "source": [
        "Without RAG: LLM's don't have any information on the domain/enterprise specific query.\n",
        "With RAG: We are connecting an external data (ingested & transformed - embeddings - semantic search (dot product/cosine similarity) - top k relevant documents) - (context + user query)--> decorated using prompt engineering --> results"
      ],
      "metadata": {
        "id": "-zvuMrp00WpF"
      }
    },
    {
      "cell_type": "markdown",
      "source": [
        "### Part 1 - Overall Product Specifications\n",
        "\n",
        "***Problem Statement*** - Fans of Paul Graham's essays want a reliable way to ask questions and know whether Paul Graham has made comments on that topic or not. Paul Graham's essays are currently stored as separate documents a folder. Our task is to build a proper Q/A bot using RAG, that the users can interact with and get answers from.\n",
        "\n",
        "***Solution Strategy*** - Build a POC which should solve the following requirements:\n",
        "\n",
        "- Users would responses from PG's essay knowledge base\n",
        "- If they want to refer to the original essay from which the bot is responding, the bot should provide a citation as well.\n",
        "\n",
        "Goal - Solving the above two requirements well in the POC would ensure that the accuracy of the overall model is good and therefore further improvisations and customizations make sense.\n",
        "\n",
        "***Data Used*** - Paul Graham's essays stored in a single folder\n",
        "\n",
        "***Tools used*** - LlamaIndex (only for now) has been used due to its powerful query engine, fast data processing using data loaders and directory readers as well as easier and faster implementation using fewer lines of code."
      ],
      "metadata": {
        "id": "9J_NR-yDCOZW"
      }
    },
    {
      "cell_type": "markdown",
      "source": [
        "### Part 2 - Solution POC\n",
        "\n",
        "In this section, we go ahead and actually build a POC of the solution that we proposed in the previous step\n",
        "\n",
        "![Screenshot 2023-07-04 at 12.41.36 AM.png](data:image/png;base64,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)"
      ],
      "metadata": {
        "id": "o29InlmyDlXp"
      }
    },
    {
      "cell_type": "markdown",
      "source": [
        "Parser feeds on the document, strides/moves over each content in a step manner."
      ],
      "metadata": {
        "id": "2ksbEyw029ie"
      }
    },
    {
      "cell_type": "markdown",
      "source": [
        "AI:\n",
        "1. Architecture (tough nut to crack - research)\n",
        "2. Data\n",
        "3. Compute (heavy backing of captial)"
      ],
      "metadata": {
        "id": "ayQteFs84xZj"
      }
    },
    {
      "cell_type": "markdown",
      "source": [
        "4 levels of LLM applications:\n",
        "1. chatbot(LLM's internal memory) - openai, meta, google, microsoft, antrhopic, mistral, perplexity\n",
        "2 chatbot with external memory(RAG) - llamindex, langchain,\n",
        "3. Agents (LLM with tools) -langchain, llamaindex\n",
        "4. LLM OS (LLM with tools, hardware(camera, mic, speaker,etc & an external memory) - Microsoft (memories)"
      ],
      "metadata": {
        "id": "kXUw4qSkovRI"
      }
    },
    {
      "cell_type": "markdown",
      "source": [
        "Step 1 : Import the necessary libraries"
      ],
      "metadata": {
        "id": "xyyj2QeEBK-O"
      }
    },
    {
      "cell_type": "code",
      "source": [
        "#Load llamaindex\n",
        "!pip install llama-index"
      ],
      "metadata": {
        "colab": {
          "base_uri": "https://localhost:8080/"
        },
        "id": "oirdEn6jBJPD",
        "outputId": "a8fb6938-6172-44de-e2d1-6f885d827f39"
      },
      "execution_count": null,
      "outputs": [
        {
          "output_type": "stream",
          "name": "stdout",
          "text": [
            "Collecting llama-index\n",
            "  Downloading llama_index-0.10.56-py3-none-any.whl (6.8 kB)\n",
            "Collecting llama-index-agent-openai<0.3.0,>=0.1.4 (from llama-index)\n",
            "  Downloading llama_index_agent_openai-0.2.9-py3-none-any.whl (13 kB)\n",
            "Collecting llama-index-cli<0.2.0,>=0.1.2 (from llama-index)\n",
            "  Downloading llama_index_cli-0.1.12-py3-none-any.whl (26 kB)\n",
            "Collecting llama-index-core==0.10.56 (from llama-index)\n",
            "  Downloading llama_index_core-0.10.56-py3-none-any.whl (15.5 MB)\n",
            "\u001b[2K     \u001b[90m━━━━━━━━━━━━━━━━━━━━━━━━━━━━━━━━━━━━━━━━\u001b[0m \u001b[32m15.5/15.5 MB\u001b[0m \u001b[31m22.7 MB/s\u001b[0m eta \u001b[36m0:00:00\u001b[0m\n",
            "\u001b[?25hCollecting llama-index-embeddings-openai<0.2.0,>=0.1.5 (from llama-index)\n",
            "  Downloading llama_index_embeddings_openai-0.1.11-py3-none-any.whl (6.3 kB)\n",
            "Collecting llama-index-indices-managed-llama-cloud>=0.2.0 (from llama-index)\n",
            "  Downloading llama_index_indices_managed_llama_cloud-0.2.5-py3-none-any.whl (9.3 kB)\n",
            "Collecting llama-index-legacy<0.10.0,>=0.9.48 (from llama-index)\n",
            "  Downloading llama_index_legacy-0.9.48-py3-none-any.whl (2.0 MB)\n",
            "\u001b[2K     \u001b[90m━━━━━━━━━━━━━━━━━━━━━━━━━━━━━━━━━━━━━━━━\u001b[0m \u001b[32m2.0/2.0 MB\u001b[0m \u001b[31m24.6 MB/s\u001b[0m eta \u001b[36m0:00:00\u001b[0m\n",
            "\u001b[?25hCollecting llama-index-llms-openai<0.2.0,>=0.1.13 (from llama-index)\n",
            "  Downloading llama_index_llms_openai-0.1.26-py3-none-any.whl (11 kB)\n",
            "Collecting llama-index-multi-modal-llms-openai<0.2.0,>=0.1.3 (from llama-index)\n",
            "  Downloading llama_index_multi_modal_llms_openai-0.1.8-py3-none-any.whl (5.9 kB)\n",
            "Collecting llama-index-program-openai<0.2.0,>=0.1.3 (from llama-index)\n",
            "  Downloading llama_index_program_openai-0.1.6-py3-none-any.whl (5.2 kB)\n",
            "Collecting llama-index-question-gen-openai<0.2.0,>=0.1.2 (from llama-index)\n",
            "  Downloading llama_index_question_gen_openai-0.1.3-py3-none-any.whl (2.9 kB)\n",
            "Collecting llama-index-readers-file<0.2.0,>=0.1.4 (from llama-index)\n",
            "  Downloading llama_index_readers_file-0.1.30-py3-none-any.whl (38 kB)\n",
            "Collecting llama-index-readers-llama-parse>=0.1.2 (from llama-index)\n",
            "  Downloading llama_index_readers_llama_parse-0.1.6-py3-none-any.whl (2.5 kB)\n",
            "Requirement already satisfied: PyYAML>=6.0.1 in /usr/local/lib/python3.10/dist-packages (from llama-index-core==0.10.56->llama-index) (6.0.1)\n",
            "Requirement already satisfied: SQLAlchemy[asyncio]>=1.4.49 in /usr/local/lib/python3.10/dist-packages (from llama-index-core==0.10.56->llama-index) (2.0.31)\n",
            "Requirement already satisfied: aiohttp<4.0.0,>=3.8.6 in /usr/local/lib/python3.10/dist-packages (from llama-index-core==0.10.56->llama-index) (3.9.5)\n",
            "Collecting dataclasses-json (from llama-index-core==0.10.56->llama-index)\n",
            "  Downloading dataclasses_json-0.6.7-py3-none-any.whl (28 kB)\n",
            "Collecting deprecated>=1.2.9.3 (from llama-index-core==0.10.56->llama-index)\n",
            "  Downloading Deprecated-1.2.14-py2.py3-none-any.whl (9.6 kB)\n",
            "Collecting dirtyjson<2.0.0,>=1.0.8 (from llama-index-core==0.10.56->llama-index)\n",
            "  Downloading dirtyjson-1.0.8-py3-none-any.whl (25 kB)\n",
            "Requirement already satisfied: fsspec>=2023.5.0 in /usr/local/lib/python3.10/dist-packages (from llama-index-core==0.10.56->llama-index) (2023.6.0)\n",
            "Collecting httpx (from llama-index-core==0.10.56->llama-index)\n",
            "  Downloading httpx-0.27.0-py3-none-any.whl (75 kB)\n",
            "\u001b[2K     \u001b[90m━━━━━━━━━━━━━━━━━━━━━━━━━━━━━━━━━━━━━━━━\u001b[0m \u001b[32m75.6/75.6 kB\u001b[0m \u001b[31m4.6 MB/s\u001b[0m eta \u001b[36m0:00:00\u001b[0m\n",
            "\u001b[?25hRequirement already satisfied: nest-asyncio<2.0.0,>=1.5.8 in /usr/local/lib/python3.10/dist-packages (from llama-index-core==0.10.56->llama-index) (1.6.0)\n",
            "Requirement already satisfied: networkx>=3.0 in /usr/local/lib/python3.10/dist-packages (from llama-index-core==0.10.56->llama-index) (3.3)\n",
            "Requirement already satisfied: nltk<4.0.0,>=3.8.1 in /usr/local/lib/python3.10/dist-packages (from llama-index-core==0.10.56->llama-index) (3.8.1)\n",
            "Requirement already satisfied: numpy<2.0.0 in /usr/local/lib/python3.10/dist-packages (from llama-index-core==0.10.56->llama-index) (1.25.2)\n",
            "Collecting openai>=1.1.0 (from llama-index-core==0.10.56->llama-index)\n",
            "  Downloading openai-1.36.0-py3-none-any.whl (328 kB)\n",
            "\u001b[2K     \u001b[90m━━━━━━━━━━━━━━━━━━━━━━━━━━━━━━━━━━━━━━━━\u001b[0m \u001b[32m328.7/328.7 kB\u001b[0m \u001b[31m19.4 MB/s\u001b[0m eta \u001b[36m0:00:00\u001b[0m\n",
            "\u001b[?25hRequirement already satisfied: pandas in /usr/local/lib/python3.10/dist-packages (from llama-index-core==0.10.56->llama-index) (2.0.3)\n",
            "Requirement already satisfied: pillow>=9.0.0 in /usr/local/lib/python3.10/dist-packages (from llama-index-core==0.10.56->llama-index) (9.4.0)\n",
            "Requirement already satisfied: requests>=2.31.0 in /usr/local/lib/python3.10/dist-packages (from llama-index-core==0.10.56->llama-index) (2.31.0)\n",
            "Requirement already satisfied: tenacity!=8.4.0,<9.0.0,>=8.2.0 in /usr/local/lib/python3.10/dist-packages (from llama-index-core==0.10.56->llama-index) (8.5.0)\n",
            "Collecting tiktoken>=0.3.3 (from llama-index-core==0.10.56->llama-index)\n",
            "  Downloading tiktoken-0.7.0-cp310-cp310-manylinux_2_17_x86_64.manylinux2014_x86_64.whl (1.1 MB)\n",
            "\u001b[2K     \u001b[90m━━━━━━━━━━━━━━━━━━━━━━━━━━━━━━━━━━━━━━━━\u001b[0m \u001b[32m1.1/1.1 MB\u001b[0m \u001b[31m26.0 MB/s\u001b[0m eta \u001b[36m0:00:00\u001b[0m\n",
            "\u001b[?25hRequirement already satisfied: tqdm<5.0.0,>=4.66.1 in /usr/local/lib/python3.10/dist-packages (from llama-index-core==0.10.56->llama-index) (4.66.4)\n",
            "Requirement already satisfied: typing-extensions>=4.5.0 in /usr/local/lib/python3.10/dist-packages (from llama-index-core==0.10.56->llama-index) (4.12.2)\n",
            "Collecting typing-inspect>=0.8.0 (from llama-index-core==0.10.56->llama-index)\n",
            "  Downloading typing_inspect-0.9.0-py3-none-any.whl (8.8 kB)\n",
            "Requirement already satisfied: wrapt in /usr/local/lib/python3.10/dist-packages (from llama-index-core==0.10.56->llama-index) (1.14.1)\n",
            "Collecting llama-cloud>=0.0.9 (from llama-index-indices-managed-llama-cloud>=0.2.0->llama-index)\n",
            "  Downloading llama_cloud-0.0.9-py3-none-any.whl (146 kB)\n",
            "\u001b[2K     \u001b[90m━━━━━━━━━━━━━━━━━━━━━━━━━━━━━━━━━━━━━━━━\u001b[0m \u001b[32m146.8/146.8 kB\u001b[0m \u001b[31m11.8 MB/s\u001b[0m eta \u001b[36m0:00:00\u001b[0m\n",
            "\u001b[?25hRequirement already satisfied: beautifulsoup4<5.0.0,>=4.12.3 in /usr/local/lib/python3.10/dist-packages (from llama-index-readers-file<0.2.0,>=0.1.4->llama-index) (4.12.3)\n",
            "Collecting pypdf<5.0.0,>=4.0.1 (from llama-index-readers-file<0.2.0,>=0.1.4->llama-index)\n",
            "  Downloading pypdf-4.3.0-py3-none-any.whl (295 kB)\n",
            "\u001b[2K     \u001b[90m━━━━━━━━━━━━━━━━━━━━━━━━━━━━━━━━━━━━━━━━\u001b[0m \u001b[32m295.7/295.7 kB\u001b[0m \u001b[31m11.5 MB/s\u001b[0m eta \u001b[36m0:00:00\u001b[0m\n",
            "\u001b[?25hCollecting striprtf<0.0.27,>=0.0.26 (from llama-index-readers-file<0.2.0,>=0.1.4->llama-index)\n",
            "  Downloading striprtf-0.0.26-py3-none-any.whl (6.9 kB)\n",
            "Collecting llama-parse>=0.4.0 (from llama-index-readers-llama-parse>=0.1.2->llama-index)\n",
            "  Downloading llama_parse-0.4.9-py3-none-any.whl (9.4 kB)\n",
            "Requirement already satisfied: aiosignal>=1.1.2 in /usr/local/lib/python3.10/dist-packages (from aiohttp<4.0.0,>=3.8.6->llama-index-core==0.10.56->llama-index) (1.3.1)\n",
            "Requirement already satisfied: attrs>=17.3.0 in /usr/local/lib/python3.10/dist-packages (from aiohttp<4.0.0,>=3.8.6->llama-index-core==0.10.56->llama-index) (23.2.0)\n",
            "Requirement already satisfied: frozenlist>=1.1.1 in /usr/local/lib/python3.10/dist-packages (from aiohttp<4.0.0,>=3.8.6->llama-index-core==0.10.56->llama-index) (1.4.1)\n",
            "Requirement already satisfied: multidict<7.0,>=4.5 in /usr/local/lib/python3.10/dist-packages (from aiohttp<4.0.0,>=3.8.6->llama-index-core==0.10.56->llama-index) (6.0.5)\n",
            "Requirement already satisfied: yarl<2.0,>=1.0 in /usr/local/lib/python3.10/dist-packages (from aiohttp<4.0.0,>=3.8.6->llama-index-core==0.10.56->llama-index) (1.9.4)\n",
            "Requirement already satisfied: async-timeout<5.0,>=4.0 in /usr/local/lib/python3.10/dist-packages (from aiohttp<4.0.0,>=3.8.6->llama-index-core==0.10.56->llama-index) (4.0.3)\n",
            "Requirement already satisfied: soupsieve>1.2 in /usr/local/lib/python3.10/dist-packages (from beautifulsoup4<5.0.0,>=4.12.3->llama-index-readers-file<0.2.0,>=0.1.4->llama-index) (2.5)\n",
            "Requirement already satisfied: pydantic>=1.10 in /usr/local/lib/python3.10/dist-packages (from llama-cloud>=0.0.9->llama-index-indices-managed-llama-cloud>=0.2.0->llama-index) (2.8.2)\n",
            "Requirement already satisfied: anyio in /usr/local/lib/python3.10/dist-packages (from httpx->llama-index-core==0.10.56->llama-index) (3.7.1)\n",
            "Requirement already satisfied: certifi in /usr/local/lib/python3.10/dist-packages (from httpx->llama-index-core==0.10.56->llama-index) (2024.7.4)\n",
            "Collecting httpcore==1.* (from httpx->llama-index-core==0.10.56->llama-index)\n",
            "  Downloading httpcore-1.0.5-py3-none-any.whl (77 kB)\n",
            "\u001b[2K     \u001b[90m━━━━━━━━━━━━━━━━━━━━━━━━━━━━━━━━━━━━━━━━\u001b[0m \u001b[32m77.9/77.9 kB\u001b[0m \u001b[31m4.9 MB/s\u001b[0m eta \u001b[36m0:00:00\u001b[0m\n",
            "\u001b[?25hRequirement already satisfied: idna in /usr/local/lib/python3.10/dist-packages (from httpx->llama-index-core==0.10.56->llama-index) (3.7)\n",
            "Requirement already satisfied: sniffio in /usr/local/lib/python3.10/dist-packages (from httpx->llama-index-core==0.10.56->llama-index) (1.3.1)\n",
            "Collecting h11<0.15,>=0.13 (from httpcore==1.*->httpx->llama-index-core==0.10.56->llama-index)\n",
            "  Downloading h11-0.14.0-py3-none-any.whl (58 kB)\n",
            "\u001b[2K     \u001b[90m━━━━━━━━━━━━━━━━━━━━━━━━━━━━━━━━━━━━━━━━\u001b[0m \u001b[32m58.3/58.3 kB\u001b[0m \u001b[31m3.6 MB/s\u001b[0m eta \u001b[36m0:00:00\u001b[0m\n",
            "\u001b[?25hRequirement already satisfied: click in /usr/local/lib/python3.10/dist-packages (from nltk<4.0.0,>=3.8.1->llama-index-core==0.10.56->llama-index) (8.1.7)\n",
            "Requirement already satisfied: joblib in /usr/local/lib/python3.10/dist-packages (from nltk<4.0.0,>=3.8.1->llama-index-core==0.10.56->llama-index) (1.4.2)\n",
            "Requirement already satisfied: regex>=2021.8.3 in /usr/local/lib/python3.10/dist-packages (from nltk<4.0.0,>=3.8.1->llama-index-core==0.10.56->llama-index) (2024.5.15)\n",
            "Requirement already satisfied: distro<2,>=1.7.0 in /usr/lib/python3/dist-packages (from openai>=1.1.0->llama-index-core==0.10.56->llama-index) (1.7.0)\n",
            "Requirement already satisfied: charset-normalizer<4,>=2 in /usr/local/lib/python3.10/dist-packages (from requests>=2.31.0->llama-index-core==0.10.56->llama-index) (3.3.2)\n",
            "Requirement already satisfied: urllib3<3,>=1.21.1 in /usr/local/lib/python3.10/dist-packages (from requests>=2.31.0->llama-index-core==0.10.56->llama-index) (2.0.7)\n",
            "Requirement already satisfied: greenlet!=0.4.17 in /usr/local/lib/python3.10/dist-packages (from SQLAlchemy[asyncio]>=1.4.49->llama-index-core==0.10.56->llama-index) (3.0.3)\n",
            "Collecting mypy-extensions>=0.3.0 (from typing-inspect>=0.8.0->llama-index-core==0.10.56->llama-index)\n",
            "  Downloading mypy_extensions-1.0.0-py3-none-any.whl (4.7 kB)\n",
            "Collecting marshmallow<4.0.0,>=3.18.0 (from dataclasses-json->llama-index-core==0.10.56->llama-index)\n",
            "  Downloading marshmallow-3.21.3-py3-none-any.whl (49 kB)\n",
            "\u001b[2K     \u001b[90m━━━━━━━━━━━━━━━━━━━━━━━━━━━━━━━━━━━━━━━━\u001b[0m \u001b[32m49.2/49.2 kB\u001b[0m \u001b[31m3.3 MB/s\u001b[0m eta \u001b[36m0:00:00\u001b[0m\n",
            "\u001b[?25hRequirement already satisfied: python-dateutil>=2.8.2 in /usr/local/lib/python3.10/dist-packages (from pandas->llama-index-core==0.10.56->llama-index) (2.8.2)\n",
            "Requirement already satisfied: pytz>=2020.1 in /usr/local/lib/python3.10/dist-packages (from pandas->llama-index-core==0.10.56->llama-index) (2023.4)\n",
            "Requirement already satisfied: tzdata>=2022.1 in /usr/local/lib/python3.10/dist-packages (from pandas->llama-index-core==0.10.56->llama-index) (2024.1)\n",
            "Requirement already satisfied: exceptiongroup in /usr/local/lib/python3.10/dist-packages (from anyio->httpx->llama-index-core==0.10.56->llama-index) (1.2.2)\n",
            "Requirement already satisfied: packaging>=17.0 in /usr/local/lib/python3.10/dist-packages (from marshmallow<4.0.0,>=3.18.0->dataclasses-json->llama-index-core==0.10.56->llama-index) (24.1)\n",
            "Requirement already satisfied: annotated-types>=0.4.0 in /usr/local/lib/python3.10/dist-packages (from pydantic>=1.10->llama-cloud>=0.0.9->llama-index-indices-managed-llama-cloud>=0.2.0->llama-index) (0.7.0)\n",
            "Requirement already satisfied: pydantic-core==2.20.1 in /usr/local/lib/python3.10/dist-packages (from pydantic>=1.10->llama-cloud>=0.0.9->llama-index-indices-managed-llama-cloud>=0.2.0->llama-index) (2.20.1)\n",
            "Requirement already satisfied: six>=1.5 in /usr/local/lib/python3.10/dist-packages (from python-dateutil>=2.8.2->pandas->llama-index-core==0.10.56->llama-index) (1.16.0)\n",
            "Installing collected packages: striprtf, dirtyjson, pypdf, mypy-extensions, marshmallow, h11, deprecated, typing-inspect, tiktoken, httpcore, httpx, dataclasses-json, openai, llama-cloud, llama-index-legacy, llama-index-core, llama-parse, llama-index-readers-file, llama-index-llms-openai, llama-index-indices-managed-llama-cloud, llama-index-embeddings-openai, llama-index-readers-llama-parse, llama-index-multi-modal-llms-openai, llama-index-cli, llama-index-agent-openai, llama-index-program-openai, llama-index-question-gen-openai, llama-index\n",
            "Successfully installed dataclasses-json-0.6.7 deprecated-1.2.14 dirtyjson-1.0.8 h11-0.14.0 httpcore-1.0.5 httpx-0.27.0 llama-cloud-0.0.9 llama-index-0.10.56 llama-index-agent-openai-0.2.9 llama-index-cli-0.1.12 llama-index-core-0.10.56 llama-index-embeddings-openai-0.1.11 llama-index-indices-managed-llama-cloud-0.2.5 llama-index-legacy-0.9.48 llama-index-llms-openai-0.1.26 llama-index-multi-modal-llms-openai-0.1.8 llama-index-program-openai-0.1.6 llama-index-question-gen-openai-0.1.3 llama-index-readers-file-0.1.30 llama-index-readers-llama-parse-0.1.6 llama-parse-0.4.9 marshmallow-3.21.3 mypy-extensions-1.0.0 openai-1.36.0 pypdf-4.3.0 striprtf-0.0.26 tiktoken-0.7.0 typing-inspect-0.9.0\n"
          ]
        }
      ]
    },
    {
      "cell_type": "code",
      "source": [
        "#Loading docx2txt for document reading related dependencies\n",
        "!pip install docx2txt"
      ],
      "metadata": {
        "colab": {
          "base_uri": "https://localhost:8080/"
        },
        "id": "TgSwS2wlCJms",
        "outputId": "5a2d02c5-c4b7-4ea2-ace4-404db0565939"
      },
      "execution_count": null,
      "outputs": [
        {
          "output_type": "stream",
          "name": "stdout",
          "text": [
            "Collecting docx2txt\n",
            "  Downloading docx2txt-0.8.tar.gz (2.8 kB)\n",
            "  Preparing metadata (setup.py) ... \u001b[?25l\u001b[?25hdone\n",
            "Building wheels for collected packages: docx2txt\n",
            "  Building wheel for docx2txt (setup.py) ... \u001b[?25l\u001b[?25hdone\n",
            "  Created wheel for docx2txt: filename=docx2txt-0.8-py3-none-any.whl size=3960 sha256=9301c74687f183937b8ae521399ca8b70c5c287f7bc65d07d30e79cb90714f26\n",
            "  Stored in directory: /root/.cache/pip/wheels/22/58/cf/093d0a6c3ecfdfc5f6ddd5524043b88e59a9a199cb02352966\n",
            "Successfully built docx2txt\n",
            "Installing collected packages: docx2txt\n",
            "Successfully installed docx2txt-0.8\n"
          ]
        }
      ]
    },
    {
      "cell_type": "code",
      "source": [
        "!pip install pypdf"
      ],
      "metadata": {
        "colab": {
          "base_uri": "https://localhost:8080/"
        },
        "id": "whVkwvoKnt4O",
        "outputId": "56002328-abcb-4fc5-9bfa-79f6b282b59b"
      },
      "execution_count": null,
      "outputs": [
        {
          "output_type": "stream",
          "name": "stdout",
          "text": [
            "Requirement already satisfied: pypdf in /usr/local/lib/python3.10/dist-packages (4.3.0)\n",
            "Requirement already satisfied: typing_extensions>=4.0 in /usr/local/lib/python3.10/dist-packages (from pypdf) (4.12.2)\n"
          ]
        }
      ]
    },
    {
      "cell_type": "code",
      "source": [
        "!pip install openai"
      ],
      "metadata": {
        "colab": {
          "base_uri": "https://localhost:8080/"
        },
        "id": "TRNNqTCWGerb",
        "outputId": "eddec150-5350-4f66-f18f-bcc725d868b9"
      },
      "execution_count": null,
      "outputs": [
        {
          "output_type": "stream",
          "name": "stdout",
          "text": [
            "Requirement already satisfied: openai in /usr/local/lib/python3.10/dist-packages (1.36.0)\n",
            "Requirement already satisfied: anyio<5,>=3.5.0 in /usr/local/lib/python3.10/dist-packages (from openai) (3.7.1)\n",
            "Requirement already satisfied: distro<2,>=1.7.0 in /usr/lib/python3/dist-packages (from openai) (1.7.0)\n",
            "Requirement already satisfied: httpx<1,>=0.23.0 in /usr/local/lib/python3.10/dist-packages (from openai) (0.27.0)\n",
            "Requirement already satisfied: pydantic<3,>=1.9.0 in /usr/local/lib/python3.10/dist-packages (from openai) (2.8.2)\n",
            "Requirement already satisfied: sniffio in /usr/local/lib/python3.10/dist-packages (from openai) (1.3.1)\n",
            "Requirement already satisfied: tqdm>4 in /usr/local/lib/python3.10/dist-packages (from openai) (4.66.4)\n",
            "Requirement already satisfied: typing-extensions<5,>=4.7 in /usr/local/lib/python3.10/dist-packages (from openai) (4.12.2)\n",
            "Requirement already satisfied: idna>=2.8 in /usr/local/lib/python3.10/dist-packages (from anyio<5,>=3.5.0->openai) (3.7)\n",
            "Requirement already satisfied: exceptiongroup in /usr/local/lib/python3.10/dist-packages (from anyio<5,>=3.5.0->openai) (1.2.2)\n",
            "Requirement already satisfied: certifi in /usr/local/lib/python3.10/dist-packages (from httpx<1,>=0.23.0->openai) (2024.7.4)\n",
            "Requirement already satisfied: httpcore==1.* in /usr/local/lib/python3.10/dist-packages (from httpx<1,>=0.23.0->openai) (1.0.5)\n",
            "Requirement already satisfied: h11<0.15,>=0.13 in /usr/local/lib/python3.10/dist-packages (from httpcore==1.*->httpx<1,>=0.23.0->openai) (0.14.0)\n",
            "Requirement already satisfied: annotated-types>=0.4.0 in /usr/local/lib/python3.10/dist-packages (from pydantic<3,>=1.9.0->openai) (0.7.0)\n",
            "Requirement already satisfied: pydantic-core==2.20.1 in /usr/local/lib/python3.10/dist-packages (from pydantic<3,>=1.9.0->openai) (2.20.1)\n"
          ]
        }
      ]
    },
    {
      "cell_type": "code",
      "source": [
        "\n",
        "from llama_index.llms.openai import OpenAI\n",
        "from llama_index.core.llms import ChatMessage\n",
        "import os\n",
        "import openai"
      ],
      "metadata": {
        "id": "J7dOFC0lHImc"
      },
      "execution_count": null,
      "outputs": []
    },
    {
      "cell_type": "markdown",
      "source": [
        "Step 2 : Mount your Google Drive and Set the API key"
      ],
      "metadata": {
        "id": "7B__M_LbIS2T"
      }
    },
    {
      "cell_type": "code",
      "source": [
        "# Mount Google Drive\n",
        "from google.colab import drive\n",
        "drive.mount('/content/drive')"
      ],
      "metadata": {
        "colab": {
          "base_uri": "https://localhost:8080/"
        },
        "id": "gQ813F1IHWGv",
        "outputId": "8ed67a5c-608e-4749-9405-a09193721d9a"
      },
      "execution_count": null,
      "outputs": [
        {
          "output_type": "stream",
          "name": "stdout",
          "text": [
            "Mounted at /content/drive\n"
          ]
        }
      ]
    },
    {
      "cell_type": "code",
      "source": [
        "# Set the API key\n",
        "filepath = \"/content/drive/MyDrive/upgrad/GenAI_Course_Master/RAG_llamaindex/\"\n",
        "\n",
        "with open(filepath + \"OpenAI_API_Key.txt\", \"r\") as f:\n",
        "  openai.api_key = ' '.join(f.readlines())"
      ],
      "metadata": {
        "id": "jQ-VXK6qHhs-"
      },
      "execution_count": null,
      "outputs": []
    },
    {
      "cell_type": "markdown",
      "source": [
        "Step 3 - Data Loading\n",
        "\n",
        "\n",
        "***2 ways to do this***\n",
        "\n",
        "- If you have a single file containing all the required data, use a data loader from [LLamahub](https://llamahub.ai/)\n",
        "\n",
        "- If you have multiple files, use *Simple Directory Reader* Just ensure that for reading each file type the necessary dependency libraries are already installed."
      ],
      "metadata": {
        "id": "isSltrJ0I3ce"
      }
    },
    {
      "cell_type": "markdown",
      "source": [
        "![image.png](data:image/png;base64,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)"
      ],
      "metadata": {
        "id": "axd4Ds1y18gC"
      }
    },
    {
      "cell_type": "markdown",
      "source": [
        "Recommendation - No matter how powerful the given data loader is, ensure that your file is properly formatted, and the loader is able to read the file clearly. Else the query engine might fail"
      ],
      "metadata": {
        "id": "hIwdNZBKtjc5"
      }
    },
    {
      "cell_type": "code",
      "source": [
        "os.chdir(\"/content/drive/MyDrive/upgrad/GenAI_Course_Master/RAG_llamaindex\")\n",
        "!ls"
      ],
      "metadata": {
        "colab": {
          "base_uri": "https://localhost:8080/"
        },
        "id": "lAgkpPDr_A-1",
        "outputId": "4f4bd96a-edec-478b-f141-f3782d0f10d0"
      },
      "execution_count": null,
      "outputs": [
        {
          "output_type": "stream",
          "name": "stdout",
          "text": [
            " documents\t       paul_graham_essay.txt\t\t\t\t  tmp_image.png\n",
            " insurance-documents  'RAG Demonstration Notebook - Basic + LlamaIndex'   uber_2022.pdf\n",
            " OpenAI_API_Key.txt   'RAG Slides.pptx'\n"
          ]
        }
      ]
    },
    {
      "cell_type": "code",
      "source": [
        "from llama_index.core import SimpleDirectoryReader\n",
        "reader = SimpleDirectoryReader(input_dir=\"/content/drive/MyDrive/upgrad/GenAI_Course_Master/RAG_llamaindex/\")"
      ],
      "metadata": {
        "id": "eHcpBKYpJH4y"
      },
      "execution_count": null,
      "outputs": []
    },
    {
      "cell_type": "code",
      "source": [
        "?SimpleDirectoryReader"
      ],
      "metadata": {
        "id": "6NOArJwxtJ2e"
      },
      "execution_count": null,
      "outputs": []
    },
    {
      "cell_type": "code",
      "source": [
        "documents = reader.load_data()\n",
        "print(f\"Loaded {len(documents)} docs\")"
      ],
      "metadata": {
        "colab": {
          "base_uri": "https://localhost:8080/",
          "height": 501,
          "referenced_widgets": [
            "497fb08d0be04b3395fa002eec704d9a",
            "e2d6697794a645fd86cf89aa3b1bd8c4",
            "362c9a0b20684526a34635bd7032c989",
            "10c9b34215eb47908201934d9764af8d",
            "e9fca2f0d13c41309efef6804f522cca",
            "9bd96a27f1134994a85225511cd96cb5",
            "c36b288de0b64ac29315182d291c9507",
            "84595092af8f460796efda21c1447fce",
            "8bf2dabfc8a84a8cb7aaf507245e585f",
            "428b6d09f00c45b58bebc4ea428ab749",
            "c467f7bc9f80406ba13a1354f802cb11",
            "e957db6f16824f0295afd3cf0d4d6dd1",
            "06a58e80169340cc8744f11999a5374a",
            "d56fe53e112e467c9320cd4c202cb5eb",
            "d8e7cb61abb640319c27362a7d15fe74",
            "f0924a249c32421eaafab26bd0f2fb05",
            "dd699826ca5d4020ad1848dd07bb5235",
            "6af7d7c41c434af897aa47db123b577c",
            "3cb78f7456e54facb2a93adf77be26e8",
            "7f34c8be0e3e4543aa0d0adc89fc2ec3",
            "cc863817b8be402a9d393e263c469028",
            "e93884c1445649679281b2616a5432f8",
            "4cadba6504e64bd59e0c6c9406443687",
            "cd858043798a43e3ab68341519793c9b",
            "e78bfbb3585e4cdabaeac39d64224b94",
            "9997eb81c068406a9b5544bd76a49b87",
            "8e298e926f8a4db4a74095612ceffa30",
            "c8be22f7c93643448e992fd4f3786cbc",
            "ca84e3ceddfa4b1788103465b7b5762e",
            "d1977e84ea634ccc92b3b8e791949efe",
            "fb9f1ec87dd548cab0018eb2eb24ae9f",
            "e4e287cf5a83480cb0d8e19b9a4f5114",
            "56b932140ced4b69b4311db19e20fea9",
            "942ff518595844cd967c1865958b23aa",
            "80905bfd758143468d8892172dc87154",
            "85097fa98e4c4f68b56b68005822f291",
            "f7a926c0d5f54508a977f3f9b58308d2",
            "cea14406de6f45849250fa4f913bdfce",
            "9ef7db57eef446b8b614aa3ddc91782c",
            "1d9c73e777b9413683298ea0a1b198be",
            "b4f8023cedb84275ab0920f0f9f50834",
            "322275b1bef8428e89549b7fa5365f68",
            "6d7d405f90284ed4b1d817a05d08b849",
            "7018eda1c3b344bf988bc56b2f49921e",
            "07b44d990cbb424e95d243290f821680",
            "3c459fea32a24a5bbf0d1b47092cbdc6",
            "9e2baf118a154c649f587bdc16dc3fb0",
            "623ccc3a17bb432cad892cb7a0a5d4bc",
            "307ccb61fbb648e3937054b2c484c191",
            "71c65b98dfab4c17a1c45d0bbcc514a2",
            "5c5f313a296843cda7a1602fd35e39b2",
            "c8984952aa6340d89193431f9a188319",
            "0bdc1b8348aa466699d41aceed13edda",
            "448c4bac1bab4860b8f17ed6f9b08d72",
            "371ae3a7867a47fc894a76f0b1892794",
            "ed5af924c64646b68167ebb9b97a2ceb",
            "d746ecf83eeb45d897fe111850eff4e6",
            "82a8067ca8854426ac354425eaba0d38",
            "db4e5d89af344ebc80877fe4c02404ff",
            "0df674202aba4520a857788cd93b69c1",
            "b229e1c12d9741a7af73ed285e072e0e",
            "54a3d28cb35745138a3ac80b521e3892",
            "c981876479704624b4b7ae93a805831f",
            "a3ad3b867c8648b7986f8a462539eb96",
            "e357bae0f209423cb20ea1af209ea606",
            "34cc8128a8cd4f25800992efe1e0f508",
            "56364f843fc04c1e887acf3f7d9d03ed",
            "6a14b6e7a179484cb8c1fd604f1216eb",
            "dba2323b2c364ac1a3935353efa9b168",
            "e737173a1c614e03b922ec7f24a59161",
            "2839d96a8df649cf972b8c4b7546080f",
            "1988138853144998b17066615e0f2bb4",
            "e5803b35a9894e99bea185fa2a6c870b",
            "f90c7118a05b400a8e514385bedc82fc",
            "4a5a463e7efe470f8d5df4011c39bb1a",
            "483dd9ed4b404174887f72281a79f61e",
            "69c1cfad89fa4868b4d8b23ae3757e1b",
            "a1e958449f184e03868f2d0a8fde1f5b",
            "032f4e6f87d74d509f4d181cdaa2e9d0",
            "ad5a9295c3854993adbcaa69f934ac4c",
            "260ab0d45dea4b6d882a02b3582b6abc",
            "49a8fb391e954b26b3cb18edeba034c6",
            "ad10c5b46ec24369a702e377de41761c",
            "8d71b374e0c642cbb36e896606b90f6f",
            "e00e2fc82963464699f53cd960487639",
            "43e201abef3441c488218619dc393e2b",
            "2d827eff2c934fbf815c2c12bcc73ac6",
            "60ce20324c4f448c8f80690d118f7a80"
          ]
        },
        "id": "jmCF__nIno49",
        "outputId": "33b8efcc-e932-4083-d606-66196925ffb3"
      },
      "execution_count": null,
      "outputs": [
        {
          "output_type": "stream",
          "name": "stderr",
          "text": [
            "/usr/local/lib/python3.10/dist-packages/huggingface_hub/utils/_token.py:89: UserWarning: \n",
            "The secret `HF_TOKEN` does not exist in your Colab secrets.\n",
            "To authenticate with the Hugging Face Hub, create a token in your settings tab (https://huggingface.co/settings/tokens), set it as secret in your Google Colab and restart your session.\n",
            "You will be able to reuse this secret in all of your notebooks.\n",
            "Please note that authentication is recommended but still optional to access public models or datasets.\n",
            "  warnings.warn(\n"
          ]
        },
        {
          "output_type": "display_data",
          "data": {
            "text/plain": [
              "config.json:   0%|          | 0.00/4.61k [00:00<?, ?B/s]"
            ],
            "application/vnd.jupyter.widget-view+json": {
              "version_major": 2,
              "version_minor": 0,
              "model_id": "497fb08d0be04b3395fa002eec704d9a"
            }
          },
          "metadata": {}
        },
        {
          "output_type": "display_data",
          "data": {
            "text/plain": [
              "pytorch_model.bin:   0%|          | 0.00/982M [00:00<?, ?B/s]"
            ],
            "application/vnd.jupyter.widget-view+json": {
              "version_major": 2,
              "version_minor": 0,
              "model_id": "e957db6f16824f0295afd3cf0d4d6dd1"
            }
          },
          "metadata": {}
        },
        {
          "output_type": "display_data",
          "data": {
            "text/plain": [
              "preprocessor_config.json:   0%|          | 0.00/228 [00:00<?, ?B/s]"
            ],
            "application/vnd.jupyter.widget-view+json": {
              "version_major": 2,
              "version_minor": 0,
              "model_id": "4cadba6504e64bd59e0c6c9406443687"
            }
          },
          "metadata": {}
        },
        {
          "output_type": "stream",
          "name": "stderr",
          "text": [
            "/usr/local/lib/python3.10/dist-packages/transformers/models/vit/feature_extraction_vit.py:28: FutureWarning: The class ViTFeatureExtractor is deprecated and will be removed in version 5 of Transformers. Please use ViTImageProcessor instead.\n",
            "  warnings.warn(\n"
          ]
        },
        {
          "output_type": "display_data",
          "data": {
            "text/plain": [
              "tokenizer_config.json:   0%|          | 0.00/241 [00:00<?, ?B/s]"
            ],
            "application/vnd.jupyter.widget-view+json": {
              "version_major": 2,
              "version_minor": 0,
              "model_id": "942ff518595844cd967c1865958b23aa"
            }
          },
          "metadata": {}
        },
        {
          "output_type": "display_data",
          "data": {
            "text/plain": [
              "vocab.json:   0%|          | 0.00/798k [00:00<?, ?B/s]"
            ],
            "application/vnd.jupyter.widget-view+json": {
              "version_major": 2,
              "version_minor": 0,
              "model_id": "07b44d990cbb424e95d243290f821680"
            }
          },
          "metadata": {}
        },
        {
          "output_type": "display_data",
          "data": {
            "text/plain": [
              "merges.txt:   0%|          | 0.00/456k [00:00<?, ?B/s]"
            ],
            "application/vnd.jupyter.widget-view+json": {
              "version_major": 2,
              "version_minor": 0,
              "model_id": "ed5af924c64646b68167ebb9b97a2ceb"
            }
          },
          "metadata": {}
        },
        {
          "output_type": "display_data",
          "data": {
            "text/plain": [
              "tokenizer.json:   0%|          | 0.00/1.36M [00:00<?, ?B/s]"
            ],
            "application/vnd.jupyter.widget-view+json": {
              "version_major": 2,
              "version_minor": 0,
              "model_id": "56364f843fc04c1e887acf3f7d9d03ed"
            }
          },
          "metadata": {}
        },
        {
          "output_type": "display_data",
          "data": {
            "text/plain": [
              "special_tokens_map.json:   0%|          | 0.00/120 [00:00<?, ?B/s]"
            ],
            "application/vnd.jupyter.widget-view+json": {
              "version_major": 2,
              "version_minor": 0,
              "model_id": "a1e958449f184e03868f2d0a8fde1f5b"
            }
          },
          "metadata": {}
        },
        {
          "output_type": "stream",
          "name": "stderr",
          "text": [
            "The attention mask is not set and cannot be inferred from input because pad token is same as eos token.As a consequence, you may observe unexpected behavior. Please pass your input's `attention_mask` to obtain reliable results.\n",
            "We strongly recommend passing in an `attention_mask` since your input_ids may be padded. See https://huggingface.co/docs/transformers/troubleshooting#incorrect-output-when-padding-tokens-arent-masked.\n",
            "You may ignore this warning if your `pad_token_id` (50256) is identical to the `bos_token_id` (50256), `eos_token_id` (50256), or the `sep_token_id` (None), and your input is not padded.\n"
          ]
        },
        {
          "output_type": "stream",
          "name": "stdout",
          "text": [
            "Loaded 154 docs\n"
          ]
        }
      ]
    },
    {
      "cell_type": "code",
      "source": [
        "!pip install python-pptx torch transformers python-pptx Pillow -q"
      ],
      "metadata": {
        "colab": {
          "base_uri": "https://localhost:8080/"
        },
        "id": "iCDsBm3zGGXx",
        "outputId": "d2283a67-d732-4f96-f929-a2d324739e7e"
      },
      "execution_count": null,
      "outputs": [
        {
          "output_type": "stream",
          "name": "stdout",
          "text": [
            "\u001b[2K     \u001b[90m━━━━━━━━━━━━━━━━━━━━━━━━━━━━━━━━━━━━━━━━\u001b[0m \u001b[32m21.3/21.3 MB\u001b[0m \u001b[31m57.7 MB/s\u001b[0m eta \u001b[36m0:00:00\u001b[0m\n",
            "\u001b[?25h"
          ]
        }
      ]
    },
    {
      "cell_type": "code",
      "source": [
        "documents"
      ],
      "metadata": {
        "id": "rETiBOfDnzPJ",
        "colab": {
          "base_uri": "https://localhost:8080/"
        },
        "outputId": "429193a2-35b6-49f3-ffe7-8c18302cb12b"
      },
      "execution_count": null,
      "outputs": [
        {
          "output_type": "execute_result",
          "data": {
            "text/plain": [
              "[Document(id_='ce01ea9d-0740-45dd-a5b0-052fde485bf9', embedding=None, metadata={'file_name': 'essay1.docx', 'file_path': '/content/drive/MyDrive/Semantic_Spotter_Support/data2/essay1.docx', 'file_type': 'application/vnd.openxmlformats-officedocument.wordprocessingml.document', 'file_size': 22735, 'creation_date': '2024-01-14', 'last_modified_date': '2024-01-14', 'last_accessed_date': '2024-01-14'}, excluded_embed_metadata_keys=['file_name', 'file_type', 'file_size', 'creation_date', 'last_modified_date', 'last_accessed_date'], excluded_llm_metadata_keys=['file_name', 'file_type', 'file_size', 'creation_date', 'last_modified_date', 'last_accessed_date'], relationships={}, hash='7045cc4f21a8cf20d86bb7b1f1a7b6db9294ccf321c097ce87e2caedaf5dd4d7', text='One of the biggest things holding people back from doing great work is the fear of making something lame. And this fear is not an irrational one. Many great projects go through a stage early on where they don\\'t seem very impressive, even to their creators. You have to push through this stage to reach the great work that lies beyond. But many people don\\'t. Most people don\\'t even reach the stage of making something they\\'re embarrassed by, let alone continue past it. They\\'re too frightened even to start.\\n\\nImagine if we could turn off the fear of making something lame. Imagine how much more we\\'d do.\\n\\nIs there any hope of turning it off? I think so. I think the habits at work here are not very deeply rooted.\\n\\nMaking new things is itself a new thing for us as a species. It has always happened, but till the last few centuries it happened so slowly as to be invisible to individual humans. And since we didn\\'t need customs for dealing with new ideas, we didn\\'t develop any.\\n\\nWe just don\\'t have enough experience with early versions of ambitious projects to know how to respond to them. We judge them as we would judge more finished work, or less ambitious projects. We don\\'t realize they\\'re a special case.\\n\\nOr at least, most of us don\\'t. One reason I\\'m confident we can do better is that it\\'s already starting to happen. There are already a few places that are living in the future in this respect. Silicon Valley is one of them: an unknown person working on a strange-sounding idea won\\'t automatically be dismissed the way they would back home. In Silicon Valley, people have learned how dangerous that is.\\n\\nThe right way to deal with new ideas is to treat them as a challenge to your imagination — not just to have lower standards, but to\\xa0switch polarity\\xa0entirely, from listing the reasons an idea won\\'t work to trying to think of ways it could. That\\'s what I do when I meet people with new ideas. I\\'ve become quite good at it, but I\\'ve had a lot of practice. Being a partner at Y Combinator means being practically immersed in strange-sounding ideas proposed by unknown people. Every six months you get thousands of new ones thrown at you and have to sort through them, knowing that in a world with a power-law distribution of outcomes, it will be painfully obvious if you miss the needle in this haystack. Optimism becomes urgent.\\n\\nBut I\\'m hopeful that, with time, this kind of optimism can become widespread enough that it becomes a social custom, not just a trick used by a few specialists. It is after all an extremely lucrative trick, and those tend to spread quickly.\\n\\nOf course, inexperience is not the only reason people are too harsh on early versions of ambitious projects. They also do it to seem clever. And in a field where the new ideas are risky, like startups, those who dismiss them are in fact more likely to be right. Just not when their predictions are\\xa0weighted by outcome.\\n\\nBut there is another more sinister reason people dismiss new ideas. If you try something ambitious, many of those around you will hope, consciously or unconsciously, that you\\'ll fail. They worry that if you try something ambitious and succeed, it will put you above them. In some countries this is not just an individual failing but part of the national culture.\\n\\nI wouldn\\'t claim that people in Silicon Valley overcome these impulses because they\\'re morally better.\\xa0[1]\\xa0The reason many hope you\\'ll succeed is that they hope to rise with you. For investors this incentive is particularly explicit. They want you to succeed because they hope you\\'ll make them rich in the process. But many other people you meet can hope to benefit in some way from your success. At the very least they\\'ll be able to say, when you\\'re famous, that they\\'ve known you since way back.\\n\\nBut even if Silicon Valley\\'s encouraging attitude is rooted in self-interest, it has over time actually grown into a sort of benevolence. Encouraging startups has been practiced for so long that it has become a custom. Now it just seems that that\\'s what one does with startups.\\n\\nMaybe Silicon Valley is too optimistic. Maybe it\\'s too easily fooled by impostors. Many less optimistic journalists want to believe that. But the lists of impostors they cite are suspiciously short, and plagued with asterisks.\\xa0[2]\\xa0If you use revenue as the test, Silicon Valley\\'s optimism seems better tuned than the rest of the world\\'s. And because it works, it will spread.\\n\\nThere\\'s a lot more to new ideas than new startup ideas, of course. The fear of making something lame holds people back in every field. But Silicon Valley shows how quickly customs can evolve to support new ideas. And that in turn proves that dismissing new ideas is not so deeply rooted in human nature that it can\\'t be unlearnt.\\n\\n___________\\n\\n\\n\\nUnfortunately, if you want to do new things, you\\'ll face a force more powerful than other people\\'s skepticism: your own skepticism. You too will judge your early work too harshly. How do you avoid that?\\n\\nThis is a difficult problem, because you don\\'t want to completely eliminate your horror of making something lame. That\\'s what steers you toward doing good work. You just want to turn it off temporarily, the way a painkiller temporarily turns off pain.\\n\\nPeople have already discovered several techniques that work. Hardy mentions two in\\xa0A Mathematician\\'s Apology:\\n\\nGood work is not done by \"humble\" men. It is one of the first duties of a professor, for example, in any subject, to exaggerate a little both the importance of his subject and his importance in it.\\n\\nIf you overestimate the importance of what you\\'re working on, that will compensate for your mistakenly harsh judgment of your initial results. If you look at something that\\'s 20% of the way to a goal worth 100 and conclude that it\\'s 10% of the way to a goal worth 200, your estimate of its expected value is correct even though both components are wrong.\\n\\nIt also helps, as Hardy suggests, to be slightly overconfident. I\\'ve noticed in many fields that the most successful people are slightly overconfident. On the face of it this seems implausible. Surely it would be optimal to have exactly the right estimate of one\\'s abilities. How could it be an advantage to be mistaken? Because this error compensates for other sources of error in the opposite direction: being slightly overconfident armors you against both other people\\'s skepticism and your own.\\n\\nIgnorance has a similar effect. It\\'s safe to make the mistake of judging early work as finished work if you\\'re a sufficiently lax judge of finished work. I doubt it\\'s possible to cultivate this kind of ignorance, but empirically it\\'s a real advantage, especially for the young.\\n\\nAnother way to get through the lame phase of ambitious projects is to surround yourself with the right people — to create an eddy in the social headwind. But it\\'s not enough to collect people who are always encouraging. You\\'d learn to discount that. You need colleagues who can actually tell an ugly duckling from a baby swan. The people best able to do this are those working on similar projects of their own, which is why university departments and research labs work so well. You don\\'t need institutions to collect colleagues. They naturally coalesce, given the chance. But it\\'s very much worth accelerating this process by seeking out other people trying to do new things.\\n\\nTeachers are in effect a special case of colleagues. It\\'s a teacher\\'s job both to see the promise of early work and to encourage you to continue. But teachers who are good at this are unfortunately quite rare, so if you have the opportunity to learn from one, take it.\\xa0[3]\\n\\nFor some it might work to rely on sheer discipline: to tell yourself that you just have to press on through the initial crap phase and not get discouraged. But like a lot of \"just tell yourself\" advice, this is harder than it sounds. And it gets still harder as you get older, because your standards rise. The old do have one compensating advantage though: they\\'ve been through this before.\\n\\nIt can help if you focus less on where you are and more on the rate of change. You won\\'t worry so much about doing bad work if you can see it improving. Obviously the faster it improves, the easier this is. So when you start something new, it\\'s good if you can spend a lot of time on it. That\\'s another advantage of being young: you tend to have bigger blocks of time.\\n\\nAnother common trick is to start by considering new work to be of a different, less exacting type. To start a painting saying that it\\'s just a sketch, or a new piece of software saying that it\\'s just a quick hack. Then you judge your initial results by a lower standard. Once the project is rolling you can sneakily convert it to something more.\\xa0[4]\\n\\nThis will be easier if you use a medium that lets you work fast and doesn\\'t require too much commitment up front. It\\'s easier to convince yourself that something is just a sketch when you\\'re drawing in a notebook than when you\\'re carving stone. Plus you get initial results faster.\\xa0[5]\\xa0[6]\\n\\nIt will be easier to try out a risky project if you think of it as a way to learn and not just as a way to make something. Then even if the project truly is a failure, you\\'ll still have gained by it. If the problem is sharply enough defined, failure itself is knowledge: if the theorem you\\'re trying to prove turns out to be false, or you use a structural member of a certain size and it fails under stress, you\\'ve learned something, even if it isn\\'t what you wanted to learn.\\xa0[7]\\n\\nOne motivation that works particularly well for me is curiosity. I like to try new things just to see how they\\'ll turn out. We started Y Combinator in this spirit, and it was one of main things that kept me going while I was working on\\xa0Bel. Having worked for so long with various dialects of Lisp, I was very curious to see what its inherent shape was: what you\\'d end up with if you followed the axiomatic approach all the way.\\n\\nBut it\\'s a bit strange that you have to play mind games with yourself to avoid being discouraged by lame-looking early efforts. The thing you\\'re trying to trick yourself into believing is in fact the truth. A lame-looking early version of an ambitious project truly is more valuable than it seems. So the ultimate solution may be to teach yourself that.\\n\\nOne way to do it is to study the histories of people who\\'ve done great work. What were they thinking early on? What was the very first thing they did? It can sometimes be hard to get an accurate answer to this question, because people are often embarrassed by their earliest work and make little effort to publish it. (They too misjudge it.) But when you can get an accurate picture of the first steps someone made on the path to some great work, they\\'re often pretty feeble.\\xa0[8]\\n\\nPerhaps if you study enough such cases, you can teach yourself to be a better judge of early work. Then you\\'ll be immune both to other people\\'s skepticism and your own fear of making something lame. You\\'ll see early work for what it is.\\n\\nCuriously enough, the solution to the problem of judging early work too harshly is to realize that our attitudes toward it are themselves early work. Holding everything to the same standard is a crude version 1. We\\'re already evolving better customs, and we can already see signs of how big the payoff will be.\\n\\n\\n\\n\\n\\n\\n\\n\\n\\nNotes\\n\\n[1] This assumption may be too conservative. There is some evidence that historically the Bay Area has attracted a\\xa0different sort of person\\xa0than, say, New York City.\\n\\n[2] One of their great favorites is Theranos. But the most conspicuous feature of Theranos\\'s cap table is the absence of Silicon Valley firms. Journalists were fooled by Theranos, but Silicon Valley investors weren\\'t.\\n\\n[3] I made two mistakes about teachers when I was younger. I cared more about professors\\' research than their reputations as teachers, and I was also wrong about what it meant to be a good teacher. I thought it simply meant to be good at explaining things.\\n\\n[4] Patrick Collison points out that you can go past treating something as a hack in the sense of a prototype and onward to the sense of the word that means something closer to a practical joke:\\n\\nI think there may be something related to being a hack that can be powerful — the idea of making the tenuousness and implausibility\\xa0a feature. \"Yes, it\\'s a bit ridiculous, right? I\\'m just trying to see how far such a naive approach can get.\" YC seemed to me to have this characteristic.\\n\\n[5] Much of the advantage of switching from physical to digital media is not the software per se but that it lets you start something new with little upfront commitment.\\n\\n[6] John Carmack adds:\\n\\nThe value of a medium without a vast gulf between the early work and the final work is exemplified in game mods. The original Quake game was a golden age for mods, because everything was very flexible, but so crude due to technical limitations, that quick hacks to try out a gameplay idea weren\\'t all\\xa0that\\xa0far from the official game. Many careers were born from that, but as the commercial game quality improved over the years, it became almost a full time job to make a successful mod that would be appreciated by the community. This was dramatically reversed with Minecraft and later Roblox, where the entire esthetic of the experience was so explicitly crude that innovative gameplay concepts became the overriding value. These \"crude\" game mods by single authors are now often bigger deals than massive professional teams\\' work.\\n\\n[7] Lisa Randall suggests that we\\n\\ntreat new things as experiments. That way there\\'s no such thing as failing, since you learn something no matter what. You treat it like an experiment in the sense that if it really rules something out, you give up and move on, but if there\\'s some way to vary it to make it work better, go ahead and do that\\n\\n[8] Michael Nielsen points out that the internet has made this easier, because you can see programmers\\' first commits, musicians\\' first videos, and so on.\\n\\n\\n\\nThanks\\xa0to Trevor Blackwell, John Carmack, Patrick Collison, Jessica Livingston, Michael Nielsen, and Lisa Randall for reading drafts of this.', start_char_idx=None, end_char_idx=None, text_template='{metadata_str}\\n\\n{content}', metadata_template='{key}: {value}', metadata_seperator='\\n'),\n",
              " Document(id_='bb838dc8-faad-4e1d-80f3-7c1b90ea5cd6', embedding=None, metadata={'file_name': 'essay2.docx', 'file_path': '/content/drive/MyDrive/Semantic_Spotter_Support/data2/essay2.docx', 'file_type': 'application/vnd.openxmlformats-officedocument.wordprocessingml.document', 'file_size': 20293, 'creation_date': '2024-01-14', 'last_modified_date': '2024-01-14', 'last_accessed_date': '2024-01-14'}, excluded_embed_metadata_keys=['file_name', 'file_type', 'file_size', 'creation_date', 'last_modified_date', 'last_accessed_date'], excluded_llm_metadata_keys=['file_name', 'file_type', 'file_size', 'creation_date', 'last_modified_date', 'last_accessed_date'], relationships={}, hash='d09d681cf1f4db65a0fa9bfc657569692012e64ac1bc11f1b1ce21874c5b619c', text='December 2020\\n\\nTo celebrate Airbnb\\'s IPO and to help future founders, I thought it might be useful to explain what was special about Airbnb.\\n\\nWhat was special about the Airbnbs was how earnest they were. They did nothing half-way, and we could sense this even in the interview. Sometimes after we interviewed a startup we\\'d be uncertain what to do, and have to talk it over. Other times we\\'d just look at one another and smile. The Airbnbs\\' interview was that kind. We didn\\'t even like the idea that much. Nor did users, at that stage; they had no growth. But the founders seemed so full of energy that it was impossible not to like them.\\n\\nThat first impression was not misleading. During the batch our nickname for Brian Chesky was The Tasmanian Devil, because like the\\xa0cartoon character\\xa0he seemed a tornado of energy. All three of them were like that. No one ever worked harder during YC than the Airbnbs did. When you talked to the Airbnbs, they took notes. If you suggested an idea to them in office hours, the next time you talked to them they\\'d not only have implemented it, but also implemented two new ideas they had in the process. \"They probably have the best attitude of any startup we\\'ve funded\" I wrote to Mike Arrington during the batch.\\n\\nThey\\'re still like that. Jessica and I had dinner with Brian in the summer of 2018, just the three of us. By this point the company is ten years old. He took a page of notes about ideas for new things Airbnb could do.\\n\\nWhat we didn\\'t realize when we first met Brian and Joe and Nate was that Airbnb was on its last legs. After working on the company for a year and getting no growth, they\\'d agreed to give it one last shot. They\\'d try this Y Combinator thing, and if the company still didn\\'t take off, they\\'d give up.\\n\\nAny normal person would have given up already. They\\'d been funding the company with credit cards. They had a\\xa0binder\\xa0full of credit cards they\\'d maxed out. Investors didn\\'t think much of the idea. One investor they met in a cafe walked out in the middle of meeting with them. They thought he was going to the bathroom, but he never came back. \"He didn\\'t even finish his smoothie,\" Brian said. And now, in late 2008, it was the worst recession in decades. The stock market was in free fall and wouldn\\'t hit bottom for another four months.\\n\\nWhy hadn\\'t they given up? This is a useful question to ask. People, like matter, reveal their nature under extreme conditions. One thing that\\'s clear is that they weren\\'t doing this just for the money. As a money-making scheme, this was pretty lousy: a year\\'s work and all they had to show for it was a binder full of maxed-out credit cards. So why were they still working on this startup? Because of the experience they\\'d had as the first hosts.\\n\\nWhen they first tried renting out airbeds on their floor during a design convention, all they were hoping for was to make enough money to pay their rent that month. But something surprising happened: they enjoyed having those first three guests staying with them. And the guests enjoyed it too. Both they and the guests had done it because they were in a sense forced to, and yet they\\'d all had a great experience. Clearly there was something new here: for hosts, a new way to make money that had literally been right under their noses, and for guests, a new way to travel that was in many ways better than hotels.\\n\\nThat experience was why the Airbnbs didn\\'t give up. They knew they\\'d discovered something. They\\'d seen a glimpse of the future, and they couldn\\'t let it go.\\n\\nThey knew that once people tried staying in what is now called \"an airbnb,\" they would also realize that this was the future. But only if they tried it, and they weren\\'t. That was the problem during Y Combinator: to get growth started.\\n\\nAirbnb\\'s goal during YC was to reach what we call\\xa0ramen profitability, which means making enough money that the company can pay the founders\\' living expenses, if they live on ramen noodles. Ramen profitability is not, obviously, the end goal of any startup, but it\\'s the most important threshold on the way, because this is the point where you\\'re airborne. This is the point where you no longer need investors\\' permission to continue existing. For the Airbnbs, ramen profitability was $4000 a month: $3500 for rent, and $500 for food. They taped this goal to the mirror in the bathroom of their apartment.\\n\\nThe way to get growth started in something like Airbnb is to focus on the hottest subset of the market. If you can get growth started there, it will spread to the rest. When I asked the Airbnbs where there was most demand, they knew from searches: New York City. So they focused on New York. They went there\\xa0in person\\xa0to visit their hosts and help them make their listings more attractive. A big part of that was better pictures. So Joe and Brian rented a professional camera and took pictures of the hosts\\' places themselves.\\n\\nThis didn\\'t just make the listings better. It also taught them about their hosts. When they came back from their first trip to New York, I asked what they\\'d noticed about hosts that surprised them, and they said the biggest surprise was how many of the hosts were in the same position they\\'d been in: they needed this money to pay their rent. This was, remember, the worst recession in decades, and it had hit New York first. It definitely added to the Airbnbs\\' sense of mission to feel that people needed them.\\n\\nIn late January 2009, about three weeks into Y Combinator, their efforts started to show results, and their numbers crept upward. But it was hard to say for sure whether it was growth or just random fluctuation. By February it was clear that it was real growth. They made $460 in fees in the first week of February, $897 in the second, and $1428 in the third. That was it: they were airborne. Brian sent me an email on February 22 announcing that they were ramen profitable and giving the last three weeks\\' numbers.\\n\\n\"I assume you know what you\\'ve now set yourself up for next week,\" I responded.\\n\\nBrian\\'s reply was seven words: \"We are not going to slow down.\"', start_char_idx=None, end_char_idx=None, text_template='{metadata_str}\\n\\n{content}', metadata_template='{key}: {value}', metadata_seperator='\\n'),\n",
              " Document(id_='d608dc4f-45c9-4ff5-a97a-481c01068235', embedding=None, metadata={'file_name': 'essay3.docx', 'file_path': '/content/drive/MyDrive/Semantic_Spotter_Support/data2/essay3.docx', 'file_type': 'application/vnd.openxmlformats-officedocument.wordprocessingml.document', 'file_size': 26587, 'creation_date': '2024-01-14', 'last_modified_date': '2024-01-14', 'last_accessed_date': '2024-01-14'}, excluded_embed_metadata_keys=['file_name', 'file_type', 'file_size', 'creation_date', 'last_modified_date', 'last_accessed_date'], excluded_llm_metadata_keys=['file_name', 'file_type', 'file_size', 'creation_date', 'last_modified_date', 'last_accessed_date'], relationships={}, hash='e7cc4857c5ec5ba12cb0b2b50e14969418aca72149b7e60bbfe99e2a33adf677', text='December 2020\\n\\nAs I was deciding what to write about next, I was surprised to find that two separate essays I\\'d been planning to write were actually the same.\\n\\nThe first is about how to ace your Y Combinator interview. There has been so much nonsense written about this topic that I\\'ve been meaning for years to write something telling founders the truth.\\n\\nThe second is about something politicians sometimes say — that the only way to become a billionaire is by exploiting people — and why this is mistaken.\\n\\nKeep reading, and you\\'ll learn both simultaneously.\\n\\nI know the politicians are mistaken because it was my job to predict which people will become billionaires. I think I can truthfully say that I know as much about how to do this as anyone. If the key to becoming a billionaire — the defining feature of billionaires — was to exploit people, then I, as a professional billionaire scout, would surely realize this and look for people who would be good at it, just as an NFL scout looks for speed in wide receivers.\\n\\nBut aptitude for exploiting people is not what Y Combinator looks for at all. In fact, it\\'s the opposite of what they look for. I\\'ll tell you what they do look for, by explaining how to convince Y\\xa0Combinator to fund you, and you can see for yourself.\\n\\nWhat YC looks for, above all, is founders who understand some group of users and can make what they want. This is so important that it\\'s YC\\'s motto: \"Make something people want.\"\\n\\nA big company can to some extent force unsuitable products on unwilling customers, but a startup doesn\\'t have the power to do that. A startup must sing for its supper, by making things that genuinely delight its customers. Otherwise it will never get off the ground.\\n\\nHere\\'s where things get difficult, both for you as a founder and for the YC partners trying to decide whether to fund you. In a market economy, it\\'s hard to make something people want that they don\\'t already have. That\\'s the great thing about market economies. If other people both knew about this need and were able to satisfy it, they already would be, and there would be no room for your startup.\\n\\nWhich means the conversation during your YC interview will have to be about something new: either a new need, or a new way to satisfy one. And not just new, but uncertain. If it were certain that the need existed and that you could satisfy it, that certainty would be reflected in large and rapidly growing revenues, and you wouldn\\'t be seeking seed funding.\\n\\nSo the YC partners have to guess both whether you\\'ve discovered a real need, and whether you\\'ll be able to satisfy it. That\\'s what they are, at least in this part of their job: professional guessers. They have 1001 heuristics for doing this, and I\\'m not going to tell you all of them, but I\\'m happy to tell you the most important ones, because these can\\'t be faked; the only way to \"hack\" them would be to do what you should be doing anyway as a founder.\\n\\nThe first thing the partners will try to figure out, usually, is whether what you\\'re making will ever be something a lot of people want. It doesn\\'t have to be something a lot of people want now. The product and the market will both evolve, and will influence each other\\'s evolution. But in the end there has to be something with a huge market. That\\'s what the partners will be trying to figure out: is there a path to a huge market?\\xa0[1]\\n\\nSometimes it\\'s obvious there will be a huge market. If\\xa0Boom\\xa0manages to ship an airliner at all, international airlines will have to buy it. But usually it\\'s not obvious. Usually the path to a huge market is by growing a small market. This idea is important enough that it\\'s worth coining a phrase for, so let\\'s call one of these small but growable markets a \"larval market.\"\\n\\nThe perfect example of a larval market might be Apple\\'s market when they were founded in 1976. In 1976, not many people wanted their own computer. But more and more started to want one, till now every 10 year old on the planet wants a computer (but calls it a \"phone\").\\n\\nThe ideal combination is the group of founders who are\\xa0\"living in the future\"\\xa0in the sense of being at the leading edge of some kind of change, and who are building something they themselves want. Most super-successful startups are of this type. Steve Wozniak wanted a computer. Mark Zuckerberg wanted to engage online with his college friends. Larry and Sergey wanted to find things on the web. All these founders were building things they and their peers wanted, and the fact that they were at the leading edge of change meant that more people would want these things in the future.\\n\\nBut although the ideal larval market is oneself and one\\'s peers, that\\'s not the only kind. A larval market might also be regional, for example. You build something to serve one location, and then expand to others.\\n\\nThe crucial feature of the initial market is that it exist. That may seem like an obvious point, but the lack of it is the biggest flaw in most startup ideas. There have to be some people who want what you\\'re building right now, and want it so urgently that they\\'re willing to use it, bugs and all, even though you\\'re a small company they\\'ve never heard of. There don\\'t have to be many, but there have to be some. As long as you have some users, there are straightforward ways to get more: build new features they want, seek out more people like them, get them to refer you to their friends, and so on. But these techniques all require some initial seed group of users.\\n\\nSo this is one thing the YC partners will almost certainly dig into during your interview. Who are your first users going to be, and how do you know they want this? If I had to decide whether to fund startups based on a single question, it would be \"How do you know people want this?\"\\n\\nThe most convincing answer is \"Because we and our friends want it.\" It\\'s even better when this is followed by the news that you\\'ve already built a prototype, and even though it\\'s very crude, your friends are using it, and it\\'s spreading by word of mouth. If you can say that and you\\'re not lying, the partners will switch from default no to default yes. Meaning you\\'re in unless there\\'s some other disqualifying flaw.\\n\\nThat is a hard standard to meet, though. Airbnb didn\\'t meet it. They had the first part. They had made something they themselves wanted. But it wasn\\'t spreading. So don\\'t feel bad if you don\\'t hit this gold standard of convincingness. If Airbnb didn\\'t hit it, it must be too high.\\n\\nIn practice, the YC partners will be satisfied if they feel that you have a deep understanding of your users\\' needs. And the Airbnbs did have that. They were able to tell us all about what motivated hosts and guests. They knew from first-hand experience, because they\\'d been the first hosts. We couldn\\'t ask them a question they didn\\'t know the answer to. We ourselves were not very excited about the idea as users, but we knew this didn\\'t prove anything, because there were lots of successful startups we hadn\\'t been excited about as users. We were able to say to ourselves \"They seem to know what they\\'re talking about. Maybe they\\'re onto something. It\\'s not growing yet, but maybe they can figure out how to make it grow during YC.\" Which they did, about three weeks into the batch.\\n\\nThe best thing you can do in a YC interview is to teach the partners about your users. So if you want to prepare for your interview, one of the best ways to do it is to go talk to your users and find out exactly what they\\'re thinking. Which is what you should be doing anyway.\\n\\nThis may sound strangely credulous, but the YC partners want to rely on the founders to tell them about the market. Think about how VCs typically judge the potential market for an idea. They\\'re not ordinarily domain experts themselves, so they forward the idea to someone who is, and ask for their opinion. YC doesn\\'t have time to do this, but if the YC partners can convince themselves that the founders both (a) know what they\\'re talking about and (b) aren\\'t lying, they don\\'t need outside domain experts. They can use the founders themselves as domain experts when evaluating their own idea.\\n\\nThis is why YC interviews aren\\'t pitches. To give as many founders as possible a chance to get funded, we made interviews as short as we could: 10 minutes. That is not enough time for the partners to figure out, through the indirect evidence in a pitch, whether you know what you\\'re talking about and aren\\'t lying. They need to dig in and ask you questions. There\\'s not enough time for sequential access. They need random access.\\xa0[2]\\n\\nThe worst advice I ever heard about how to succeed in a YC interview is that you should take control of the interview and make sure to deliver the message you want to. In other words, turn the interview into a pitch. ⟨elaborate expletive⟩. It is so annoying when people try to do that. You ask them a question, and instead of answering it, they deliver some obviously prefabricated blob of pitch. It eats up 10 minutes really fast.\\n\\nThere is no one who can give you accurate advice about what to do in a YC interview except a current or former YC partner. People who\\'ve merely been interviewed, even successfully, have no idea of this, but interviews take all sorts of different forms depending on what the partners want to know about most. Sometimes they\\'re all about the founders, other times they\\'re all about the idea. Sometimes some very narrow aspect of the idea. Founders sometimes walk away from interviews complaining that they didn\\'t get to explain their idea completely. True, but they explained enough.\\n\\nSince a YC interview consists of questions, the way to do it well is to answer them well. Part of that is answering them candidly. The partners don\\'t expect you to know everything. But if you don\\'t know the answer to a question, don\\'t try to bullshit your way out of it. The partners, like most experienced investors, are professional bullshit detectors, and you are (hopefully) an amateur bullshitter. And if you try to bullshit them and fail, they may not even tell you that you failed. So it\\'s better to be honest than to try to sell them. If you don\\'t know the answer to a question, say you don\\'t, and tell them how you\\'d go about finding it, or tell them the answer to some related question.\\n\\nIf you\\'re asked, for example, what could go wrong, the worst possible answer is \"nothing.\" Instead of convincing them that your idea is bullet-proof, this will convince them that you\\'re a fool or a liar. Far better to go into gruesome detail. That\\'s what experts do when you ask what could go wrong. The partners know that your idea is risky. That\\'s what a good bet looks like at this stage: a tiny probability of a huge outcome.\\n\\nDitto if they ask about competitors. Competitors are rarely what kills startups. Poor execution does. But you should know who your competitors are, and tell the YC partners candidly what your relative strengths and weaknesses are. Because the YC partners know that competitors don\\'t kill startups, they won\\'t hold competitors against you too much. They will, however, hold it against you if you seem either to be unaware of competitors, or to be minimizing the threat they pose. They may not be sure whether you\\'re clueless or lying, but they don\\'t need to be.\\n\\nThe partners don\\'t expect your idea to be perfect. This is seed investing. At this stage, all they can expect are promising hypotheses. But they do expect you to be thoughtful and honest. So if trying to make your idea seem perfect causes you to come off as glib or clueless, you\\'ve sacrificed something you needed for something you didn\\'t.\\n\\nIf the partners are sufficiently convinced that there\\'s a path to a big market, the next question is whether you\\'ll be able to find it. That in turn depends on three things: the general qualities of the founders, their specific expertise in this domain, and the relationship between them. How determined are the founders? Are they good at building things? Are they resilient enough to keep going when things go wrong? How strong is their friendship?\\n\\nThough the Airbnbs only did ok in the idea department, they did spectacularly well in this department. The story of how they\\'d funded themselves by making Obama- and McCain-themed breakfast cereal was the single most important factor in our decision to fund them. They didn\\'t realize it at the time, but what seemed to them an irrelevant story was in fact fabulously good evidence of their qualities as founders. It showed they were resourceful and determined, and could work together.\\n\\nIt wasn\\'t just the cereal story that showed that, though. The whole interview showed that they cared. They weren\\'t doing this just for the money, or because startups were cool. The reason they were working so hard on this company was because it was their project. They had discovered an interesting new idea, and they just couldn\\'t let it go.\\n\\nMundane as it sounds, that\\'s the most powerful motivator of all, not just in startups, but in most ambitious undertakings: to be\\xa0genuinely interested\\xa0in what you\\'re building. This is what really drives billionaires, or at least the ones who become billionaires from starting companies. The company is their project.\\n\\nOne thing few people realize about billionaires is that all of them could have stopped sooner. They could have gotten acquired, or found someone else to run the company. Many founders do. The ones who become really rich are the ones who keep working. And what makes them keep working is not just money. What keeps them working is the same thing that keeps anyone else working when they could stop if they wanted to: that there\\'s nothing else they\\'d rather do.\\n\\nThat, not exploiting people, is the defining quality of people who become billionaires from starting companies. So that\\'s what YC looks for in founders: authenticity. People\\'s motives for starting startups are usually mixed. They\\'re usually doing it from some combination of the desire to make money, the desire to seem cool, genuine interest in the problem, and unwillingness to work for someone else. The last two are more powerful motivators than the first two. It\\'s ok for founders to want to make money or to seem cool. Most do. But if the founders seem like they\\'re doing it\\xa0just\\xa0to make money or\\xa0just\\xa0to seem cool, they\\'re not likely to succeed on a big scale. The founders who are doing it for the money will take the first sufficiently large acquisition offer, and the ones who are doing it to seem cool will rapidly discover that there are much less painful ways of seeming cool.\\xa0[3]\\n\\nY Combinator certainly sees founders whose m.o. is to exploit people. YC is a magnet for them, because they want the YC brand. But when the YC partners detect someone like that, they reject them. If bad people made good founders, the YC partners would face a moral dilemma. Fortunately they don\\'t, because bad people make bad founders. This exploitative type of founder is not going to succeed on a large scale, and in fact probably won\\'t even succeed on a small one, because they\\'re always going to be taking shortcuts. They see YC itself as a shortcut.\\n\\nTheir exploitation usually begins with their own cofounders, which is disastrous, since the cofounders\\' relationship is the foundation of the company. Then it moves on to the users, which is also disastrous, because the sort of early adopters a successful startup wants as its initial users are the hardest to fool. The best this kind of founder can hope for is to keep the edifice of deception tottering along until some acquirer can be tricked into buying it. But that kind of acquisition is never very big.\\xa0[4]\\n\\nIf professional billionaire scouts know that exploiting people is not the skill to look for, why do some politicians think this is the defining quality of billionaires?\\n\\nI think they start from the feeling that it\\'s wrong that one person could have so much more money than another. It\\'s understandable where that feeling comes from. It\\'s in our DNA, and even in the DNA of other species.\\n\\nIf they limited themselves to saying that it made them feel bad when one person had so much more money than other people, who would disagree? It makes me feel bad too, and I think people who make a lot of money have a moral obligation to use it for the common good. The mistake they make is to jump from feeling bad that some people are much richer than others to the conclusion that there\\'s no legitimate way to make a very large amount of money. Now we\\'re getting into statements that are not only falsifiable, but false.\\n\\nThere are certainly some people who become rich by doing bad things. But there are also plenty of people who behave badly and don\\'t make that much from it. There is no correlation — in fact, probably an inverse correlation — between how badly you behave and how much money you make.\\n\\nThe greatest danger of this nonsense may not even be that it sends policy astray, but that it misleads ambitious people. Can you imagine a better way to destroy social mobility than by telling poor kids that the way to get rich is by exploiting people, while the rich kids know, from having watched the preceding generation do it, how it\\'s really done?\\n\\nI\\'ll tell you how it\\'s really done, so you can at least tell your own kids the truth. It\\'s all about users. The most reliable way to become a billionaire is to start a company that\\xa0grows fast, and the way to grow fast is to make what users want. Newly started startups have no choice but to delight users, or they\\'ll never even get rolling. But this never stops being the lodestar, and bigger companies take their eye off it at their peril. Stop delighting users, and eventually someone else will.\\n\\nUsers are what the partners want to know about in YC interviews, and what I want to know about when I talk to founders that we funded ten years ago and who are billionaires now. What do users want? What new things could you build for them? Founders who\\'ve become billionaires are always eager to talk about that topic. That\\'s how they became billionaires.\\n\\n\\n\\n\\n\\n\\n\\n\\n\\nNotes\\n\\n[1] The YC partners have so much practice doing this that they sometimes see paths that the founders themselves haven\\'t seen yet. The partners don\\'t try to seem skeptical, as buyers in transactions often do to increase their leverage. Although the founders feel their job is to convince the partners of the potential of their idea, these roles are not infrequently reversed, and the founders leave the interview feeling their idea has more potential than they realized.\\n\\n[2] In practice, 7 minutes would be enough. You rarely change your mind at minute 8. But 10 minutes is socially convenient.\\n\\n[3] I myself took the first sufficiently large acquisition offer in my first startup, so I don\\'t blame founders for doing this. There\\'s nothing wrong with starting a startup to make money. You need to make money somehow, and for some people startups are the most efficient way to do it. I\\'m just saying that these are not the startups that get really big.\\n\\n[4] Not these days, anyway. There were some big ones during the Internet Bubble, and indeed some big IPOs.\\n\\n\\n\\nThanks\\xa0to Trevor Blackwell, Jessica Livingston, Robert Morris, Geoff Ralston, and Harj Taggar for reading drafts of this.', start_char_idx=None, end_char_idx=None, text_template='{metadata_str}\\n\\n{content}', metadata_template='{key}: {value}', metadata_seperator='\\n')]"
            ]
          },
          "metadata": {},
          "execution_count": 84
        }
      ]
    },
    {
      "cell_type": "code",
      "source": [
        "documents[2]"
      ],
      "metadata": {
        "colab": {
          "base_uri": "https://localhost:8080/"
        },
        "id": "H3wHyBC0A6Sk",
        "outputId": "a26ff53a-814e-4a45-b15f-ed793385113f"
      },
      "execution_count": null,
      "outputs": [
        {
          "output_type": "execute_result",
          "data": {
            "text/plain": [
              "Document(id_='f2feac33-c0f3-4ad7-8452-c5fcda0ba38d', embedding=None, metadata={'page_label': '3', 'file_name': 'HDFC-Life-Group-Term-Life-Policy.pdf', 'file_path': '/content/drive/MyDrive/upgrad/GenAI_Course_Master/RAG_llamaindex/insurance-documents/HDFC-Life-Group-Term-Life-Policy.pdf', 'file_type': 'application/pdf', 'file_size': 874679, 'creation_date': '2024-07-20', 'last_modified_date': '2024-07-20'}, excluded_embed_metadata_keys=['file_name', 'file_type', 'file_size', 'creation_date', 'last_modified_date', 'last_accessed_date'], excluded_llm_metadata_keys=['file_name', 'file_type', 'file_size', 'creation_date', 'last_modified_date', 'last_accessed_date'], relationships={}, text=' \\nF&U dated 15th October  2022                  UIN-101N169V0 2  P a g e  | 2                        \\n Address    : \\nMobile/Landline Number  :  \\n \\n \\n \\n \\n \\nA1 Free Look Provisions:  \\n \\nFor the Master Policyholder  \\n \\nThe Master Policyholder  shall have a period of 15 days  from the date of receipt of the Master Policy  \\ndocument to review the terms and conditions of this Policy  and if the Master Policyholder  disagrees \\nwith any of the terms and conditions, he/she has the option to return the Master Policy  stating the \\nreasons for the cancellation  upon whic h the Company shall refund the Premium  paid subject to \\ndeduction of a proportionate risk Premium  for the period of Insurance C over in addition to the \\nexpenses incurred on medical examination (if any) and the stamp duty charges. All Benefit s and rights \\nunder this Policy  shall immediately  stand terminated on the cancellation of the Policy .  \\n \\nThe Master Policyholder shall have a period of 30 days if the Policy is sourced through Direct Sales# \\nfrom the date of receipt of the Master Policy document to review the terms and conditions of this P olicy \\nand if the Master Policyholder disagrees with any of the terms and conditions, he/she has the option to \\nreturn the Master Policy stating the reasons for the cancellation upon which the Company shall refund \\nthe premium paid subject to deduction of pro portionate risk Premium for the period of insurance cover \\nin addition to the expenses incurred on medical examination (if any) and the stamp duty charges. All \\nBenefits and rights under this Policy shall immediately stand terminated on the cancellation of t he \\nPolicy.  \\n \\nThe Insured Member  shall have a period of 15 days  from the date of receipt of the Certificate of \\nInsurance to review the terms and conditions of this Policy  and if the Insured Member  disagrees with \\nany of the terms and conditions, he/she has t he option to return the Certificate of Insurance stating \\nthe reasons for the cancellation  upon whic h the Company shall refund the Premium  paid subject to \\ndeduction of a proportionate risk Premium  for the period of Insurance C over in addition to the \\nexpense s incurred on medical examination (if any) and the stamp duty charges. All Benefit s and rights \\nunder this Policy  shall immediately stand terminated at the cancellation of the Policy .  \\n \\nThe Insured Member shall have a period of 30 days if the Policy is sourced through Direct Sales# from \\nthe date of receipt of the Certificate of Insurance to review the terms and conditions of this Policy and \\nif the Insured Member disagrees with any of the terms and conditions, he/she has the option to return \\nthe Certifica te of Insurance stating the reasons for the cancellation upon which the Company shall \\nrefund the premium paid subject to deduction of a proportionate risk Premium for the period of \\ninsurance cover in addition to the expenses incurred on medical examination  (if any) and the stamp \\nduty charges. All Benefits and rights under this Policy shall immediately stand terminated on the \\ncancellation of the Policy.  \\n \\nAll Benefit s and rights under this Policy  shall immediately stand terminated at the cancellation of the \\nPolicy. \\n# Distance Marketing includes every activity of solicitation (including lead generation) and sale of \\ninsurance products through the following modes: (i) voice mode, which includes telephone -calling (ii) \\nshort messaging service (SMS) (iii) electronic  mode which includes e -mail, internet and interactive \\ntelevision (DTH) (iv) physical mode which includes direct postal mail and newspaper and magazine \\ninserts and (v) solicitation through any means of communication other than in person . \\n \\n \\n \\nA2 Policy  Preamble  \\nThis Policy  document evidences a legal contract between the Master Policyholder  and HDFC Life  \\nInsurance Company Limited which has been  concluded on the basis of the master proposal f orm and \\nother documents evidencing insurability of the Insured M ember s.  ', mimetype='text/plain', start_char_idx=None, end_char_idx=None, text_template='{metadata_str}\\n\\n{content}', metadata_template='{key}: {value}', metadata_seperator='\\n')"
            ]
          },
          "metadata": {},
          "execution_count": 19
        }
      ]
    },
    {
      "cell_type": "markdown",
      "source": [
        "Step 4 - Building the query engine"
      ],
      "metadata": {
        "id": "CLb-tG3oouy5"
      }
    },
    {
      "cell_type": "code",
      "source": [
        "from llama_index.core.node_parser import SimpleNodeParser\n",
        "from llama_index.core import VectorStoreIndex\n",
        "from IPython.display import display, HTML\n",
        "\n",
        "# create parser and parse document into nodes\n",
        "parser = SimpleNodeParser.from_defaults()\n",
        "nodes = parser.get_nodes_from_documents(documents)\n",
        "# documents --> nodes\n",
        "\n",
        "# # build index\n",
        "index = VectorStoreIndex(documents)\n",
        "#nodes --> index\n",
        "\n",
        "# Construct Query Engine\n",
        "query_engine = index.as_query_engine()"
      ],
      "metadata": {
        "id": "8vlxjmpfoXWD"
      },
      "execution_count": null,
      "outputs": []
    },
    {
      "cell_type": "markdown",
      "source": [
        "1 pdf(100 pages) -- 100 elements in a list (documents) --> chunks (word<--sentences<--paragrahps--pages<--pdf)"
      ],
      "metadata": {
        "id": "DrMjWIeICvEc"
      }
    },
    {
      "cell_type": "code",
      "source": [
        "parser"
      ],
      "metadata": {
        "colab": {
          "base_uri": "https://localhost:8080/"
        },
        "id": "mHg0qFQ0Chew",
        "outputId": "be5bd432-828f-448e-d526-92b0e38e6ec2"
      },
      "execution_count": null,
      "outputs": [
        {
          "output_type": "execute_result",
          "data": {
            "text/plain": [
              "SentenceSplitter(include_metadata=True, include_prev_next_rel=True, callback_manager=<llama_index.core.callbacks.base.CallbackManager object at 0x7ce072d8c640>, id_func=<function default_id_func at 0x7ce07d50c310>, chunk_size=1024, chunk_overlap=200, separator=' ', paragraph_separator='\\n\\n\\n', secondary_chunking_regex='[^,.;。？！]+[,.;。？！]?')"
            ]
          },
          "metadata": {},
          "execution_count": 24
        }
      ]
    },
    {
      "cell_type": "markdown",
      "source": [
        "Step 5 - Checking respones and respone parameters"
      ],
      "metadata": {
        "id": "NMllSvjZDd0Q"
      }
    },
    {
      "cell_type": "code",
      "source": [
        "response = query_engine.query(\"What is this document talking about?\")"
      ],
      "metadata": {
        "id": "sZLt5WNBo4g7"
      },
      "execution_count": null,
      "outputs": []
    },
    {
      "cell_type": "code",
      "source": [
        "#Checking the response\n",
        "response.response"
      ],
      "metadata": {
        "colab": {
          "base_uri": "https://localhost:8080/",
          "height": 36
        },
        "id": "OmlFvCMepYLG",
        "outputId": "cf7af746-bc2b-4bdd-d2d4-7d2a1e3ea0cf"
      },
      "execution_count": null,
      "outputs": [
        {
          "output_type": "execute_result",
          "data": {
            "text/plain": [
              "'This document is discussing the terms and conditions of a policy related to HDFC Life Group Term Life.'"
            ],
            "application/vnd.google.colaboratory.intrinsic+json": {
              "type": "string"
            }
          },
          "metadata": {},
          "execution_count": 26
        }
      ]
    },
    {
      "cell_type": "code",
      "source": [
        "#Check the source node\n",
        "response.source_nodes"
      ],
      "metadata": {
        "colab": {
          "base_uri": "https://localhost:8080/"
        },
        "id": "sVxuWYsjD-hV",
        "outputId": "f3f31e4f-5bbb-4503-fd64-3a43785f95df"
      },
      "execution_count": null,
      "outputs": [
        {
          "output_type": "execute_result",
          "data": {
            "text/plain": [
              "[NodeWithScore(node=TextNode(id_='70125514-2045-4699-b1c9-0457d872209e', embedding=None, metadata={'file_name': 'essay2.docx', 'file_path': '/content/drive/MyDrive/Semantic_Spotter_Support/data2/essay2.docx', 'file_type': 'application/vnd.openxmlformats-officedocument.wordprocessingml.document', 'file_size': 20293, 'creation_date': '2024-01-14', 'last_modified_date': '2024-01-14', 'last_accessed_date': '2024-01-14'}, excluded_embed_metadata_keys=['file_name', 'file_type', 'file_size', 'creation_date', 'last_modified_date', 'last_accessed_date'], excluded_llm_metadata_keys=['file_name', 'file_type', 'file_size', 'creation_date', 'last_modified_date', 'last_accessed_date'], relationships={<NodeRelationship.SOURCE: '1'>: RelatedNodeInfo(node_id='bb838dc8-faad-4e1d-80f3-7c1b90ea5cd6', node_type=<ObjectType.DOCUMENT: '4'>, metadata={'file_name': 'essay2.docx', 'file_path': '/content/drive/MyDrive/Semantic_Spotter_Support/data2/essay2.docx', 'file_type': 'application/vnd.openxmlformats-officedocument.wordprocessingml.document', 'file_size': 20293, 'creation_date': '2024-01-14', 'last_modified_date': '2024-01-14', 'last_accessed_date': '2024-01-14'}, hash='d09d681cf1f4db65a0fa9bfc657569692012e64ac1bc11f1b1ce21874c5b619c'), <NodeRelationship.PREVIOUS: '2'>: RelatedNodeInfo(node_id='982fcccc-9a05-4080-a4c2-3829e6731561', node_type=<ObjectType.TEXT: '1'>, metadata={'file_name': 'essay1.docx', 'file_path': '/content/drive/MyDrive/Semantic_Spotter_Support/data2/essay1.docx', 'file_type': 'application/vnd.openxmlformats-officedocument.wordprocessingml.document', 'file_size': 22735, 'creation_date': '2024-01-14', 'last_modified_date': '2024-01-14', 'last_accessed_date': '2024-01-14'}, hash='30e3a5851f1c3346590d11b10f6e8a831f223ea62f4d85a352400cd52f3ebacd'), <NodeRelationship.NEXT: '3'>: RelatedNodeInfo(node_id='e4950230-a1d3-4e7a-bfa6-6b0d01c599ee', node_type=<ObjectType.TEXT: '1'>, metadata={}, hash='544336a8ac96d8ad7ee4e7739734f2eb66280f424fce70e93fb8c4c912f163dc')}, hash='900956106ed4d4d3f067c0bb957875f8731e4f5fb250cc1e48955179941228f1', text='December 2020\\n\\nTo celebrate Airbnb\\'s IPO and to help future founders, I thought it might be useful to explain what was special about Airbnb.\\n\\nWhat was special about the Airbnbs was how earnest they were. They did nothing half-way, and we could sense this even in the interview. Sometimes after we interviewed a startup we\\'d be uncertain what to do, and have to talk it over. Other times we\\'d just look at one another and smile. The Airbnbs\\' interview was that kind. We didn\\'t even like the idea that much. Nor did users, at that stage; they had no growth. But the founders seemed so full of energy that it was impossible not to like them.\\n\\nThat first impression was not misleading. During the batch our nickname for Brian Chesky was The Tasmanian Devil, because like the\\xa0cartoon character\\xa0he seemed a tornado of energy. All three of them were like that. No one ever worked harder during YC than the Airbnbs did. When you talked to the Airbnbs, they took notes. If you suggested an idea to them in office hours, the next time you talked to them they\\'d not only have implemented it, but also implemented two new ideas they had in the process. \"They probably have the best attitude of any startup we\\'ve funded\" I wrote to Mike Arrington during the batch.\\n\\nThey\\'re still like that. Jessica and I had dinner with Brian in the summer of 2018, just the three of us. By this point the company is ten years old. He took a page of notes about ideas for new things Airbnb could do.\\n\\nWhat we didn\\'t realize when we first met Brian and Joe and Nate was that Airbnb was on its last legs. After working on the company for a year and getting no growth, they\\'d agreed to give it one last shot. They\\'d try this Y Combinator thing, and if the company still didn\\'t take off, they\\'d give up.\\n\\nAny normal person would have given up already. They\\'d been funding the company with credit cards. They had a\\xa0binder\\xa0full of credit cards they\\'d maxed out. Investors didn\\'t think much of the idea. One investor they met in a cafe walked out in the middle of meeting with them. They thought he was going to the bathroom, but he never came back. \"He didn\\'t even finish his smoothie,\" Brian said. And now, in late 2008, it was the worst recession in decades. The stock market was in free fall and wouldn\\'t hit bottom for another four months.\\n\\nWhy hadn\\'t they given up? This is a useful question to ask. People, like matter, reveal their nature under extreme conditions. One thing that\\'s clear is that they weren\\'t doing this just for the money. As a money-making scheme, this was pretty lousy: a year\\'s work and all they had to show for it was a binder full of maxed-out credit cards. So why were they still working on this startup? Because of the experience they\\'d had as the first hosts.\\n\\nWhen they first tried renting out airbeds on their floor during a design convention, all they were hoping for was to make enough money to pay their rent that month. But something surprising happened: they enjoyed having those first three guests staying with them. And the guests enjoyed it too. Both they and the guests had done it because they were in a sense forced to, and yet they\\'d all had a great experience. Clearly there was something new here: for hosts, a new way to make money that had literally been right under their noses, and for guests, a new way to travel that was in many ways better than hotels.\\n\\nThat experience was why the Airbnbs didn\\'t give up. They knew they\\'d discovered something. They\\'d seen a glimpse of the future, and they couldn\\'t let it go.\\n\\nThey knew that once people tried staying in what is now called \"an airbnb,\" they would also realize that this was the future. But only if they tried it, and they weren\\'t. That was the problem during Y Combinator: to get growth started.\\n\\nAirbnb\\'s goal during YC was to reach what we call\\xa0ramen profitability, which means making enough money that the company can pay the founders\\' living expenses, if they live on ramen noodles. Ramen profitability is not, obviously, the end goal of any startup, but it\\'s the most important threshold on the way, because this is the point where you\\'re airborne. This is the point where you no longer need investors\\' permission to continue existing.', start_char_idx=0, end_char_idx=4212, text_template='{metadata_str}\\n\\n{content}', metadata_template='{key}: {value}', metadata_seperator='\\n'), score=0.834742504677633),\n",
              " NodeWithScore(node=TextNode(id_='e4950230-a1d3-4e7a-bfa6-6b0d01c599ee', embedding=None, metadata={'file_name': 'essay2.docx', 'file_path': '/content/drive/MyDrive/Semantic_Spotter_Support/data2/essay2.docx', 'file_type': 'application/vnd.openxmlformats-officedocument.wordprocessingml.document', 'file_size': 20293, 'creation_date': '2024-01-14', 'last_modified_date': '2024-01-14', 'last_accessed_date': '2024-01-14'}, excluded_embed_metadata_keys=['file_name', 'file_type', 'file_size', 'creation_date', 'last_modified_date', 'last_accessed_date'], excluded_llm_metadata_keys=['file_name', 'file_type', 'file_size', 'creation_date', 'last_modified_date', 'last_accessed_date'], relationships={<NodeRelationship.SOURCE: '1'>: RelatedNodeInfo(node_id='bb838dc8-faad-4e1d-80f3-7c1b90ea5cd6', node_type=<ObjectType.DOCUMENT: '4'>, metadata={'file_name': 'essay2.docx', 'file_path': '/content/drive/MyDrive/Semantic_Spotter_Support/data2/essay2.docx', 'file_type': 'application/vnd.openxmlformats-officedocument.wordprocessingml.document', 'file_size': 20293, 'creation_date': '2024-01-14', 'last_modified_date': '2024-01-14', 'last_accessed_date': '2024-01-14'}, hash='d09d681cf1f4db65a0fa9bfc657569692012e64ac1bc11f1b1ce21874c5b619c'), <NodeRelationship.PREVIOUS: '2'>: RelatedNodeInfo(node_id='70125514-2045-4699-b1c9-0457d872209e', node_type=<ObjectType.TEXT: '1'>, metadata={'file_name': 'essay2.docx', 'file_path': '/content/drive/MyDrive/Semantic_Spotter_Support/data2/essay2.docx', 'file_type': 'application/vnd.openxmlformats-officedocument.wordprocessingml.document', 'file_size': 20293, 'creation_date': '2024-01-14', 'last_modified_date': '2024-01-14', 'last_accessed_date': '2024-01-14'}, hash='43b0fdaa0c0fc1b87b4d628d46ae6bfd5945b7289e32f75df9ca1b53da3e0a85'), <NodeRelationship.NEXT: '3'>: RelatedNodeInfo(node_id='94457ccf-bcd2-4f4a-b9ab-4304d031b0d3', node_type=<ObjectType.TEXT: '1'>, metadata={}, hash='947621f1d0e1f97b75eb830d21a400668b35444487a19a13b7c36e64ae42d5df')}, hash='3cb0a0557159b27f5629337eba0bd4a57973d772f9c40403c64afbb0d1beeb66', text='That experience was why the Airbnbs didn\\'t give up. They knew they\\'d discovered something. They\\'d seen a glimpse of the future, and they couldn\\'t let it go.\\n\\nThey knew that once people tried staying in what is now called \"an airbnb,\" they would also realize that this was the future. But only if they tried it, and they weren\\'t. That was the problem during Y Combinator: to get growth started.\\n\\nAirbnb\\'s goal during YC was to reach what we call\\xa0ramen profitability, which means making enough money that the company can pay the founders\\' living expenses, if they live on ramen noodles. Ramen profitability is not, obviously, the end goal of any startup, but it\\'s the most important threshold on the way, because this is the point where you\\'re airborne. This is the point where you no longer need investors\\' permission to continue existing. For the Airbnbs, ramen profitability was $4000 a month: $3500 for rent, and $500 for food. They taped this goal to the mirror in the bathroom of their apartment.\\n\\nThe way to get growth started in something like Airbnb is to focus on the hottest subset of the market. If you can get growth started there, it will spread to the rest. When I asked the Airbnbs where there was most demand, they knew from searches: New York City. So they focused on New York. They went there\\xa0in person\\xa0to visit their hosts and help them make their listings more attractive. A big part of that was better pictures. So Joe and Brian rented a professional camera and took pictures of the hosts\\' places themselves.\\n\\nThis didn\\'t just make the listings better. It also taught them about their hosts. When they came back from their first trip to New York, I asked what they\\'d noticed about hosts that surprised them, and they said the biggest surprise was how many of the hosts were in the same position they\\'d been in: they needed this money to pay their rent. This was, remember, the worst recession in decades, and it had hit New York first. It definitely added to the Airbnbs\\' sense of mission to feel that people needed them.\\n\\nIn late January 2009, about three weeks into Y Combinator, their efforts started to show results, and their numbers crept upward. But it was hard to say for sure whether it was growth or just random fluctuation. By February it was clear that it was real growth. They made $460 in fees in the first week of February, $897 in the second, and $1428 in the third. That was it: they were airborne. Brian sent me an email on February 22 announcing that they were ramen profitable and giving the last three weeks\\' numbers.\\n\\n\"I assume you know what you\\'ve now set yourself up for next week,\" I responded.\\n\\nBrian\\'s reply was seven words: \"We are not going to slow down.\"', start_char_idx=3374, end_char_idx=6078, text_template='{metadata_str}\\n\\n{content}', metadata_template='{key}: {value}', metadata_seperator='\\n'), score=0.8244619603772242)]"
            ]
          },
          "metadata": {},
          "execution_count": 88
        }
      ]
    },
    {
      "cell_type": "code",
      "source": [
        "index --"
      ],
      "metadata": {
        "colab": {
          "base_uri": "https://localhost:8080/"
        },
        "id": "C5AMnjr7J_OI",
        "outputId": "2bd60d7e-8f09-4f16-87fe-9d9a5d553739"
      },
      "execution_count": null,
      "outputs": [
        {
          "output_type": "execute_result",
          "data": {
            "text/plain": [
              "<llama_index.core.indices.vector_store.base.VectorStoreIndex at 0x7ce072e552d0>"
            ]
          },
          "metadata": {},
          "execution_count": 35
        }
      ]
    },
    {
      "cell_type": "code",
      "source": [
        "#Extract the file name\n",
        "response.source_nodes[0].node.metadata['file_name']"
      ],
      "metadata": {
        "colab": {
          "base_uri": "https://localhost:8080/",
          "height": 35
        },
        "id": "BHfraCfd9MWS",
        "outputId": "1eeb5b25-7f4c-4fd4-a42f-e1c4915c1caa"
      },
      "execution_count": null,
      "outputs": [
        {
          "output_type": "execute_result",
          "data": {
            "text/plain": [
              "'essay2.docx'"
            ],
            "application/vnd.google.colaboratory.intrinsic+json": {
              "type": "string"
            }
          },
          "metadata": {},
          "execution_count": 89
        }
      ]
    },
    {
      "cell_type": "code",
      "source": [
        "#Extract the score\n",
        "response.source_nodes[1].score"
      ],
      "metadata": {
        "colab": {
          "base_uri": "https://localhost:8080/"
        },
        "id": "9jVroU2NEJMv",
        "outputId": "9e1c90fd-5594-486c-fc9a-2e73e52285a7"
      },
      "execution_count": null,
      "outputs": [
        {
          "output_type": "execute_result",
          "data": {
            "text/plain": [
              "0.8244619603772242"
            ]
          },
          "metadata": {},
          "execution_count": 90
        }
      ]
    },
    {
      "cell_type": "markdown",
      "source": [
        "Step 6 - Creating a response Pipeline\n",
        "\n",
        "User receives the response and the document that they can refer to"
      ],
      "metadata": {
        "id": "rEmEt1GfEtSO"
      }
    },
    {
      "cell_type": "code",
      "source": [
        "## Query response function\n",
        "def query_response(user_input):\n",
        "  response = query_engine.query(user_input)\n",
        "  file_name = response.source_nodes[0].node.metadata['file_name']\n",
        "  final_response = response.response + '\\n Check further at ' + file_name + ' document'\n",
        "  return final_response"
      ],
      "metadata": {
        "id": "DpDFsDUTxcjd"
      },
      "execution_count": null,
      "outputs": []
    },
    {
      "cell_type": "code",
      "source": [
        "def initialize_conv():\n",
        "  print('Feel free to ask Questions regarding essays of Paul Graham. Press exit once you are done')\n",
        "  while True:\n",
        "    user_input = input()\n",
        "    if user_input.lower() == 'exit':\n",
        "      print('Exiting the program... bye')\n",
        "      break\n",
        "    else:\n",
        "      response = query_response(user_input)\n",
        "      display(HTML(f'<p style=\"font-size:20px\">{response}</p>'))"
      ],
      "metadata": {
        "id": "kVdmrWRB02QF"
      },
      "execution_count": null,
      "outputs": []
    },
    {
      "cell_type": "code",
      "source": [
        "initialize_conv()"
      ],
      "metadata": {
        "colab": {
          "base_uri": "https://localhost:8080/",
          "height": 380
        },
        "id": "_MRdT1uxFR9L",
        "outputId": "2980da0e-f9c0-4196-8c55-40cfd943320e"
      },
      "execution_count": null,
      "outputs": [
        {
          "name": "stdout",
          "output_type": "stream",
          "text": [
            "Feel free to ask Questions regarding essays of Paul Graham. Press exit once you are done\n",
            "What is the opinion of the author on AirBNBs\n"
          ]
        },
        {
          "output_type": "display_data",
          "data": {
            "text/plain": [
              "<IPython.core.display.HTML object>"
            ],
            "text/html": [
              "<p style=\"font-size:20px\">The author has a positive opinion of Airbnb. They describe the founders as being earnest, full of energy, and having the best attitude of any startup funded by Y Combinator. The author also highlights the determination and resilience of the founders, as they continued working on Airbnb despite facing financial challenges and a lack of initial growth. The author emphasizes the importance of the experience the founders had as hosts and how it motivated them to continue pursuing their startup. Overall, the author admires the founders' vision and their ability to overcome obstacles.\n",
              " Check further at essay2.docx document</p>"
            ]
          },
          "metadata": {}
        },
        {
          "name": "stdout",
          "output_type": "stream",
          "text": [
            "What is the author's opinion on Indian startups\n"
          ]
        },
        {
          "output_type": "display_data",
          "data": {
            "text/plain": [
              "<IPython.core.display.HTML object>"
            ],
            "text/html": [
              "<p style=\"font-size:20px\">The author's opinion on Indian startups is not mentioned in the given context.\n",
              " Check further at essay1.docx document</p>"
            ]
          },
          "metadata": {}
        },
        {
          "name": "stdout",
          "output_type": "stream",
          "text": [
            "What is the author's opinion on how to become a billionaire?\n"
          ]
        },
        {
          "output_type": "display_data",
          "data": {
            "text/plain": [
              "<IPython.core.display.HTML object>"
            ],
            "text/html": [
              "<p style=\"font-size:20px\">The author's opinion on how to become a billionaire is that the most reliable way is to start a company that grows fast by making what users want. The author emphasizes the importance of delighting users and meeting their needs in order to achieve success and become a billionaire.\n",
              " Check further at essay3.docx document</p>"
            ]
          },
          "metadata": {}
        },
        {
          "output_type": "stream",
          "name": "stdout",
          "text": [
            "exit\n",
            "Exiting the program... bye\n"
          ]
        }
      ]
    },
    {
      "cell_type": "markdown",
      "source": [
        "Step 7 - Build a Testing Pipeline\n",
        "\n",
        "Here we feed a series of questions to the Q/A bot and store the responses along with the feedback on whether it's accurate or not from the user"
      ],
      "metadata": {
        "id": "LI5whpCoHbXb"
      }
    },
    {
      "cell_type": "code",
      "source": [
        "questions = ['What does the author say about AirbNb?', \"I want to be a billionaire. What does Paul Graham say about that?\",\n",
        "             'What is the opinion of the author on India?']"
      ],
      "metadata": {
        "id": "4IwV2ivRFVnj"
      },
      "execution_count": null,
      "outputs": []
    },
    {
      "cell_type": "code",
      "source": [
        "def testing_pipeline(questions):\n",
        "  test_feedback  = []\n",
        "  for i in questions:\n",
        "    print(i)\n",
        "    print(query_response(i))\n",
        "    print('\\n Please provide your feedback on the response provided by the bot')\n",
        "    user_input = input()\n",
        "    test_feedback.append((i,query_response(i),user_input))\n",
        "  feedback_df = pd.DataFrame(test_feedback, columns =['Question', 'Response', 'Good or Bad'])\n",
        "  return feedback_df"
      ],
      "metadata": {
        "id": "iYG7rV4ALiZB"
      },
      "execution_count": null,
      "outputs": []
    },
    {
      "cell_type": "code",
      "source": [
        "import pandas as pd"
      ],
      "metadata": {
        "id": "nn4V360bNtvY"
      },
      "execution_count": null,
      "outputs": []
    },
    {
      "cell_type": "code",
      "source": [
        "testing_pipeline(questions)"
      ],
      "metadata": {
        "colab": {
          "base_uri": "https://localhost:8080/",
          "height": 701
        },
        "id": "YsRWud2uMfch",
        "outputId": "3bc8f016-0584-4a9b-8e66-ea2136dd6437"
      },
      "execution_count": null,
      "outputs": [
        {
          "name": "stdout",
          "output_type": "stream",
          "text": [
            "What does the author say about AirbNb?\n",
            "The author describes Airbnb as a startup that initially faced challenges and had no growth. However, the founders of Airbnb were incredibly determined and hardworking, constantly implementing new ideas and taking notes during conversations. Despite facing financial difficulties and skepticism from investors, the founders did not give up because they had a positive experience as hosts and believed they had discovered something new. The author also mentions that Airbnb's goal during Y Combinator was to reach \"ramen profitability,\" which means making enough money to cover the founders' living expenses. The founders focused on the hottest subset of the market, which was New York City, and worked closely with hosts to improve their listings. Eventually, their efforts paid off, and Airbnb started experiencing real growth, becoming ramen profitable.\n",
            " Check further at essay2.docx document\n",
            "\n",
            " Please provide your feedback on the response provided by the bot\n",
            "Good\n",
            "I want to be a billionaire. What does Paul Graham say about that?\n",
            "Paul Graham says that the most reliable way to become a billionaire is to start a company that grows fast. He emphasizes that the key to growing fast is to make what users want. Delighting users and building something that satisfies their needs is crucial for the success of a startup. According to Graham, Y Combinator, a startup accelerator, looks for founders who understand a group of users and can create products or services that cater to their wants. Therefore, if you want to become a billionaire, it is important to focus on understanding what users want and building something that fulfills those desires.\n",
            " Check further at essay3.docx document\n",
            "\n",
            " Please provide your feedback on the response provided by the bot\n",
            "Bad\n",
            "What is the opinion of the author on India?\n",
            "The given context does not provide any information or opinion about India.\n",
            " Check further at essay1.docx document\n",
            "\n",
            " Please provide your feedback on the response provided by the bot\n",
            "Good\n"
          ]
        },
        {
          "output_type": "execute_result",
          "data": {
            "text/plain": [
              "                                            Question  \\\n",
              "0             What does the author say about AirbNb?   \n",
              "1  I want to be a billionaire. What does Paul Gra...   \n",
              "2        What is the opinion of the author on India?   \n",
              "\n",
              "                                            Response Good or Bad  \n",
              "0  The author describes Airbnb as a startup that ...        Good  \n",
              "1  Paul Graham says that the most reliable way to...         Bad  \n",
              "2  The given context does not provide any informa...        Good  "
            ],
            "text/html": [
              "\n",
              "  <div id=\"df-65ebf966-5d04-4b10-87bb-a77b31fcd95e\" class=\"colab-df-container\">\n",
              "    <div>\n",
              "<style scoped>\n",
              "    .dataframe tbody tr th:only-of-type {\n",
              "        vertical-align: middle;\n",
              "    }\n",
              "\n",
              "    .dataframe tbody tr th {\n",
              "        vertical-align: top;\n",
              "    }\n",
              "\n",
              "    .dataframe thead th {\n",
              "        text-align: right;\n",
              "    }\n",
              "</style>\n",
              "<table border=\"1\" class=\"dataframe\">\n",
              "  <thead>\n",
              "    <tr style=\"text-align: right;\">\n",
              "      <th></th>\n",
              "      <th>Question</th>\n",
              "      <th>Response</th>\n",
              "      <th>Good or Bad</th>\n",
              "    </tr>\n",
              "  </thead>\n",
              "  <tbody>\n",
              "    <tr>\n",
              "      <th>0</th>\n",
              "      <td>What does the author say about AirbNb?</td>\n",
              "      <td>The author describes Airbnb as a startup that ...</td>\n",
              "      <td>Good</td>\n",
              "    </tr>\n",
              "    <tr>\n",
              "      <th>1</th>\n",
              "      <td>I want to be a billionaire. What does Paul Gra...</td>\n",
              "      <td>Paul Graham says that the most reliable way to...</td>\n",
              "      <td>Bad</td>\n",
              "    </tr>\n",
              "    <tr>\n",
              "      <th>2</th>\n",
              "      <td>What is the opinion of the author on India?</td>\n",
              "      <td>The given context does not provide any informa...</td>\n",
              "      <td>Good</td>\n",
              "    </tr>\n",
              "  </tbody>\n",
              "</table>\n",
              "</div>\n",
              "    <div class=\"colab-df-buttons\">\n",
              "\n",
              "  <div class=\"colab-df-container\">\n",
              "    <button class=\"colab-df-convert\" onclick=\"convertToInteractive('df-65ebf966-5d04-4b10-87bb-a77b31fcd95e')\"\n",
              "            title=\"Convert this dataframe to an interactive table.\"\n",
              "            style=\"display:none;\">\n",
              "\n",
              "  <svg xmlns=\"http://www.w3.org/2000/svg\" height=\"24px\" viewBox=\"0 -960 960 960\">\n",
              "    <path d=\"M120-120v-720h720v720H120Zm60-500h600v-160H180v160Zm220 220h160v-160H400v160Zm0 220h160v-160H400v160ZM180-400h160v-160H180v160Zm440 0h160v-160H620v160ZM180-180h160v-160H180v160Zm440 0h160v-160H620v160Z\"/>\n",
              "  </svg>\n",
              "    </button>\n",
              "\n",
              "  <style>\n",
              "    .colab-df-container {\n",
              "      display:flex;\n",
              "      gap: 12px;\n",
              "    }\n",
              "\n",
              "    .colab-df-convert {\n",
              "      background-color: #E8F0FE;\n",
              "      border: none;\n",
              "      border-radius: 50%;\n",
              "      cursor: pointer;\n",
              "      display: none;\n",
              "      fill: #1967D2;\n",
              "      height: 32px;\n",
              "      padding: 0 0 0 0;\n",
              "      width: 32px;\n",
              "    }\n",
              "\n",
              "    .colab-df-convert:hover {\n",
              "      background-color: #E2EBFA;\n",
              "      box-shadow: 0px 1px 2px rgba(60, 64, 67, 0.3), 0px 1px 3px 1px rgba(60, 64, 67, 0.15);\n",
              "      fill: #174EA6;\n",
              "    }\n",
              "\n",
              "    .colab-df-buttons div {\n",
              "      margin-bottom: 4px;\n",
              "    }\n",
              "\n",
              "    [theme=dark] .colab-df-convert {\n",
              "      background-color: #3B4455;\n",
              "      fill: #D2E3FC;\n",
              "    }\n",
              "\n",
              "    [theme=dark] .colab-df-convert:hover {\n",
              "      background-color: #434B5C;\n",
              "      box-shadow: 0px 1px 3px 1px rgba(0, 0, 0, 0.15);\n",
              "      filter: drop-shadow(0px 1px 2px rgba(0, 0, 0, 0.3));\n",
              "      fill: #FFFFFF;\n",
              "    }\n",
              "  </style>\n",
              "\n",
              "    <script>\n",
              "      const buttonEl =\n",
              "        document.querySelector('#df-65ebf966-5d04-4b10-87bb-a77b31fcd95e button.colab-df-convert');\n",
              "      buttonEl.style.display =\n",
              "        google.colab.kernel.accessAllowed ? 'block' : 'none';\n",
              "\n",
              "      async function convertToInteractive(key) {\n",
              "        const element = document.querySelector('#df-65ebf966-5d04-4b10-87bb-a77b31fcd95e');\n",
              "        const dataTable =\n",
              "          await google.colab.kernel.invokeFunction('convertToInteractive',\n",
              "                                                    [key], {});\n",
              "        if (!dataTable) return;\n",
              "\n",
              "        const docLinkHtml = 'Like what you see? Visit the ' +\n",
              "          '<a target=\"_blank\" href=https://colab.research.google.com/notebooks/data_table.ipynb>data table notebook</a>'\n",
              "          + ' to learn more about interactive tables.';\n",
              "        element.innerHTML = '';\n",
              "        dataTable['output_type'] = 'display_data';\n",
              "        await google.colab.output.renderOutput(dataTable, element);\n",
              "        const docLink = document.createElement('div');\n",
              "        docLink.innerHTML = docLinkHtml;\n",
              "        element.appendChild(docLink);\n",
              "      }\n",
              "    </script>\n",
              "  </div>\n",
              "\n",
              "\n",
              "<div id=\"df-fd0266e4-86ba-4dea-b6a0-eca68c6ff81c\">\n",
              "  <button class=\"colab-df-quickchart\" onclick=\"quickchart('df-fd0266e4-86ba-4dea-b6a0-eca68c6ff81c')\"\n",
              "            title=\"Suggest charts\"\n",
              "            style=\"display:none;\">\n",
              "\n",
              "<svg xmlns=\"http://www.w3.org/2000/svg\" height=\"24px\"viewBox=\"0 0 24 24\"\n",
              "     width=\"24px\">\n",
              "    <g>\n",
              "        <path d=\"M19 3H5c-1.1 0-2 .9-2 2v14c0 1.1.9 2 2 2h14c1.1 0 2-.9 2-2V5c0-1.1-.9-2-2-2zM9 17H7v-7h2v7zm4 0h-2V7h2v10zm4 0h-2v-4h2v4z\"/>\n",
              "    </g>\n",
              "</svg>\n",
              "  </button>\n",
              "\n",
              "<style>\n",
              "  .colab-df-quickchart {\n",
              "      --bg-color: #E8F0FE;\n",
              "      --fill-color: #1967D2;\n",
              "      --hover-bg-color: #E2EBFA;\n",
              "      --hover-fill-color: #174EA6;\n",
              "      --disabled-fill-color: #AAA;\n",
              "      --disabled-bg-color: #DDD;\n",
              "  }\n",
              "\n",
              "  [theme=dark] .colab-df-quickchart {\n",
              "      --bg-color: #3B4455;\n",
              "      --fill-color: #D2E3FC;\n",
              "      --hover-bg-color: #434B5C;\n",
              "      --hover-fill-color: #FFFFFF;\n",
              "      --disabled-bg-color: #3B4455;\n",
              "      --disabled-fill-color: #666;\n",
              "  }\n",
              "\n",
              "  .colab-df-quickchart {\n",
              "    background-color: var(--bg-color);\n",
              "    border: none;\n",
              "    border-radius: 50%;\n",
              "    cursor: pointer;\n",
              "    display: none;\n",
              "    fill: var(--fill-color);\n",
              "    height: 32px;\n",
              "    padding: 0;\n",
              "    width: 32px;\n",
              "  }\n",
              "\n",
              "  .colab-df-quickchart:hover {\n",
              "    background-color: var(--hover-bg-color);\n",
              "    box-shadow: 0 1px 2px rgba(60, 64, 67, 0.3), 0 1px 3px 1px rgba(60, 64, 67, 0.15);\n",
              "    fill: var(--button-hover-fill-color);\n",
              "  }\n",
              "\n",
              "  .colab-df-quickchart-complete:disabled,\n",
              "  .colab-df-quickchart-complete:disabled:hover {\n",
              "    background-color: var(--disabled-bg-color);\n",
              "    fill: var(--disabled-fill-color);\n",
              "    box-shadow: none;\n",
              "  }\n",
              "\n",
              "  .colab-df-spinner {\n",
              "    border: 2px solid var(--fill-color);\n",
              "    border-color: transparent;\n",
              "    border-bottom-color: var(--fill-color);\n",
              "    animation:\n",
              "      spin 1s steps(1) infinite;\n",
              "  }\n",
              "\n",
              "  @keyframes spin {\n",
              "    0% {\n",
              "      border-color: transparent;\n",
              "      border-bottom-color: var(--fill-color);\n",
              "      border-left-color: var(--fill-color);\n",
              "    }\n",
              "    20% {\n",
              "      border-color: transparent;\n",
              "      border-left-color: var(--fill-color);\n",
              "      border-top-color: var(--fill-color);\n",
              "    }\n",
              "    30% {\n",
              "      border-color: transparent;\n",
              "      border-left-color: var(--fill-color);\n",
              "      border-top-color: var(--fill-color);\n",
              "      border-right-color: var(--fill-color);\n",
              "    }\n",
              "    40% {\n",
              "      border-color: transparent;\n",
              "      border-right-color: var(--fill-color);\n",
              "      border-top-color: var(--fill-color);\n",
              "    }\n",
              "    60% {\n",
              "      border-color: transparent;\n",
              "      border-right-color: var(--fill-color);\n",
              "    }\n",
              "    80% {\n",
              "      border-color: transparent;\n",
              "      border-right-color: var(--fill-color);\n",
              "      border-bottom-color: var(--fill-color);\n",
              "    }\n",
              "    90% {\n",
              "      border-color: transparent;\n",
              "      border-bottom-color: var(--fill-color);\n",
              "    }\n",
              "  }\n",
              "</style>\n",
              "\n",
              "  <script>\n",
              "    async function quickchart(key) {\n",
              "      const quickchartButtonEl =\n",
              "        document.querySelector('#' + key + ' button');\n",
              "      quickchartButtonEl.disabled = true;  // To prevent multiple clicks.\n",
              "      quickchartButtonEl.classList.add('colab-df-spinner');\n",
              "      try {\n",
              "        const charts = await google.colab.kernel.invokeFunction(\n",
              "            'suggestCharts', [key], {});\n",
              "      } catch (error) {\n",
              "        console.error('Error during call to suggestCharts:', error);\n",
              "      }\n",
              "      quickchartButtonEl.classList.remove('colab-df-spinner');\n",
              "      quickchartButtonEl.classList.add('colab-df-quickchart-complete');\n",
              "    }\n",
              "    (() => {\n",
              "      let quickchartButtonEl =\n",
              "        document.querySelector('#df-fd0266e4-86ba-4dea-b6a0-eca68c6ff81c button');\n",
              "      quickchartButtonEl.style.display =\n",
              "        google.colab.kernel.accessAllowed ? 'block' : 'none';\n",
              "    })();\n",
              "  </script>\n",
              "</div>\n",
              "    </div>\n",
              "  </div>\n"
            ]
          },
          "metadata": {},
          "execution_count": 99
        }
      ]
    },
    {
      "cell_type": "markdown",
      "source": [
        "### Part 3 - Next Steps/ Overall Recommendations\n",
        "\n"
      ],
      "metadata": {
        "id": "gB1Jhv4TOpNR"
      }
    },
    {
      "cell_type": "markdown",
      "source": [
        "- Based on the testing pipeline's feedback develop a strategy on how to improve the POC further\n",
        "  - This can be through building a better/cleaner dataset, or utilizing better data pre-processing techniques\n",
        "- If the accuracy is good enough, think of implementing some more use cases and user stories. Maybe a set of users want to do XYZ, and that requirement needs to be implemented in the solution. Think of a proper tool that can enable you to do that.\n",
        "- Few suggestions based on the common tools that we have in the pipeline"
      ],
      "metadata": {
        "id": "4XdYKk_cVx7L"
      }
    },
    {
      "cell_type": "code",
      "source": [],
      "metadata": {
        "id": "Tgr0zCCSOtRk"
      },
      "execution_count": null,
      "outputs": []
    }
  ]
}